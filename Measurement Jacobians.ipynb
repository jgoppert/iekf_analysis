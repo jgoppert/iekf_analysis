{
 "cells": [
  {
   "cell_type": "code",
   "execution_count": 2,
   "metadata": {
    "collapsed": true
   },
   "outputs": [],
   "source": [
    "from __future__ import print_function\n",
    "import sympy\n",
    "import sympy.physics.mechanics as mech\n",
    "sympy.init_printing()"
   ]
  },
  {
   "cell_type": "code",
   "execution_count": 3,
   "metadata": {
    "collapsed": false
   },
   "outputs": [],
   "source": [
    "rot_N, rot_E, rot_D, vel_N, vel_E, vel_D, \\\n",
    "    gyro_bias_N, gyro_bias_E, gyro_bias_D, accel_scale, \\\n",
    "    pos_N, pos_E, asl, terrain_asl, baro_bias, \\\n",
    "    wind_N, wind_E, wind_D, d, agl, phi, theta, psi  = sympy.symbols(\n",
    "    'rot_N, rot_E, rot_D, vel_N, vel_E, vel_D, ' \\\n",
    "    'gyro_bias_N, gyro_bias_E, gyro_bias_D, accel_scale, ' \\\n",
    "    'pos_N, pos_E, asl, terrain_asl, baro_bias, ' \\\n",
    "    'wind_N, wind_E, wind_D, d, agl, phi, theta, psi') \n",
    "frame_i = mech.ReferenceFrame('i')\n",
    "frame_n = frame_i.orientnew('n', 'Quaternion', (1, rot_N, rot_E, rot_D))\n",
    "#frame_b = frame_n.orientnew('b', 'Quaternion', (q_0, q_1, q_2, q_3)) \n",
    "# easier to see where we get divide by zeros if we express dcm in euler angles\n",
    "frame_b = frame_n.orientnew('b', 'Body', (psi, theta, phi), '321')\n",
    "C_nb = frame_n.dcm(frame_b)\n",
    "assert C_nb[0, 1] == frame_n.x.dot(frame_b.y)\n",
    "sub_C_nb = {}\n",
    "for i in range(3):\n",
    "    for j in range(3):\n",
    "        sub_C_nb[C_nb[i, j]] = sympy.Symbol('C_nb({:d}, {:d})'.format(i, j))\n",
    "        sub_C_nb[-C_nb[i, j]] = -sympy.Symbol('C_nb({:d}, {:d})'.format(i, j))\n",
    "sub_C_nb\n",
    "sub_lin = {\n",
    "    rot_N: 0,\n",
    "    rot_E: 0,\n",
    "    rot_D: 0,\n",
    "    gyro_bias_N: 0,\n",
    "    gyro_bias_E: 0,\n",
    "    gyro_bias_D: 0\n",
    "}\n",
    "sub_agl = {\n",
    "    asl - terrain_asl: agl\n",
    "}\n",
    "omega_bx, omega_by, omega_bz = sympy.symbols('omega_bx, omega_by, omega_bz')\n",
    "flowX, flowY = sympy.symbols('flowX, flowY')\n",
    "omega_ib_b = omega_bx * frame_b.x \\\n",
    "    + omega_by * frame_b.y \\\n",
    "    + omega_bz * frame_b.z\n",
    "gyro_bias_i = gyro_bias_N * frame_i.x \\\n",
    "    + gyro_bias_E * frame_i.y \\\n",
    "    + gyro_bias_D * frame_i.z"
   ]
  },
  {
   "cell_type": "code",
   "execution_count": 4,
   "metadata": {
    "collapsed": false
   },
   "outputs": [
    {
     "data": {
      "text/latex": [
       "$$\\left[\\begin{array}{ccccccccccccccccc}rot_{N} & rot_{E} & rot_{D} & vel_{N} & vel_{E} & vel_{D} & gyro_{bias N} & gyro_{bias E} & gyro_{bias D} & pos_{N} & pos_{E} & asl & terrain_{asl} & baro_{bias} & wind_{N} & wind_{E} & wind_{D}\\end{array}\\right]$$"
      ],
      "text/plain": [
       "[rot_N  rot_E  rot_D  vel_N  vel_E  vel_D  gyro_bias_N  gyro_bias_E  gyro_bias\n",
       "_D  pos_N  pos_E  asl  terrainₐₛₗ  baro_bias  wind_N  wind_E  wind_D]"
      ]
     },
     "execution_count": 4,
     "metadata": {},
     "output_type": "execute_result"
    }
   ],
   "source": [
    "xe = sympy.Matrix([rot_N, rot_E, rot_D, vel_N, vel_E, vel_D, gyro_bias_N, gyro_bias_E, gyro_bias_D,\n",
    "                   pos_N, pos_E, asl, terrain_asl, baro_bias, wind_N, wind_E, wind_D])\n",
    "xe.T"
   ]
  },
  {
   "cell_type": "code",
   "execution_count": 5,
   "metadata": {
    "collapsed": true
   },
   "outputs": [],
   "source": [
    "def print_terms(terms):\n",
    "    for t in terms:\n",
    "        print('float {:s} = {:s};'.format(\n",
    "                str(t[0]), str(t[1])))\n",
    "        \n",
    "def matrix_to_code(name, mat, i_name, i_syms, j_name, j_syms):\n",
    "    print('Matrix<float, {:s}n, {:s}n> H;'.format(i_name, j_name))\n",
    "    mat.simplify()\n",
    "    terms, mat = sympy.cse(mat)\n",
    "    print_terms(terms)\n",
    "    mat = mat[0]\n",
    "    for i in range(mat.shape[0]):\n",
    "        for j in range(mat.shape[1]):\n",
    "            if str(mat[i, j]) == \"0\":\n",
    "                continue\n",
    "            print('{:s}({:s}{:s}, {:s}{:s}) = {:s};'.format(\n",
    "                str(name), i_name, str(i_syms[i]),\n",
    "                j_name, str(j_syms[j]), str(mat[i, j])))"
   ]
  },
  {
   "cell_type": "markdown",
   "metadata": {},
   "source": [
    "## Airspeed"
   ]
  },
  {
   "cell_type": "code",
   "execution_count": 6,
   "metadata": {
    "collapsed": false
   },
   "outputs": [],
   "source": [
    "wind_i = wind_N*frame_i.x + wind_E*frame_i.y + wind_D*frame_i.z\n",
    "vel_i = vel_N*frame_i.x + vel_E*frame_i.y + vel_D*frame_i.z"
   ]
  },
  {
   "cell_type": "code",
   "execution_count": 7,
   "metadata": {
    "collapsed": false
   },
   "outputs": [
    {
     "data": {
      "text/latex": [
       "$$\\left[\\begin{matrix}\\left(- vel_{D} + wind_{D}\\right) \\left(- C_{nb(0, 0)} \\left(2 rot_{D} rot_{N} - 2 rot_{E}\\right) - C_{nb(1, 0)} \\left(2 rot_{D} rot_{E} + 2 rot_{N}\\right) - C_{nb(2, 0)} \\left(rot_{D}^{2} - rot_{E}^{2} - rot_{N}^{2} + 1\\right)\\right) + \\left(- vel_{E} + wind_{E}\\right) \\left(- C_{nb(0, 0)} \\left(2 rot_{D} + 2 rot_{E} rot_{N}\\right) - C_{nb(1, 0)} \\left(- rot_{D}^{2} + rot_{E}^{2} - rot_{N}^{2} + 1\\right) - C_{nb(2, 0)} \\left(2 rot_{D} rot_{E} - 2 rot_{N}\\right)\\right) + \\left(- vel_{N} + wind_{N}\\right) \\left(- C_{nb(0, 0)} \\left(- rot_{D}^{2} - rot_{E}^{2} + rot_{N}^{2} + 1\\right) - C_{nb(1, 0)} \\left(- 2 rot_{D} + 2 rot_{E} rot_{N}\\right) - C_{nb(2, 0)} \\left(2 rot_{D} rot_{N} + 2 rot_{E}\\right)\\right)\\end{matrix}\\right]$$"
      ],
      "text/plain": [
       "⎡                  ⎛                                                          \n",
       "⎣(-vel_D + wind_D)⋅⎝-C_nb(0, 0)⋅(2⋅rot_D⋅rot_N - 2⋅rot_E) - C_nb(1, 0)⋅(2⋅rot_\n",
       "\n",
       "                                ⎛     2        2        2    ⎞⎞               \n",
       "D⋅rot_E + 2⋅rot_N) - C_nb(2, 0)⋅⎝rot_D  - rot_E  - rot_N  + 1⎠⎠ + (-vel_E + wi\n",
       "\n",
       "      ⎛                                                   ⎛       2        2  \n",
       "nd_E)⋅⎝-C_nb(0, 0)⋅(2⋅rot_D + 2⋅rot_E⋅rot_N) - C_nb(1, 0)⋅⎝- rot_D  + rot_E  -\n",
       "\n",
       "      2    ⎞                                       ⎞                     ⎛    \n",
       " rot_N  + 1⎠ - C_nb(2, 0)⋅(2⋅rot_D⋅rot_E - 2⋅rot_N)⎠ + (-vel_N + wind_N)⋅⎝- C_\n",
       "\n",
       "         ⎛       2        2        2    ⎞                                     \n",
       "nb(0, 0)⋅⎝- rot_D  - rot_E  + rot_N  + 1⎠ - C_nb(1, 0)⋅(-2⋅rot_D + 2⋅rot_E⋅rot\n",
       "\n",
       "                                          ⎞⎤\n",
       "_N) - C_nb(2, 0)⋅(2⋅rot_D⋅rot_N + 2⋅rot_E)⎠⎦"
      ]
     },
     "execution_count": 7,
     "metadata": {},
     "output_type": "execute_result"
    }
   ],
   "source": [
    "rel_wind = wind_i - vel_i\n",
    "y_airspeed = sympy.Matrix([rel_wind.dot(-frame_b.x)]).subs(sub_C_nb)\n",
    "y_airspeed"
   ]
  },
  {
   "cell_type": "code",
   "execution_count": 8,
   "metadata": {
    "collapsed": false
   },
   "outputs": [
    {
     "data": {
      "text/latex": [
       "$$\\left[\\begin{matrix}- 2 C_{nb(1, 0)} \\left(- vel_{D} + wind_{D}\\right) + 2 C_{nb(2, 0)} \\left(- vel_{E} + wind_{E}\\right)\\\\2 C_{nb(0, 0)} \\left(- vel_{D} + wind_{D}\\right) - 2 C_{nb(2, 0)} \\left(- vel_{N} + wind_{N}\\right)\\\\- 2 C_{nb(0, 0)} \\left(- vel_{E} + wind_{E}\\right) + 2 C_{nb(1, 0)} \\left(- vel_{N} + wind_{N}\\right)\\\\C_{nb(0, 0)}\\\\C_{nb(1, 0)}\\\\C_{nb(2, 0)}\\\\0\\\\0\\\\0\\\\0\\\\0\\\\0\\\\0\\\\0\\\\- C_{nb(0, 0)}\\\\- C_{nb(1, 0)}\\\\- C_{nb(2, 0)}\\end{matrix}\\right]$$"
      ],
      "text/plain": [
       "⎡-2⋅C_nb(1, 0)⋅(-vel_D + wind_D) + 2⋅C_nb(2, 0)⋅(-vel_E + wind_E)⎤\n",
       "⎢                                                                ⎥\n",
       "⎢2⋅C_nb(0, 0)⋅(-vel_D + wind_D) - 2⋅C_nb(2, 0)⋅(-vel_N + wind_N) ⎥\n",
       "⎢                                                                ⎥\n",
       "⎢-2⋅C_nb(0, 0)⋅(-vel_E + wind_E) + 2⋅C_nb(1, 0)⋅(-vel_N + wind_N)⎥\n",
       "⎢                                                                ⎥\n",
       "⎢                           C_nb(0, 0)                           ⎥\n",
       "⎢                                                                ⎥\n",
       "⎢                           C_nb(1, 0)                           ⎥\n",
       "⎢                                                                ⎥\n",
       "⎢                           C_nb(2, 0)                           ⎥\n",
       "⎢                                                                ⎥\n",
       "⎢                               0                                ⎥\n",
       "⎢                                                                ⎥\n",
       "⎢                               0                                ⎥\n",
       "⎢                                                                ⎥\n",
       "⎢                               0                                ⎥\n",
       "⎢                                                                ⎥\n",
       "⎢                               0                                ⎥\n",
       "⎢                                                                ⎥\n",
       "⎢                               0                                ⎥\n",
       "⎢                                                                ⎥\n",
       "⎢                               0                                ⎥\n",
       "⎢                                                                ⎥\n",
       "⎢                               0                                ⎥\n",
       "⎢                                                                ⎥\n",
       "⎢                               0                                ⎥\n",
       "⎢                                                                ⎥\n",
       "⎢                          -C_nb(0, 0)                           ⎥\n",
       "⎢                                                                ⎥\n",
       "⎢                          -C_nb(1, 0)                           ⎥\n",
       "⎢                                                                ⎥\n",
       "⎣                          -C_nb(2, 0)                           ⎦"
      ]
     },
     "execution_count": 8,
     "metadata": {},
     "output_type": "execute_result"
    }
   ],
   "source": [
    "H_airspeed = y_airspeed.jacobian(xe).subs(sub_lin)\n",
    "H_airspeed.T"
   ]
  },
  {
   "cell_type": "code",
   "execution_count": 9,
   "metadata": {
    "collapsed": false
   },
   "outputs": [
    {
     "name": "stdout",
     "output_type": "stream",
     "text": [
      "Matrix<float, Y_airspeed::n, Xe::n> H;\n",
      "float x0 = 2*C_nb(1, 0);\n",
      "float x1 = vel_D - wind_D;\n",
      "float x2 = 2*C_nb(2, 0);\n",
      "float x3 = vel_E - wind_E;\n",
      "float x4 = 2*C_nb(0, 0);\n",
      "float x5 = vel_N - wind_N;\n",
      "H(Y_airspeed::airspeed, Xe::rot_N) = x0*x1 - x2*x3;\n",
      "H(Y_airspeed::airspeed, Xe::rot_E) = -x1*x4 + x2*x5;\n",
      "H(Y_airspeed::airspeed, Xe::rot_D) = -x0*x5 + x3*x4;\n",
      "H(Y_airspeed::airspeed, Xe::vel_N) = C_nb(0, 0);\n",
      "H(Y_airspeed::airspeed, Xe::vel_E) = C_nb(1, 0);\n",
      "H(Y_airspeed::airspeed, Xe::vel_D) = C_nb(2, 0);\n",
      "H(Y_airspeed::airspeed, Xe::wind_N) = -C_nb(0, 0);\n",
      "H(Y_airspeed::airspeed, Xe::wind_E) = -C_nb(1, 0);\n",
      "H(Y_airspeed::airspeed, Xe::wind_D) = -C_nb(2, 0);\n"
     ]
    }
   ],
   "source": [
    "matrix_to_code('H', H_airspeed,\n",
    "               'Y_airspeed::', [sympy.Symbol('airspeed')],\n",
    "               'Xe::', xe)"
   ]
  },
  {
   "cell_type": "markdown",
   "metadata": {
    "collapsed": true
   },
   "source": [
    "## Distance"
   ]
  },
  {
   "cell_type": "code",
   "execution_count": 10,
   "metadata": {
    "collapsed": false
   },
   "outputs": [
    {
     "data": {
      "image/png": "[encoded data removed]",
      "text/latex": [
       "$$\\frac{agl}{2 C_{nb(0, 2)} rot_{D} rot_{N} - 2 C_{nb(0, 2)} rot_{E} + 2 C_{nb(1, 2)} rot_{D} rot_{E} + 2 C_{nb(1, 2)} rot_{N} + C_{nb(2, 2)} rot_{D}^{2} - C_{nb(2, 2)} rot_{E}^{2} - C_{nb(2, 2)} rot_{N}^{2} + C_{nb(2, 2)}}$$"
      ],
      "text/plain": [
       "                                                                              \n",
       "──────────────────────────────────────────────────────────────────────────────\n",
       "                                                                              \n",
       "2⋅C_nb(0, 2)⋅rot_D⋅rot_N - 2⋅C_nb(0, 2)⋅rot_E + 2⋅C_nb(1, 2)⋅rot_D⋅rot_E + 2⋅C\n",
       "\n",
       "   agl                                                                        \n",
       "──────────────────────────────────────────────────────────────────────────────\n",
       "                                  2                   2                   2   \n",
       "_nb(1, 2)⋅rot_N + C_nb(2, 2)⋅rot_D  - C_nb(2, 2)⋅rot_E  - C_nb(2, 2)⋅rot_N  + \n",
       "\n",
       "          \n",
       "──────────\n",
       "          \n",
       "C_nb(2, 2)"
      ]
     },
     "execution_count": 10,
     "metadata": {},
     "output_type": "execute_result"
    }
   ],
   "source": [
    "d_eq = sympy.solve((d*frame_b.z).dot(frame_i.z).subs(sub_C_nb) - (asl - terrain_asl), d)[0]\n",
    "d_eq.subs(sub_agl)"
   ]
  },
  {
   "cell_type": "code",
   "execution_count": 11,
   "metadata": {
    "collapsed": false
   },
   "outputs": [
    {
     "data": {
      "image/png": "[encoded data removed]",
      "text/latex": [
       "$$\\frac{agl}{C_{nb(2, 2)}}$$"
      ],
      "text/plain": [
       "   agl    \n",
       "──────────\n",
       "C_nb(2, 2)"
      ]
     },
     "execution_count": 11,
     "metadata": {},
     "output_type": "execute_result"
    }
   ],
   "source": [
    "y_dist = sympy.Matrix([d_eq]).subs(sub_C_nb)\n",
    "y_dist[0].subs(sub_lin).subs(sub_agl)"
   ]
  },
  {
   "cell_type": "code",
   "execution_count": 12,
   "metadata": {
    "collapsed": false
   },
   "outputs": [
    {
     "data": {
      "text/latex": [
       "$$\\left[\\begin{array}{ccccccccccccccccc}rot_{N} & rot_{E} & rot_{D} & vel_{N} & vel_{E} & vel_{D} & gyro_{bias N} & gyro_{bias E} & gyro_{bias D} & pos_{N} & pos_{E} & asl & terrain_{asl} & baro_{bias} & wind_{N} & wind_{E} & wind_{D}\\end{array}\\right]$$"
      ],
      "text/plain": [
       "[rot_N  rot_E  rot_D  vel_N  vel_E  vel_D  gyro_bias_N  gyro_bias_E  gyro_bias\n",
       "_D  pos_N  pos_E  asl  terrainₐₛₗ  baro_bias  wind_N  wind_E  wind_D]"
      ]
     },
     "execution_count": 12,
     "metadata": {},
     "output_type": "execute_result"
    }
   ],
   "source": [
    "xe.T"
   ]
  },
  {
   "cell_type": "code",
   "execution_count": 13,
   "metadata": {
    "collapsed": false
   },
   "outputs": [
    {
     "name": "stdout",
     "output_type": "stream",
     "text": [
      "Matrix<float, Y_distance_down::n, Xe::n> H;\n",
      "float x0 = 2*agl/C_nb(2, 2)**2;\n",
      "float x1 = 1/C_nb(2, 2);\n",
      "H(Y_distance_down::d, Xe::rot_N) = -C_nb(1, 2)*x0;\n",
      "H(Y_distance_down::d, Xe::rot_E) = C_nb(0, 2)*x0;\n",
      "H(Y_distance_down::d, Xe::asl) = x1;\n",
      "H(Y_distance_down::d, Xe::terrain_asl) = -x1;\n"
     ]
    }
   ],
   "source": [
    "H_distance = y_dist.jacobian(xe).subs(sub_lin).subs(sub_agl)\n",
    "H_distance.T\n",
    "matrix_to_code('H', H_distance, 'Y_distance_down::',\n",
    "               [sympy.symbols('d')], 'Xe::', xe)"
   ]
  },
  {
   "cell_type": "markdown",
   "metadata": {},
   "source": [
    "## Optical Flow"
   ]
  },
  {
   "cell_type": "code",
   "execution_count": 68,
   "metadata": {
    "collapsed": false
   },
   "outputs": [],
   "source": [
    "y_flow_sym = [flowX, flowY]\n",
    "omega_b = (omega_ib_b - gyro_bias_i).express(frame_b)"
   ]
  },
  {
   "cell_type": "code",
   "execution_count": 73,
   "metadata": {
    "collapsed": false
   },
   "outputs": [],
   "source": [
    "vel_f_b = -vel_i - omega_b.cross(d_eq*frame_b.z)\n",
    "y_flow = sympy.Matrix([\n",
    "    vel_f_b.dot(frame_b.y)/d_eq,\n",
    "    vel_f_b.dot(frame_b.x)/d_eq,\n",
    "    ]).subs(sub_C_nb)"
   ]
  },
  {
   "cell_type": "code",
   "execution_count": 81,
   "metadata": {
    "collapsed": false
   },
   "outputs": [
    {
     "data": {
      "text/latex": [
       "$$\\left[\\begin{matrix}\\frac{1}{agl} \\left(- C_{nb(2, 2)} \\left(C_{nb(0, 1)} vel_{N} + C_{nb(1, 1)} vel_{E} + C_{nb(2, 1)} vel_{D}\\right) + agl \\omega_{bx}\\right)\\\\- \\frac{1}{agl} \\left(C_{nb(2, 2)} \\left(C_{nb(0, 0)} vel_{N} + C_{nb(1, 0)} vel_{E} + C_{nb(2, 0)} vel_{D}\\right) + agl \\omega_{by}\\right)\\end{matrix}\\right]$$"
      ],
      "text/plain": [
       "⎡ -C_nb(2, 2)⋅(C_nb(0, 1)⋅vel_N + C_nb(1, 1)⋅vel_E + C_nb(2, 1)⋅vel_D) + agl⋅ω\n",
       "⎢ ────────────────────────────────────────────────────────────────────────────\n",
       "⎢                                       agl                                   \n",
       "⎢                                                                             \n",
       "⎢-(C_nb(2, 2)⋅(C_nb(0, 0)⋅vel_N + C_nb(1, 0)⋅vel_E + C_nb(2, 0)⋅vel_D) + agl⋅ω\n",
       "⎢─────────────────────────────────────────────────────────────────────────────\n",
       "⎣                                       agl                                   \n",
       "\n",
       "_bx  ⎤\n",
       "───  ⎥\n",
       "     ⎥\n",
       "     ⎥\n",
       "_by) ⎥\n",
       "─────⎥\n",
       "     ⎦"
      ]
     },
     "execution_count": 81,
     "metadata": {},
     "output_type": "execute_result"
    }
   ],
   "source": [
    "y_flow_lin = y_flow.subs(sub_lin).subs(sub_agl).subs(sub_C_nb)\n",
    "y_flow_lin.simplify()\n",
    "y_flow_lin"
   ]
  },
  {
   "cell_type": "code",
   "execution_count": 82,
   "metadata": {
    "collapsed": false
   },
   "outputs": [
    {
     "name": "stdout",
     "output_type": "stream",
     "text": [
      "Matrix<float, Y_flow::n, Xe::n> H;\n",
      "float x0 = 1/agl;\n",
      "float x1 = 2*C_nb(1, 2);\n",
      "float x2 = C_nb(0, 1)*vel_N;\n",
      "float x3 = C_nb(1, 1)*vel_E;\n",
      "float x4 = 2*C_nb(2, 2)*vel_D;\n",
      "float x5 = C_nb(2, 1)*vel_D;\n",
      "float x6 = 2*C_nb(2, 2)*vel_E;\n",
      "float x7 = 2*x0;\n",
      "float x8 = C_nb(2, 2)*vel_D;\n",
      "float x9 = C_nb(2, 2)*vel_N;\n",
      "float x10 = 2*C_nb(2, 2)*x0;\n",
      "float x11 = C_nb(2, 2)*x0;\n",
      "float x12 = C_nb(2, 2)/agl**2;\n",
      "float x13 = x12*(x2 + x3 + x5);\n",
      "float x14 = C_nb(0, 0)*vel_N;\n",
      "float x15 = C_nb(1, 0)*vel_E;\n",
      "float x16 = C_nb(2, 0)*vel_D;\n",
      "float x17 = x12*(x14 + x15 + x16);\n",
      "H(Y_flow::flowX, Xe::rot_N) = x0*(-C_nb(1, 1)*x4 + C_nb(2, 1)*x6 - x1*x2 - x1*x3 - x1*x5);\n",
      "H(Y_flow::flowX, Xe::rot_E) = x7*(C_nb(0, 1)*x8 + C_nb(0, 2)*x2 + C_nb(0, 2)*x3 + C_nb(0, 2)*x5 - C_nb(2, 1)*x9);\n",
      "H(Y_flow::flowX, Xe::rot_D) = -x10*(C_nb(0, 1)*vel_E - C_nb(1, 1)*vel_N);\n",
      "H(Y_flow::flowX, Xe::vel_N) = -C_nb(0, 1)*x11;\n",
      "H(Y_flow::flowX, Xe::vel_E) = -C_nb(1, 1)*x11;\n",
      "H(Y_flow::flowX, Xe::vel_D) = -C_nb(2, 1)*x11;\n",
      "H(Y_flow::flowX, Xe::gyro_bias_N) = -C_nb(0, 0);\n",
      "H(Y_flow::flowX, Xe::gyro_bias_E) = -C_nb(1, 0);\n",
      "H(Y_flow::flowX, Xe::gyro_bias_D) = -C_nb(2, 0);\n",
      "H(Y_flow::flowX, Xe::asl) = x13;\n",
      "H(Y_flow::flowX, Xe::terrain_asl) = -x13;\n",
      "H(Y_flow::flowY, Xe::rot_N) = x0*(-C_nb(1, 0)*x4 + C_nb(2, 0)*x6 - x1*x14 - x1*x15 - x1*x16);\n",
      "H(Y_flow::flowY, Xe::rot_E) = x7*(C_nb(0, 0)*x8 + C_nb(0, 2)*x14 + C_nb(0, 2)*x15 + C_nb(0, 2)*x16 - C_nb(2, 0)*x9);\n",
      "H(Y_flow::flowY, Xe::rot_D) = -x10*(C_nb(0, 0)*vel_E - C_nb(1, 0)*vel_N);\n",
      "H(Y_flow::flowY, Xe::vel_N) = -C_nb(0, 0)*x11;\n",
      "H(Y_flow::flowY, Xe::vel_E) = -C_nb(1, 0)*x11;\n",
      "H(Y_flow::flowY, Xe::vel_D) = -C_nb(2, 0)*x11;\n",
      "H(Y_flow::flowY, Xe::gyro_bias_N) = C_nb(0, 1);\n",
      "H(Y_flow::flowY, Xe::gyro_bias_E) = C_nb(1, 1);\n",
      "H(Y_flow::flowY, Xe::gyro_bias_D) = C_nb(2, 1);\n",
      "H(Y_flow::flowY, Xe::asl) = x17;\n",
      "H(Y_flow::flowY, Xe::terrain_asl) = -x17;\n"
     ]
    }
   ],
   "source": [
    "H_flow = y_flow.jacobian(xe).subs(sub_lin).subs(sub_agl)\n",
    "matrix_to_code('H', H_flow, 'Y_flow::', y_flow_sym, 'Xe::', xe)"
   ]
  },
  {
   "cell_type": "code",
   "execution_count": null,
   "metadata": {
    "collapsed": true
   },
   "outputs": [],
   "source": []
  }
 ],
 "metadata": {
  "anaconda-cloud": {},
  "kernelspec": {
   "display_name": "Python [conda root]",
   "language": "python",
   "name": "conda-root-py"
  },
  "language_info": {
   "codemirror_mode": {
    "name": "ipython",
    "version": 3
   },
   "file_extension": ".py",
   "mimetype": "text/x-python",
   "name": "python",
   "nbconvert_exporter": "python",
   "pygments_lexer": "ipython3",
   "version": "3.5.2"
  }
 },
 "nbformat": 4,
 "nbformat_minor": 1
}
