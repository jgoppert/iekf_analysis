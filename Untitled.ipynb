{
 "cells": [
  {
   "cell_type": "code",
   "execution_count": 1,
   "metadata": {
    "collapsed": false
   },
   "outputs": [],
   "source": [
    "import sympy\n",
    "sympy.init_printing()"
   ]
  },
  {
   "cell_type": "code",
   "execution_count": 18,
   "metadata": {
    "collapsed": false
   },
   "outputs": [],
   "source": [
    "L, A, Q, t, P, tmp= \\\n",
    "    sympy.symbols('L, A, Q, t, P, tmp', commutative=False)\n",
    "L = L(t)\n",
    "Q = Q\n",
    "P = P(t)\n",
    "sub_t = {\n",
    "    sympy.Derivative(sympy.transpose(L), L)*L: sympy.transpose(L)\n",
    "}"
   ]
  },
  {
   "cell_type": "code",
   "execution_count": 19,
   "metadata": {
    "collapsed": false
   },
   "outputs": [
    {
     "data": {
      "image/png": "[encoded data removed]",
      "text/latex": [
       "$$- L{\\left (t \\right )} \\operatorname{transpose}{\\left (L{\\left (t \\right )} \\right )} + P{\\left (t \\right )}$$"
      ],
      "text/plain": [
       "-L(t)⋅transpose(L(t)) + P(t)"
      ]
     },
     "execution_count": 19,
     "metadata": {},
     "output_type": "execute_result"
    }
   ],
   "source": [
    "eq1 = P - L * L.transpose()\n",
    "eq1"
   ]
  },
  {
   "cell_type": "code",
   "execution_count": 20,
   "metadata": {
    "collapsed": false
   },
   "outputs": [
    {
     "data": {
      "image/png": "[encoded data removed]",
      "text/latex": [
       "$$- L{\\left (t \\right )} \\operatorname{transpose}{\\left (\\frac{d}{d t} L{\\left (t \\right )} \\right )} - \\frac{d}{d t} L{\\left (t \\right )} \\operatorname{transpose}{\\left (L{\\left (t \\right )} \\right )} + \\frac{d}{d t} P{\\left (t \\right )}$$"
      ],
      "text/plain": [
       "                ⎛d       ⎞   d                          d       \n",
       "- L(t)⋅transpose⎜──(L(t))⎟ - ──(L(t))⋅transpose(L(t)) + ──(P(t))\n",
       "                ⎝dt      ⎠   dt                         dt      "
      ]
     },
     "execution_count": 20,
     "metadata": {},
     "output_type": "execute_result"
    }
   ],
   "source": [
    "eq2 = P.diff(t) - (L.diff(t) * L.transpose() + L*L.diff(t).transpose())\n",
    "eq2"
   ]
  },
  {
   "cell_type": "code",
   "execution_count": 21,
   "metadata": {
    "collapsed": false
   },
   "outputs": [
    {
     "data": {
      "image/png": "[encoded data removed]",
      "text/latex": [
       "$$A P{\\left (t \\right )} + Q + P{\\left (t \\right )} \\operatorname{transpose}{\\left (A \\right )} - \\frac{d}{d t} P{\\left (t \\right )}$$"
      ],
      "text/plain": [
       "                                 d       \n",
       "A⋅P(t) + Q + P(t)⋅transpose(A) - ──(P(t))\n",
       "                                 dt      "
      ]
     },
     "execution_count": 21,
     "metadata": {},
     "output_type": "execute_result"
    }
   ],
   "source": [
    "eq3 = -P.diff(t) + A*P + P*A.transpose() + Q\n",
    "eq3"
   ]
  },
  {
   "cell_type": "code",
   "execution_count": 22,
   "metadata": {
    "collapsed": false
   },
   "outputs": [
    {
     "data": {
      "image/png": "[encoded data removed]",
      "text/latex": [
       "$$P{\\left (t \\right )} - \\operatorname{transpose}{\\left (P{\\left (t \\right )} \\right )}$$"
      ],
      "text/plain": [
       "P(t) - transpose(P(t))"
      ]
     },
     "execution_count": 22,
     "metadata": {},
     "output_type": "execute_result"
    }
   ],
   "source": [
    "eq4 = P - P.transpose()\n",
    "eq4"
   ]
  },
  {
   "cell_type": "code",
   "execution_count": 23,
   "metadata": {
    "collapsed": false
   },
   "outputs": [
    {
     "data": {
      "image/png": "[encoded data removed]",
      "text/latex": [
       "$$A P{\\left (t \\right )} + Q - L{\\left (t \\right )} \\operatorname{transpose}{\\left (\\frac{d}{d t} L{\\left (t \\right )} \\right )} + P{\\left (t \\right )} \\operatorname{transpose}{\\left (A \\right )} - \\frac{d}{d t} L{\\left (t \\right )} \\operatorname{transpose}{\\left (L{\\left (t \\right )} \\right )}$$"
      ],
      "text/plain": [
       "                           ⎛d       ⎞                       d                 \n",
       "A⋅P(t) + Q - L(t)⋅transpose⎜──(L(t))⎟ + P(t)⋅transpose(A) - ──(L(t))⋅transpose\n",
       "                           ⎝dt      ⎠                       dt                \n",
       "\n",
       "      \n",
       "(L(t))\n",
       "      "
      ]
     },
     "execution_count": 23,
     "metadata": {},
     "output_type": "execute_result"
    }
   ],
   "source": [
    "eq5 = eq2.subs(P.diff(t), sympy.solve(eq3, P.diff(t))[0])\n",
    "eq5"
   ]
  },
  {
   "cell_type": "code",
   "execution_count": 28,
   "metadata": {
    "collapsed": false
   },
   "outputs": [
    {
     "data": {
      "image/png": "[encoded data removed]",
      "text/latex": [
       "$$A P{\\left (t \\right )} \\operatorname{transpose}^{-1}{\\left (L{\\left (t \\right )} \\right )} + Q \\operatorname{transpose}^{-1}{\\left (L{\\left (t \\right )} \\right )} - L{\\left (t \\right )} tmp \\operatorname{transpose}^{-1}{\\left (L{\\left (t \\right )} \\right )} + P{\\left (t \\right )} \\operatorname{transpose}{\\left (A \\right )} \\operatorname{transpose}^{-1}{\\left (L{\\left (t \\right )} \\right )}$$"
      ],
      "text/plain": [
       "                -1                    -1                           -1         \n",
       "A⋅P(t)⋅transpose  (L(t)) + Q⋅transpose  (L(t)) - L(t)⋅tmp⋅transpose  (L(t)) + \n",
       "\n",
       "                           -1      \n",
       "P(t)⋅transpose(A)⋅transpose  (L(t))"
      ]
     },
     "execution_count": 28,
     "metadata": {},
     "output_type": "execute_result"
    }
   ],
   "source": [
    "eq6 = sympy.solve(eq5.subs(L.diff(t).transpose(), tmp), L.diff(t))[0]\n",
    "eq6"
   ]
  },
  {
   "cell_type": "code",
   "execution_count": 59,
   "metadata": {
    "collapsed": false
   },
   "outputs": [
    {
     "data": {
      "image/png": "[encoded data removed]",
      "text/latex": [
       "$$A P{\\left (t \\right )} L^{-1}{\\left (t \\right )} + Q L^{-1}{\\left (t \\right )} + P{\\left (t \\right )} \\operatorname{transpose}{\\left (A \\right )} L^{-1}{\\left (t \\right )} - \\frac{d}{d t} L{\\left (t \\right )} \\operatorname{transpose}{\\left (L{\\left (t \\right )} \\right )} L^{-1}{\\left (t \\right )}$$"
      ],
      "text/plain": [
       "        -1         -1                         -1      d                       \n",
       "A⋅P(t)⋅L  (t) + Q⋅L  (t) + P(t)⋅transpose(A)⋅L  (t) - ──(L(t))⋅transpose(L(t))\n",
       "                                                      dt                      \n",
       "\n",
       "  -1   \n",
       "⋅L  (t)\n",
       "       "
      ]
     },
     "execution_count": 59,
     "metadata": {},
     "output_type": "execute_result"
    }
   ],
   "source": [
    "eq7 = sympy.solve(eq5.subs(L.diff(t).transpose(), tmp), tmp)[0]\n",
    "eq7"
   ]
  },
  {
   "cell_type": "code",
   "execution_count": 63,
   "metadata": {
    "collapsed": false
   },
   "outputs": [
    {
     "data": {
      "image/png": "[encoded data removed]",
      "text/latex": [
       "$$A P{\\left (t \\right )} \\left(\\operatorname{transpose}{\\left (L{\\left (t \\right )} \\right )} - \\operatorname{transpose}{\\left (L{\\left (t \\right )} \\right )} L{\\left (t \\right )} \\operatorname{transpose}{\\left (L{\\left (t \\right )} \\right )} L^{-1}{\\left (t \\right )} \\operatorname{transpose}^{-1}{\\left (L{\\left (t \\right )} \\right )}\\right)^{-1} + Q \\left(\\operatorname{transpose}{\\left (L{\\left (t \\right )} \\right )} - \\operatorname{transpose}{\\left (L{\\left (t \\right )} \\right )} L{\\left (t \\right )} \\operatorname{transpose}{\\left (L{\\left (t \\right )} \\right )} L^{-1}{\\left (t \\right )} \\operatorname{transpose}^{-1}{\\left (L{\\left (t \\right )} \\right )}\\right)^{-1} - L{\\left (t \\right )} A P{\\left (t \\right )} \\left(L{\\left (t \\right )} \\operatorname{transpose}{\\left (L{\\left (t \\right )} \\right )} - L{\\left (t \\right )} \\operatorname{transpose}{\\left (L{\\left (t \\right )} \\right )} L{\\left (t \\right )} \\operatorname{transpose}{\\left (L{\\left (t \\right )} \\right )} L^{-1}{\\left (t \\right )} \\operatorname{transpose}^{-1}{\\left (L{\\left (t \\right )} \\right )}\\right)^{-1} - L{\\left (t \\right )} Q \\left(L{\\left (t \\right )} \\operatorname{transpose}{\\left (L{\\left (t \\right )} \\right )} - L{\\left (t \\right )} \\operatorname{transpose}{\\left (L{\\left (t \\right )} \\right )} L{\\left (t \\right )} \\operatorname{transpose}{\\left (L{\\left (t \\right )} \\right )} L^{-1}{\\left (t \\right )} \\operatorname{transpose}^{-1}{\\left (L{\\left (t \\right )} \\right )}\\right)^{-1} - L{\\left (t \\right )} P{\\left (t \\right )} \\operatorname{transpose}{\\left (A \\right )} \\left(L{\\left (t \\right )} \\operatorname{transpose}{\\left (L{\\left (t \\right )} \\right )} - L{\\left (t \\right )} \\operatorname{transpose}{\\left (L{\\left (t \\right )} \\right )} L{\\left (t \\right )} \\operatorname{transpose}{\\left (L{\\left (t \\right )} \\right )} L^{-1}{\\left (t \\right )} \\operatorname{transpose}^{-1}{\\left (L{\\left (t \\right )} \\right )}\\right)^{-1} + P{\\left (t \\right )} \\operatorname{transpose}{\\left (A \\right )} \\left(\\operatorname{transpose}{\\left (L{\\left (t \\right )} \\right )} - \\operatorname{transpose}{\\left (L{\\left (t \\right )} \\right )} L{\\left (t \\right )} \\operatorname{transpose}{\\left (L{\\left (t \\right )} \\right )} L^{-1}{\\left (t \\right )} \\operatorname{transpose}^{-1}{\\left (L{\\left (t \\right )} \\right )}\\right)^{-1}$$"
      ],
      "text/plain": [
       "                                                                              \n",
       "       ⎛                                                        -1            \n",
       "A⋅P(t)⋅⎝transpose(L(t)) - transpose(L(t))⋅L(t)⋅transpose(L(t))⋅L  (t)⋅transpos\n",
       "\n",
       "          -1                                                                  \n",
       " -1      ⎞       ⎛                                                        -1  \n",
       "e  (L(t))⎠   + Q⋅⎝transpose(L(t)) - transpose(L(t))⋅L(t)⋅transpose(L(t))⋅L  (t\n",
       "\n",
       "                    -1                                                        \n",
       "           -1      ⎞                 ⎛                                        \n",
       ")⋅transpose  (L(t))⎠   - L(t)⋅A⋅P(t)⋅⎝L(t)⋅transpose(L(t)) - L(t)⋅transpose(L(\n",
       "\n",
       "                                                  -1                          \n",
       "                          -1             -1      ⎞            ⎛               \n",
       "t))⋅L(t)⋅transpose(L(t))⋅L  (t)⋅transpose  (L(t))⎠   - L(t)⋅Q⋅⎝L(t)⋅transpose(\n",
       "\n",
       "                                                                           -1 \n",
       "                                                   -1             -1      ⎞   \n",
       "L(t)) - L(t)⋅transpose(L(t))⋅L(t)⋅transpose(L(t))⋅L  (t)⋅transpose  (L(t))⎠   \n",
       "\n",
       "                                                                              \n",
       "                         ⎛                                                    \n",
       "- L(t)⋅P(t)⋅transpose(A)⋅⎝L(t)⋅transpose(L(t)) - L(t)⋅transpose(L(t))⋅L(t)⋅tra\n",
       "\n",
       "                                      -1                                      \n",
       "              -1             -1      ⎞                       ⎛                \n",
       "nspose(L(t))⋅L  (t)⋅transpose  (L(t))⎠   + P(t)⋅transpose(A)⋅⎝transpose(L(t)) \n",
       "\n",
       "                                                                -1\n",
       "                                        -1             -1      ⎞  \n",
       "- transpose(L(t))⋅L(t)⋅transpose(L(t))⋅L  (t)⋅transpose  (L(t))⎠  "
      ]
     },
     "execution_count": 63,
     "metadata": {},
     "output_type": "execute_result"
    }
   ],
   "source": [
    "eq8 = sympy.solve(L.diff(t) - eq6.subs(tmp, eq7), L.diff(t))[0].expand()\n",
    "eq8"
   ]
  },
  {
   "cell_type": "code",
   "execution_count": 62,
   "metadata": {
    "collapsed": false
   },
   "outputs": [
    {
     "data": {
      "image/png": "[encoded data removed]",
      "text/latex": [
       "$$A P{\\left (t \\right )} \\left(\\operatorname{transpose}{\\left (L{\\left (t \\right )} \\right )} - \\operatorname{transpose}{\\left (L{\\left (t \\right )} \\right )} P{\\left (t \\right )} L^{-2}{\\left (t \\right )} P{\\left (t \\right )} \\operatorname{transpose}^{-2}{\\left (L{\\left (t \\right )} \\right )}\\right)^{-1} + Q \\left(\\operatorname{transpose}{\\left (L{\\left (t \\right )} \\right )} - \\operatorname{transpose}{\\left (L{\\left (t \\right )} \\right )} P{\\left (t \\right )} L^{-2}{\\left (t \\right )} P{\\left (t \\right )} \\operatorname{transpose}^{-2}{\\left (L{\\left (t \\right )} \\right )}\\right)^{-1} - L{\\left (t \\right )} A P{\\left (t \\right )} \\left(P{\\left (t \\right )} - P^{2}{\\left (t \\right )} L^{-2}{\\left (t \\right )} P{\\left (t \\right )} \\operatorname{transpose}^{-2}{\\left (L{\\left (t \\right )} \\right )}\\right)^{-1} - L{\\left (t \\right )} Q \\left(P{\\left (t \\right )} - P^{2}{\\left (t \\right )} L^{-2}{\\left (t \\right )} P{\\left (t \\right )} \\operatorname{transpose}^{-2}{\\left (L{\\left (t \\right )} \\right )}\\right)^{-1} - L{\\left (t \\right )} P{\\left (t \\right )} \\operatorname{transpose}{\\left (A \\right )} \\left(P{\\left (t \\right )} - P^{2}{\\left (t \\right )} L^{-2}{\\left (t \\right )} P{\\left (t \\right )} \\operatorname{transpose}^{-2}{\\left (L{\\left (t \\right )} \\right )}\\right)^{-1} + P{\\left (t \\right )} \\operatorname{transpose}{\\left (A \\right )} \\left(\\operatorname{transpose}{\\left (L{\\left (t \\right )} \\right )} - \\operatorname{transpose}{\\left (L{\\left (t \\right )} \\right )} P{\\left (t \\right )} L^{-2}{\\left (t \\right )} P{\\left (t \\right )} \\operatorname{transpose}^{-2}{\\left (L{\\left (t \\right )} \\right )}\\right)^{-1}$$"
      ],
      "text/plain": [
       "                                                                             -\n",
       "       ⎛                                        -2                  -2      ⎞ \n",
       "A⋅P(t)⋅⎝transpose(L(t)) - transpose(L(t))⋅P(t)⋅L  (t)⋅P(t)⋅transpose  (L(t))⎠ \n",
       "\n",
       "1                                                                           -1\n",
       "      ⎛                                        -2                  -2      ⎞  \n",
       "  + Q⋅⎝transpose(L(t)) - transpose(L(t))⋅P(t)⋅L  (t)⋅P(t)⋅transpose  (L(t))⎠  \n",
       "\n",
       "                                                           -1                 \n",
       "               ⎛        2     -2                  -2      ⎞            ⎛      \n",
       " - L(t)⋅A⋅P(t)⋅⎝P(t) - P (t)⋅L  (t)⋅P(t)⋅transpose  (L(t))⎠   - L(t)⋅Q⋅⎝P(t) -\n",
       "\n",
       "                                     -1                                       \n",
       "  2     -2                  -2      ⎞                            ⎛        2   \n",
       " P (t)⋅L  (t)⋅P(t)⋅transpose  (L(t))⎠   - L(t)⋅P(t)⋅transpose(A)⋅⎝P(t) - P (t)\n",
       "\n",
       "                               -1                                             \n",
       "  -2                  -2      ⎞                       ⎛                       \n",
       "⋅L  (t)⋅P(t)⋅transpose  (L(t))⎠   + P(t)⋅transpose(A)⋅⎝transpose(L(t)) - trans\n",
       "\n",
       "                                              -1\n",
       "                 -2                  -2      ⎞  \n",
       "pose(L(t))⋅P(t)⋅L  (t)⋅P(t)⋅transpose  (L(t))⎠  "
      ]
     },
     "execution_count": 62,
     "metadata": {},
     "output_type": "execute_result"
    }
   ],
   "source": [
    "eq8.subs({\n",
    "    L*L.transpose(): P,\n",
    "    L.transpose()*L: P.transpose()\n",
    "})"
   ]
  },
  {
   "cell_type": "code",
   "execution_count": 49,
   "metadata": {
    "collapsed": false
   },
   "outputs": [
    {
     "data": {
      "image/png": "[encoded data removed]",
      "text/latex": [
       "$$\\left [ A P{\\left (t \\right )} \\operatorname{L^{T}}^{-1}{\\left (t \\right )} + Q \\operatorname{L^{T}}^{-1}{\\left (t \\right )} - L{\\left (t \\right )} \\frac{d}{d t} \\operatorname{L^{T}}{\\left (t \\right )} \\operatorname{L^{T}}^{-1}{\\left (t \\right )} + P{\\left (t \\right )} A^{T} \\operatorname{L^{T}}^{-1}{\\left (t \\right )}\\right ]$$"
      ],
      "text/plain": [
       "⎡           -1            -1           d               -1                    -\n",
       "⎢A⋅P(t)⋅L__T  (t) + Q⋅L__T  (t) - L(t)⋅──(L__T(t))⋅L__T  (t) + P(t)⋅A__T⋅L__T \n",
       "⎣                                      dt                                     \n",
       "\n",
       "1   ⎤\n",
       " (t)⎥\n",
       "    ⎦"
      ]
     },
     "execution_count": 49,
     "metadata": {},
     "output_type": "execute_result"
    }
   ],
   "source": [
    "eq6"
   ]
  },
  {
   "cell_type": "code",
   "execution_count": null,
   "metadata": {
    "collapsed": true
   },
   "outputs": [],
   "source": []
  }
 ],
 "metadata": {
  "kernelspec": {
   "display_name": "Python [conda root]",
   "language": "python",
   "name": "conda-root-py"
  },
  "language_info": {
   "codemirror_mode": {
    "name": "ipython",
    "version": 3
   },
   "file_extension": ".py",
   "mimetype": "text/x-python",
   "name": "python",
   "nbconvert_exporter": "python",
   "pygments_lexer": "ipython3",
   "version": "3.5.2"
  }
 },
 "nbformat": 4,
 "nbformat_minor": 1
}
