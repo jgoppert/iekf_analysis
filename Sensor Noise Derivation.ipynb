{
 "cells": [
  {
   "cell_type": "code",
   "execution_count": 1,
   "metadata": {},
   "outputs": [
    {
     "name": "stdout",
     "output_type": "stream",
     "text": [
      "Populating the interactive namespace from numpy and matplotlib\n"
     ]
    }
   ],
   "source": [
    "%pylab inline\n",
    "import sympy\n",
    "sympy.init_printing()"
   ]
  },
  {
   "cell_type": "code",
   "execution_count": 2,
   "metadata": {},
   "outputs": [],
   "source": [
    "t0, t1, tau, Q, P, dt, T = sympy.symbols(\n",
    "    't0, t1, tau, Q, P, \\Delta_t, T',\n",
    "    real=True, positive=True)"
   ]
  },
  {
   "cell_type": "code",
   "execution_count": 3,
   "metadata": {},
   "outputs": [],
   "source": [
    "def Phi(t, tau):\n",
    "    return sympy.exp(-(t - tau)/T)"
   ]
  },
  {
   "cell_type": "code",
   "execution_count": 4,
   "metadata": {},
   "outputs": [
    {
     "data": {
      "image/png": "[encoded data removed]",
      "text/latex": [
       "$$- \\frac{Q T}{2} \\left(-1 + e^{- \\frac{2 \\Delta_t}{T}}\\right)$$"
      ],
      "text/plain": [
       "     ⎛      -2⋅\\Deltaₜ ⎞ \n",
       "     ⎜      ───────────⎟ \n",
       "     ⎜           T     ⎟ \n",
       "-Q⋅T⋅⎝-1 + ℯ           ⎠ \n",
       "─────────────────────────\n",
       "            2            "
      ]
     },
     "execution_count": 4,
     "metadata": {},
     "output_type": "execute_result"
    }
   ],
   "source": [
    "Q_d = sympy.integrate(Phi(t1, tau)*Q*Phi(t1, tau),\n",
    "                    (tau, t0, t1)).simplify()\n",
    "simp_subs = {\n",
    "    2*(t1 - t0): 2*dt,\n",
    "    (2*t0 - 2*t1)/T: -2*dt/T\n",
    "}\n",
    "Q_d = Q_d.simplify().subs(simp_subs)\n",
    "Q_d"
   ]
  },
  {
   "cell_type": "code",
   "execution_count": 5,
   "metadata": {},
   "outputs": [
    {
     "data": {
      "image/png": "[encoded data removed]",
      "text/latex": [
       "$$3.99998400002e-13$$"
      ],
      "text/plain": [
       "3.99998400002e-13"
      ]
     },
     "execution_count": 5,
     "metadata": {},
     "output_type": "execute_result"
    }
   ],
   "source": [
    "dt = 1.0/250\n",
    "T = 1000\n",
    "gyro_sigma_rrw = 1e-5\n",
    "gyro_sigma_rrw*gyro_sigma_rrw*T/2*(1 - exp(-2*dt/1000))"
   ]
  }
 ],
 "metadata": {
  "anaconda-cloud": {},
  "kernelspec": {
   "display_name": "Python [conda env:px4]",
   "language": "python",
   "name": "conda-env-px4-py"
  },
  "language_info": {
   "codemirror_mode": {
    "name": "ipython",
    "version": 3
   },
   "file_extension": ".py",
   "mimetype": "text/x-python",
   "name": "python",
   "nbconvert_exporter": "python",
   "pygments_lexer": "ipython3",
   "version": "3.5.3"
  },
  "latex_envs": {
   "LaTeX_envs_menu_present": true,
   "autocomplete": true,
   "bibliofile": "biblio.bib",
   "cite_by": "apalike",
   "current_citInitial": 1,
   "eqLabelWithNumbers": true,
   "eqNumInitial": 1,
   "hotkeys": {
    "equation": "Ctrl-E",
    "itemize": "Ctrl-I"
   },
   "labels_anchors": false,
   "latex_user_defs": false,
   "report_style_numbering": false,
   "user_envs_cfg": false
  },
  "toc": {
   "colors": {
    "hover_highlight": "#DAA520",
    "running_highlight": "#FF0000",
    "selected_highlight": "#FFD700"
   },
   "moveMenuLeft": true,
   "nav_menu": {
    "height": "12px",
    "width": "252px"
   },
   "navigate_menu": true,
   "number_sections": true,
   "sideBar": true,
   "threshold": 4,
   "toc_cell": false,
   "toc_section_display": "block",
   "toc_window_display": false,
   "widenNotebook": false
  }
 },
 "nbformat": 4,
 "nbformat_minor": 1
}
