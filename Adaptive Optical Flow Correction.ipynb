{
 "cells": [
  {
   "cell_type": "markdown",
   "metadata": {},
   "source": [
    "### Problem\n",
    "\n",
    "Find the measurement covariance matrix, $R$, for the optical flow sensor.\n",
    "\n",
    "\n",
    "### Model\n",
    "\n",
    "$ \\dot{x} = f(x, u)$\n",
    "\n",
    "$ y = h(x) $\n",
    "\n",
    "### Estimate\n",
    "\n",
    "$ \\dot{\\hat{x}} = f(\\hat{x}, u)$\n",
    "\n",
    "$ \\hat{y} = h(\\hat{x}) $\n",
    "\n",
    "### Innovation:\n",
    "\n",
    "$ r = y - \\hat{y} $\n",
    "\n",
    "$ S = E[rr^T] = HPH^T + R $\n",
    "\n",
    "\n",
    "### Numerical Estimation\n",
    "\n",
    "$S = cov(r)$ - can compute using a finite sample equation\n",
    "\n",
    "\n",
    "### Solve for R\n",
    "\n",
    "$R = S - HPH^T$\n"
   ]
  }
 ],
 "metadata": {
  "anaconda-cloud": {},
  "kernelspec": {
   "display_name": "Python [conda env:px4]",
   "language": "python",
   "name": "conda-env-px4-py"
  },
  "language_info": {
   "codemirror_mode": {
    "name": "ipython",
    "version": 3
   },
   "file_extension": ".py",
   "mimetype": "text/x-python",
   "name": "python",
   "nbconvert_exporter": "python",
   "pygments_lexer": "ipython3",
   "version": "3.5.3"
  },
  "latex_envs": {
   "LaTeX_envs_menu_present": true,
   "autocomplete": true,
   "bibliofile": "biblio.bib",
   "cite_by": "apalike",
   "current_citInitial": 1,
   "eqLabelWithNumbers": true,
   "eqNumInitial": 1,
   "hotkeys": {
    "equation": "Ctrl-E",
    "itemize": "Ctrl-I"
   },
   "labels_anchors": false,
   "latex_user_defs": false,
   "report_style_numbering": false,
   "user_envs_cfg": false
  },
  "toc": {
   "colors": {
    "hover_highlight": "#DAA520",
    "running_highlight": "#FF0000",
    "selected_highlight": "#FFD700"
   },
   "moveMenuLeft": true,
   "nav_menu": {
    "height": "120px",
    "width": "252px"
   },
   "navigate_menu": true,
   "number_sections": true,
   "sideBar": true,
   "threshold": 4,
   "toc_cell": false,
   "toc_section_display": "block",
   "toc_window_display": false,
   "widenNotebook": false
  }
 },
 "nbformat": 4,
 "nbformat_minor": 1
}
