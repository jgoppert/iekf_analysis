{
 "cells": [
  {
   "cell_type": "code",
   "execution_count": 1,
   "metadata": {
    "collapsed": false
   },
   "outputs": [],
   "source": [
    "import sympy\n",
    "sympy.init_printing()"
   ]
  },
  {
   "cell_type": "code",
   "execution_count": 2,
   "metadata": {
    "collapsed": false
   },
   "outputs": [],
   "source": [
    "t = sympy.symbols('t')\n",
    "qh, q, omega_m, omega_b, omega_bh, K_q, E, alpha = sympy.symbols(\n",
    "    '\\hat{q}, q, omega_m, omega_b, \\hat{\\omega_b}, K_q, E, alpha',\n",
    "    commutative=False)\n",
    "M_q, w_q, mu, beta, a_sh, a_s, a_m, A, K_v, w_v, M_v = sympy.symbols(\n",
    "    'M_q, w_q, mu, beta, \\hat{a_s}, a_s, a_m, A, K_v, w_v, M_v',\n",
    "    commutative=False)\n",
    "I_ah, I_omegah, K_omega, M_omega, w_omega = sympy.symbols(\n",
    "    '\\hat{I_a}, \\hat{I_\\omega}, K_omega, M_omega, w_omega',\n",
    "    commutative=False)\n",
    "M_a, w_a, K_a, nu = sympy.symbols(\n",
    "    'M_a, w_a, K_a, nu',\n",
    "    commutative=False)"
   ]
  },
  {
   "cell_type": "code",
   "execution_count": 3,
   "metadata": {
    "collapsed": false
   },
   "outputs": [
    {
     "data": {
      "image/png": "[encoded data removed]",
      "text/latex": [
       "$$K_{q} E \\hat{q} + 0.5 \\hat{q} \\left(- \\hat{\\omega_b} + \\omega_{m}\\right)$$"
      ],
      "text/plain": [
       "K_q⋅E⋅\\hat{q} + 0.5⋅\\hat{q}⋅(-\\hat{\\omega_b} + ωₘ)"
      ]
     },
     "execution_count": 3,
     "metadata": {},
     "output_type": "execute_result"
    }
   ],
   "source": [
    "qh_dot_expr = 0.5*qh*(omega_m - omega_bh) + K_q*E*qh\n",
    "qh_dot_expr"
   ]
  },
  {
   "cell_type": "code",
   "execution_count": 4,
   "metadata": {
    "collapsed": false
   },
   "outputs": [
    {
     "data": {
      "image/png": "[encoded data removed]",
      "text/latex": [
       "$$M_{q} w_{q} q + 0.5 q \\left(- \\omega_{b} + \\omega_{m}\\right)$$"
      ],
      "text/plain": [
       "M_q⋅w_q⋅q + 0.5⋅q⋅(-ω_b + ωₘ)"
      ]
     },
     "execution_count": 4,
     "metadata": {},
     "output_type": "execute_result"
    }
   ],
   "source": [
    "q_dot_expr = 0.5*q*(omega_m - omega_b) + M_q*w_q*q\n",
    "q_dot_expr"
   ]
  },
  {
   "cell_type": "code",
   "execution_count": 5,
   "metadata": {
    "collapsed": false
   },
   "outputs": [
    {
     "data": {
      "image/png": "[encoded data removed]",
      "text/latex": [
       "$$A + K_{v} E + \\hat{a_s}^{-1} \\hat{q} a_{m} \\hat{q}^{-1}$$"
      ],
      "text/plain": [
       "                    -1                   -1\n",
       "A + Kᵥ⋅E + \\hat{a_s}  ⋅\\hat{q}⋅aₘ⋅\\hat{q}  "
      ]
     },
     "execution_count": 5,
     "metadata": {},
     "output_type": "execute_result"
    }
   ],
   "source": [
    "Vh_dot = 1/a_sh*qh*a_m/qh + A + K_v*E\n",
    "Vh_dot"
   ]
  },
  {
   "cell_type": "code",
   "execution_count": 6,
   "metadata": {
    "collapsed": false
   },
   "outputs": [
    {
     "data": {
      "image/png": "[encoded data removed]",
      "text/latex": [
       "$$A + M_{v} w_{v} + a_{s}^{-1} q a_{m} q^{-1}$$"
      ],
      "text/plain": [
       "              -1       -1\n",
       "A + Mᵥ⋅wᵥ + aₛ  ⋅q⋅aₘ⋅q  "
      ]
     },
     "execution_count": 6,
     "metadata": {},
     "output_type": "execute_result"
    }
   ],
   "source": [
    "Vh = A + 1/a_s*q*a_m/q + M_v*w_v\n",
    "Vh"
   ]
  },
  {
   "cell_type": "code",
   "execution_count": 7,
   "metadata": {
    "collapsed": false
   },
   "outputs": [
    {
     "data": {
      "image/png": "[encoded data removed]",
      "text/latex": [
       "$$\\hat{q}^{-1} K_{\\omega} E \\hat{q}$$"
      ],
      "text/plain": [
       "       -1              \n",
       "\\hat{q}  ⋅K_ω⋅E⋅\\hat{q}"
      ]
     },
     "execution_count": 7,
     "metadata": {},
     "output_type": "execute_result"
    }
   ],
   "source": [
    "omega_bh_dot = 1/qh*K_omega*E*qh\n",
    "omega_bh_dot"
   ]
  },
  {
   "cell_type": "code",
   "execution_count": 8,
   "metadata": {
    "collapsed": false
   },
   "outputs": [
    {
     "data": {
      "image/png": "[encoded data removed]",
      "text/latex": [
       "$$q^{-1} M_{\\omega} w_{\\omega} q$$"
      ],
      "text/plain": [
       " -1          \n",
       "q  ⋅M_ω⋅w_ω⋅q"
      ]
     },
     "execution_count": 8,
     "metadata": {},
     "output_type": "execute_result"
    }
   ],
   "source": [
    "omega_b_dot = 1/q*M_omega*w_omega*q\n",
    "omega_b_dot"
   ]
  },
  {
   "cell_type": "code",
   "execution_count": 9,
   "metadata": {
    "collapsed": false
   },
   "outputs": [
    {
     "data": {
      "image/png": "[encoded data removed]",
      "text/latex": [
       "$$a_{s} M_{a} w_{a}$$"
      ],
      "text/plain": [
       "aₛ⋅Mₐ⋅wₐ"
      ]
     },
     "execution_count": 9,
     "metadata": {},
     "output_type": "execute_result"
    }
   ],
   "source": [
    "a_s_dot = a_s*M_a*w_a\n",
    "a_s_dot"
   ]
  },
  {
   "cell_type": "code",
   "execution_count": 10,
   "metadata": {
    "collapsed": false
   },
   "outputs": [
    {
     "data": {
      "image/png": "[encoded data removed]",
      "text/latex": [
       "$$\\hat{a_s} K_{a} E$$"
      ],
      "text/plain": [
       "\\hat{a_s}⋅Kₐ⋅E"
      ]
     },
     "execution_count": 10,
     "metadata": {},
     "output_type": "execute_result"
    }
   ],
   "source": [
    "a_sh_dot = a_sh*K_a*E\n",
    "a_sh_dot"
   ]
  },
  {
   "cell_type": "code",
   "execution_count": 11,
   "metadata": {
    "collapsed": true
   },
   "outputs": [],
   "source": [
    "def q_inv_dot(q, q_dot):\n",
    "    return (-1/q*q_dot/q)"
   ]
  },
  {
   "cell_type": "code",
   "execution_count": 12,
   "metadata": {
    "collapsed": false
   },
   "outputs": [],
   "source": [
    "mu_expr = qh/q\n",
    "mu_inv_expr = q/qh\n",
    "beta_expr = q*(omega_bh - omega_b)/q\n",
    "alpha_expr = a_sh/a_s\n",
    "I_ah_expr = 1/a_sh*qh*a_m/qh\n",
    "I_omegah_expr = qh*(omega_m - omega_bh)/qh\n",
    "assert mu_expr*mu_inv_expr == 1\n",
    "\n",
    "assert 1/a_s - 1/a_sh*alpha_expr == 0\n",
    "assert 1/q - 1/qh*mu_expr == 0\n",
    "assert q - mu_inv_expr*qh == 0\n",
    "assert mu_expr*q - qh == 0\n",
    "assert (omega_bh - omega_b)/q - 1/q*beta_expr == 0\n",
    "assert (mu_inv_expr*I_omegah_expr*mu_expr*q + beta_expr*q - \\\n",
    " q*(-omega_b + omega_m)).simplify() == 0\n",
    "\n",
    "sub_invariants = {\n",
    "    I_ah_expr: I_ah,\n",
    "    I_omegah_expr: I_omegah\n",
    "}\n",
    "sub_commutative = {\n",
    "    1/a_sh/mu: 1/mu/a_sh\n",
    "}\n",
    "sub_terms = {\n",
    "    1/a_s: alpha*1/a_sh,\n",
    "    1/q: 1/qh*mu,\n",
    "    q: 1/mu*qh,\n",
    "}\n",
    "sub_error = {\n",
    "    mu_expr: mu,\n",
    "    (-0.5*mu*beta_expr).expand(): -0.5*mu*beta,\n",
    "}\n",
    "sub_beta = {\n",
    "    beta_expr: beta,\n",
    "    (omega_bh - omega_b)/q: 1/q*beta,\n",
    "    q*(-omega_b + omega_m): 1/mu*I_omegah*mu*q + beta*q,\n",
    "    1/q: 1/qh*mu,\n",
    "    q: 1/mu*qh,\n",
    "}"
   ]
  },
  {
   "cell_type": "code",
   "execution_count": 13,
   "metadata": {
    "collapsed": false
   },
   "outputs": [
    {
     "data": {
      "image/png": "[encoded data removed]",
      "text/latex": [
       "$$K_{q} E \\mu - \\mu M_{q} w_{q} - 0.5 \\mu \\beta$$"
      ],
      "text/plain": [
       "K_q⋅E⋅μ - μ⋅M_q⋅w_q - 0.5⋅μ⋅β"
      ]
     },
     "execution_count": 13,
     "metadata": {},
     "output_type": "execute_result"
    }
   ],
   "source": [
    "mu_dot_expr = (qh_dot_expr/q + qh*q_inv_dot(q, q_dot_expr)).expand().subs(\n",
    "    qh, mu*q).subs(sub_error)\n",
    "mu_dot_expr"
   ]
  },
  {
   "cell_type": "code",
   "execution_count": 14,
   "metadata": {
    "collapsed": false
   },
   "outputs": [
    {
     "data": {
      "image/png": "[encoded data removed]",
      "text/latex": [
       "$$K_{v} E - M_{v} w_{v} + \\hat{I_a} - \\alpha \\mu^{-1} \\hat{I_a} \\mu$$"
      ],
      "text/plain": [
       "                              -1            \n",
       "Kᵥ⋅E - Mᵥ⋅wᵥ + \\hat{I_a} - α⋅μ  ⋅\\hat{I_a}⋅μ"
      ]
     },
     "execution_count": 14,
     "metadata": {},
     "output_type": "execute_result"
    }
   ],
   "source": [
    "nu_dot_expr = Vh_dot - Vh\n",
    "nu_dot_expr = nu_dot_expr.subs(\n",
    "    sub_terms).subs(sub_commutative).subs(sub_invariants)\n",
    "nu_dot_expr"
   ]
  },
  {
   "cell_type": "code",
   "execution_count": 15,
   "metadata": {
    "collapsed": false
   },
   "outputs": [
    {
     "data": {
      "image/png": "[encoded data removed]",
      "text/latex": [
       "$$- q \\left(\\hat{\\omega_b} - \\omega_{b}\\right) q^{-1} \\left(M_{q} w_{q} q + 0.5 q \\left(- \\omega_{b} + \\omega_{m}\\right)\\right) q^{-1} + q \\left(\\hat{q}^{-1} K_{\\omega} E \\hat{q} - q^{-1} M_{\\omega} w_{\\omega} q\\right) q^{-1} + \\left(M_{q} w_{q} q + 0.5 q \\left(- \\omega_{b} + \\omega_{m}\\right)\\right) \\left(\\hat{\\omega_b} - \\omega_{b}\\right) q^{-1}$$"
      ],
      "text/plain": [
       "                            -1                                  -1     ⎛      \n",
       "- q⋅(\\hat{\\omega_b} - ω_b)⋅q  ⋅(M_q⋅w_q⋅q + 0.5⋅q⋅(-ω_b + ωₘ))⋅q   + q⋅⎝\\hat{q\n",
       "\n",
       " -1                  -1          ⎞  -1                                        \n",
       "}  ⋅K_ω⋅E⋅\\hat{q} - q  ⋅M_ω⋅w_ω⋅q⎠⋅q   + (M_q⋅w_q⋅q + 0.5⋅q⋅(-ω_b + ωₘ))⋅(\\hat\n",
       "\n",
       "                   -1\n",
       "{\\omega_b} - ω_b)⋅q  "
      ]
     },
     "execution_count": 15,
     "metadata": {},
     "output_type": "execute_result"
    }
   ],
   "source": [
    "beta_dot = (q_dot_expr*(omega_bh - omega_b)/q +\n",
    "    q*(omega_bh_dot - omega_b_dot)/q +\n",
    "    q*(omega_bh - omega_b)*q_inv_dot(q, q_dot_expr))\n",
    "beta_dot"
   ]
  },
  {
   "cell_type": "code",
   "execution_count": 16,
   "metadata": {
    "collapsed": false
   },
   "outputs": [
    {
     "data": {
      "image/png": "[encoded data removed]",
      "text/latex": [
       "$$- M_{\\omega} w_{\\omega} + M_{q} w_{q} \\beta - \\beta M_{q} w_{q} - 0.5 \\beta \\mu^{-1} \\hat{I_\\omega} \\mu + \\mu^{-1} K_{\\omega} E \\mu + 0.5 \\mu^{-1} \\hat{I_\\omega} \\mu \\beta$$"
      ],
      "text/plain": [
       "                                          -1                     -1           \n",
       "-M_ω⋅w_ω + M_q⋅w_q⋅β - β⋅M_q⋅w_q - 0.5⋅β⋅μ  ⋅\\hat{I_\\omega}⋅μ + μ  ⋅K_ω⋅E⋅μ + \n",
       "\n",
       "     -1                   \n",
       "0.5⋅μ  ⋅\\hat{I_\\omega}⋅μ⋅β"
      ]
     },
     "execution_count": 16,
     "metadata": {},
     "output_type": "execute_result"
    }
   ],
   "source": [
    "beta_dot1 = beta_dot.subs({\n",
    "    beta_expr: beta,\n",
    "    (omega_bh - omega_b)/q: 1/q*beta,\n",
    "    q*(-omega_b + omega_m): 1/mu*I_omegah*mu*q + beta*q,\n",
    "    1/q: 1/qh*mu,\n",
    "    q: 1/mu*qh,\n",
    "})\n",
    "beta_dot2 = beta_dot1.expand().simplify()\n",
    "beta_dot2"
   ]
  },
  {
   "cell_type": "code",
   "execution_count": 17,
   "metadata": {
    "collapsed": false
   },
   "outputs": [
    {
     "data": {
      "image/png": "[encoded data removed]",
      "text/latex": [
       "$$- M_{\\omega} w_{\\omega} + 2 M_{q} w_{q} \\times \\beta + \\mu^{-1} K_{\\omega} E \\mu + \\mu^{-1} \\hat{I_\\omega} \\mu \\times \\beta$$"
      ],
      "text/plain": [
       "                                 -1            -1                          \n",
       "-M_ω⋅w_ω + 2⋅M_q⋅w_q⋅\\times⋅β + μ  ⋅K_ω⋅E⋅μ + μ  ⋅\\hat{I_\\omega}⋅μ⋅\\times⋅β"
      ]
     },
     "execution_count": 17,
     "metadata": {},
     "output_type": "execute_result"
    }
   ],
   "source": [
    "cross = sympy.symbols('\\\\times', commutative=False)\n",
    "sub_cross = {\n",
    "    0.5/mu*I_omegah*mu*beta -0.5*beta/mu*I_omegah*mu :\n",
    "        1/mu*I_omegah*mu * cross * beta,\n",
    "    M_q*w_q*beta - beta*M_q*w_q: 2 * M_q*w_q* cross * beta,\n",
    "}\n",
    "beta_dot3 = beta_dot2.subs(sub_cross)\n",
    "beta_dot3"
   ]
  },
  {
   "cell_type": "code",
   "execution_count": 18,
   "metadata": {
    "collapsed": false
   },
   "outputs": [
    {
     "data": {
      "image/png": "[encoded data removed]",
      "text/latex": [
       "$$\\alpha \\left(K_{a} E - M_{a} w_{a}\\right)$$"
      ],
      "text/plain": [
       "α⋅(Kₐ⋅E - Mₐ⋅wₐ)"
      ]
     },
     "execution_count": 18,
     "metadata": {},
     "output_type": "execute_result"
    }
   ],
   "source": [
    "alpha_dot = 1/(a_s**2)*(a_s*a_sh_dot - a_sh*a_s_dot)\n",
    "alpha_dot = alpha_dot.collect(a_s*a_sh).subs(1/a_s*a_sh, alpha)\n",
    "alpha_dot"
   ]
  },
  {
   "cell_type": "code",
   "execution_count": 19,
   "metadata": {
    "collapsed": false
   },
   "outputs": [
    {
     "data": {
      "text/latex": [
       "$$\\left[\\begin{matrix}K_{q} E \\mu - \\mu M_{q} w_{q} - 0.5 \\mu \\beta\\\\K_{v} E - M_{v} w_{v} + \\hat{I_a} - \\alpha \\mu^{-1} \\hat{I_a} \\mu\\\\- M_{\\omega} w_{\\omega} + 2 M_{q} w_{q} \\times \\beta + \\mu^{-1} K_{\\omega} E \\mu + \\mu^{-1} \\hat{I_\\omega} \\mu \\times \\beta\\\\\\alpha \\left(K_{a} E - M_{a} w_{a}\\right)\\end{matrix}\\right]$$"
      ],
      "text/plain": [
       "⎡                       K_q⋅E⋅μ - μ⋅M_q⋅w_q - 0.5⋅μ⋅β                       ⎤\n",
       "⎢                                                                           ⎥\n",
       "⎢                                             -1                            ⎥\n",
       "⎢               Kᵥ⋅E - Mᵥ⋅wᵥ + \\hat{I_a} - α⋅μ  ⋅\\hat{I_a}⋅μ                ⎥\n",
       "⎢                                                                           ⎥\n",
       "⎢                                 -1            -1                          ⎥\n",
       "⎢-M_ω⋅w_ω + 2⋅M_q⋅w_q⋅\\times⋅β + μ  ⋅K_ω⋅E⋅μ + μ  ⋅\\hat{I_\\omega}⋅μ⋅\\times⋅β⎥\n",
       "⎢                                                                           ⎥\n",
       "⎣                             α⋅(Kₐ⋅E - Mₐ⋅wₐ)                              ⎦"
      ]
     },
     "execution_count": 19,
     "metadata": {},
     "output_type": "execute_result"
    }
   ],
   "source": [
    "e_dot = sympy.Matrix([mu_dot_expr, nu_dot_expr, beta_dot3, alpha_dot])\n",
    "e_dot"
   ]
  },
  {
   "cell_type": "markdown",
   "metadata": {},
   "source": [
    "Sympy uses the wrong rules for the derivative on the inverse, which\n",
    "causes A to be wrong."
   ]
  },
  {
   "cell_type": "code",
   "execution_count": 20,
   "metadata": {
    "collapsed": false
   },
   "outputs": [
    {
     "data": {
      "image/png": "[encoded data removed]",
      "text/latex": [
       "$$- \\mu^{-2} \\hat{I_a} \\mu + \\mu^{-1} \\hat{I_a}$$"
      ],
      "text/plain": [
       "   -2                -1          \n",
       "- μ  ⋅\\hat{I_a}⋅μ + μ  ⋅\\hat{I_a}"
      ]
     },
     "execution_count": 20,
     "metadata": {},
     "output_type": "execute_result"
    }
   ],
   "source": [
    "(1/mu*I_ah*mu).diff(mu)"
   ]
  },
  {
   "cell_type": "code",
   "execution_count": 21,
   "metadata": {
    "collapsed": false
   },
   "outputs": [
    {
     "data": {
      "image/png": "[encoded data removed]",
      "text/latex": [
       "$$- \\mu^{-2}$$"
      ],
      "text/plain": [
       "  -2\n",
       "-μ  "
      ]
     },
     "execution_count": 21,
     "metadata": {},
     "output_type": "execute_result"
    }
   ],
   "source": [
    "(1/mu).diff(mu)"
   ]
  },
  {
   "cell_type": "code",
   "execution_count": 22,
   "metadata": {
    "collapsed": false
   },
   "outputs": [
    {
     "data": {
      "image/png": "[encoded data removed]",
      "text/latex": [
       "$$\\alpha \\mu^{-2} \\hat{I_a} \\mu - \\alpha \\mu^{-1} \\hat{I_a}$$"
      ],
      "text/plain": [
       "   -2                  -1          \n",
       "α⋅μ  ⋅\\hat{I_a}⋅μ - α⋅μ  ⋅\\hat{I_a}"
      ]
     },
     "execution_count": 22,
     "metadata": {},
     "output_type": "execute_result"
    }
   ],
   "source": [
    "nu_dot_expr.diff(mu)"
   ]
  },
  {
   "cell_type": "code",
   "execution_count": 23,
   "metadata": {
    "collapsed": false
   },
   "outputs": [
    {
     "data": {
      "text/latex": [
       "$$\\left[\\begin{matrix}\\mu & \\nu & \\beta & \\alpha\\end{matrix}\\right]$$"
      ],
      "text/plain": [
       "[μ  ν  β  α]"
      ]
     },
     "execution_count": 23,
     "metadata": {},
     "output_type": "execute_result"
    }
   ],
   "source": [
    "e = sympy.Matrix([mu, nu, beta, alpha])\n",
    "e.T"
   ]
  },
  {
   "cell_type": "code",
   "execution_count": 24,
   "metadata": {
    "collapsed": false
   },
   "outputs": [
    {
     "data": {
      "text/latex": [
       "$$\\left[\\begin{matrix}w_{q} & w_{v} & w_{\\omega} & w_{a}\\end{matrix}\\right]$$"
      ],
      "text/plain": [
       "[w_q  wᵥ  w_ω  wₐ]"
      ]
     },
     "execution_count": 24,
     "metadata": {},
     "output_type": "execute_result"
    }
   ],
   "source": [
    "w = sympy.Matrix([w_q, w_v, w_omega, w_a])\n",
    "w.T"
   ]
  },
  {
   "cell_type": "code",
   "execution_count": 25,
   "metadata": {
    "collapsed": false
   },
   "outputs": [
    {
     "data": {
      "image/png": "[encoded data removed]",
      "text/latex": [
       "$$K_{v} E - M_{v} w_{v} + \\hat{I_a} - \\alpha \\mu^{-1} \\hat{I_a} \\mu$$"
      ],
      "text/plain": [
       "                              -1            \n",
       "Kᵥ⋅E - Mᵥ⋅wᵥ + \\hat{I_a} - α⋅μ  ⋅\\hat{I_a}⋅μ"
      ]
     },
     "execution_count": 25,
     "metadata": {},
     "output_type": "execute_result"
    }
   ],
   "source": [
    "nu_dot_expr"
   ]
  },
  {
   "cell_type": "code",
   "execution_count": 26,
   "metadata": {
    "collapsed": false
   },
   "outputs": [
    {
     "data": {
      "text/latex": [
       "$$\\left[\\begin{matrix}0 & 0 & -0.5 & 0\\\\0 & 0 & 0 & - \\hat{I_a}\\\\0 & 0 & \\hat{I_\\omega} \\times & 0\\\\0 & 0 & 0 & 0\\end{matrix}\\right]$$"
      ],
      "text/plain": [
       "⎡0  0          -0.5               0     ⎤\n",
       "⎢                                       ⎥\n",
       "⎢0  0            0            -\\hat{I_a}⎥\n",
       "⎢                                       ⎥\n",
       "⎢0  0  \\hat{I_\\omega}⋅\\times      0     ⎥\n",
       "⎢                                       ⎥\n",
       "⎣0  0            0                0     ⎦"
      ]
     },
     "execution_count": 26,
     "metadata": {},
     "output_type": "execute_result"
    }
   ],
   "source": [
    "sub_lin = {\n",
    "    mu: 1,\n",
    "    nu: 0,\n",
    "    beta: 0,\n",
    "    alpha: 1,\n",
    "    E: 0,\n",
    "    w_q: 0,\n",
    "    w_a: 0,\n",
    "}\n",
    "A = e_dot.jacobian(e).subs(sub_lin)\n",
    "A"
   ]
  },
  {
   "cell_type": "code",
   "execution_count": 27,
   "metadata": {
    "collapsed": false
   },
   "outputs": [
    {
     "data": {
      "text/latex": [
       "$$\\left[\\begin{matrix}- M_{q} & 0 & 0 & 0\\\\0 & - M_{v} & 0 & 0\\\\0 & 0 & - M_{\\omega} & 0\\\\0 & 0 & 0 & - M_{a}\\end{matrix}\\right]$$"
      ],
      "text/plain": [
       "⎡-M_q   0    0     0 ⎤\n",
       "⎢                    ⎥\n",
       "⎢ 0    -Mᵥ   0     0 ⎥\n",
       "⎢                    ⎥\n",
       "⎢ 0     0   -M_ω   0 ⎥\n",
       "⎢                    ⎥\n",
       "⎣ 0     0    0    -Mₐ⎦"
      ]
     },
     "execution_count": 27,
     "metadata": {},
     "output_type": "execute_result"
    }
   ],
   "source": [
    "M = e_dot.jacobian(w).subs(sub_lin)\n",
    "M"
   ]
  },
  {
   "cell_type": "code",
   "execution_count": 28,
   "metadata": {
    "collapsed": false
   },
   "outputs": [
    {
     "data": {
      "text/latex": [
       "$$\\left[\\begin{matrix}K_{q}\\\\K_{v}\\\\K_{\\omega}\\\\K_{a}\\end{matrix}\\right]$$"
      ],
      "text/plain": [
       "⎡K_q⎤\n",
       "⎢   ⎥\n",
       "⎢Kᵥ ⎥\n",
       "⎢   ⎥\n",
       "⎢K_ω⎥\n",
       "⎢   ⎥\n",
       "⎣Kₐ ⎦"
      ]
     },
     "execution_count": 28,
     "metadata": {},
     "output_type": "execute_result"
    }
   ],
   "source": [
    "e_dot.jacobian(sympy.Matrix([E])).subs(sub_lin)"
   ]
  }
 ],
 "metadata": {
  "anaconda-cloud": {},
  "kernelspec": {
   "display_name": "Python [conda root]",
   "language": "python",
   "name": "conda-root-py"
  },
  "language_info": {
   "codemirror_mode": {
    "name": "ipython",
    "version": 3
   },
   "file_extension": ".py",
   "mimetype": "text/x-python",
   "name": "python",
   "nbconvert_exporter": "python",
   "pygments_lexer": "ipython3",
   "version": "3.5.2"
  }
 },
 "nbformat": 4,
 "nbformat_minor": 1
}
