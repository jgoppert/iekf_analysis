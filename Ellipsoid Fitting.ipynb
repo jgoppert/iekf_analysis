{
 "cells": [
  {
   "cell_type": "code",
   "execution_count": 1,
   "metadata": {
    "collapsed": true
   },
   "outputs": [],
   "source": [
    "import sympy\n",
    "sympy.init_printing()"
   ]
  },
  {
   "cell_type": "code",
   "execution_count": 70,
   "metadata": {
    "collapsed": false
   },
   "outputs": [],
   "source": [
    "def derive_equations():\n",
    "    a, b, c = sympy.symbols('a, b, c')\n",
    "    c_x, c_y, c_z = sympy.symbols('c_x, c_y, c_z')\n",
    "    x, y, z = sympy.symbols('x, y, z')\n",
    "\n",
    "    eq = (x - c_x)**2/a + (y - c_y)**2/b + (z - c_z)**2/c\n",
    "    \n",
    "    sympy.Poly(eq.expand().simplify(), [x, y, z])\n",
    "    \n",
    "    c_vect = sympy.Matrix([ it.simplify() for it in sympy.Poly(eq.expand().simplify(), [x, y, z]).coeffs()])\n",
    "    c_syms = sympy.Matrix(sympy.symbols('c_0:{:d}'.format(len(c_vect))))\n",
    "    C = c_vect\n",
    "    \n",
    "    rev_coeffs = sympy.solve(list(sympy.Matrix(C) - sympy.Matrix(c_syms)),\n",
    "        [a, b, c, c_x, c_y, c_z, c_syms[-1]], dict=True)[0]\n",
    "\n",
    "    def X(n):\n",
    "        x_vect = sympy.Matrix(sympy.symbols('x_0:{:d}'.format(n)))\n",
    "        xsq_vect = x_vect.multiply_elementwise(x_vect)\n",
    "\n",
    "        y_vect = sympy.Matrix(sympy.symbols('y_0:{:d}'.format(n)))\n",
    "        ysq_vect = y_vect.multiply_elementwise(y_vect)\n",
    "\n",
    "        z_vect = sympy.Matrix(sympy.symbols('z_0:{:d}'.format(n)))\n",
    "        zsq_vect = z_vect.multiply_elementwise(z_vect)\n",
    "        ones = sympy.ones(n, 1)\n",
    "        X = xsq_vect.row_join(x_vect).row_join(ysq_vect).row_join(\n",
    "            y_vect).row_join(zsq_vect).row_join(z_vect).row_join(ones)\n",
    "        return sympy.Matrix(X)\n",
    "\n",
    "    def Y(n):\n",
    "        return sympy.ones(n, 1)\n",
    "\n",
    "    def XTY(n):\n",
    "        return X(n).T*Y(n)\n",
    "    \n",
    "    def XTX(n):\n",
    "        return X(n).T*X(n)\n",
    "\n",
    "    def dXTY(n):\n",
    "        return X(n).T*Y(n) - X(n-1).T*Y(n-1)\n",
    "\n",
    "    def dXTX(n):\n",
    "        return X(n).T*X(n) - X(n-1).T*X(n-1)\n",
    "    \n",
    "    dXTY2 = dXTY(2)\n",
    "    dXTX2 = dXTX(2)\n",
    "\n",
    "    f_dXTX = sympy.lambdify(sympy.symbols('x_1, y_1, z_1'), dXTX(2))\n",
    "    f_dXTY = sympy.lambdify(sympy.symbols('x_1, y_1, z_1'), dXTY(2))\n",
    "    \n",
    "    return locals()"
   ]
  },
  {
   "cell_type": "markdown",
   "metadata": {},
   "source": [
    "We can solve this using recursive least squares.\n",
    "\n",
    "$ Y = X C $\n",
    "\n",
    "$ X^T Y = X^T X C $\n",
    "\n",
    "$ C = (X^T X)^{-1} X^T Y $"
   ]
  },
  {
   "cell_type": "code",
   "execution_count": 71,
   "metadata": {
    "collapsed": false
   },
   "outputs": [
    {
     "data": {
      "image/png": "[encoded data removed]",
      "text/latex": [
       "$$\\left[\\begin{matrix}x_{1}^{2}\\\\x_{1}\\\\y_{1}^{2}\\\\y_{1}\\\\z_{1}^{2}\\\\z_{1}\\\\1\\end{matrix}\\right]$$"
      ],
      "text/plain": [
       "⎡  2⎤\n",
       "⎢x₁ ⎥\n",
       "⎢   ⎥\n",
       "⎢x₁ ⎥\n",
       "⎢   ⎥\n",
       "⎢  2⎥\n",
       "⎢y₁ ⎥\n",
       "⎢   ⎥\n",
       "⎢y₁ ⎥\n",
       "⎢   ⎥\n",
       "⎢  2⎥\n",
       "⎢z₁ ⎥\n",
       "⎢   ⎥\n",
       "⎢z₁ ⎥\n",
       "⎢   ⎥\n",
       "⎣ 1 ⎦"
      ]
     },
     "execution_count": 71,
     "metadata": {},
     "output_type": "execute_result"
    }
   ],
   "source": [
    "eqs = derive_equations()\n",
    "eqs['dXTY2']"
   ]
  },
  {
   "cell_type": "code",
   "execution_count": 72,
   "metadata": {
    "collapsed": false
   },
   "outputs": [
    {
     "data": {
      "image/png": "[encoded data removed]",
      "text/latex": [
       "$$\\left[\\begin{matrix}\\frac{1}{a}\\\\- \\frac{2 c_{x}}{a}\\\\\\frac{1}{b}\\\\- \\frac{2 c_{y}}{b}\\\\\\frac{1}{c}\\\\- \\frac{2 c_{z}}{c}\\\\\\frac{c_{z}^{2}}{c} + \\frac{c_{y}^{2}}{b} + \\frac{c_{x}^{2}}{a}\\end{matrix}\\right]$$"
      ],
      "text/plain": [
       "⎡        1        ⎤\n",
       "⎢        ─        ⎥\n",
       "⎢        a        ⎥\n",
       "⎢                 ⎥\n",
       "⎢     -2⋅cₓ       ⎥\n",
       "⎢     ──────      ⎥\n",
       "⎢       a         ⎥\n",
       "⎢                 ⎥\n",
       "⎢        1        ⎥\n",
       "⎢        ─        ⎥\n",
       "⎢        b        ⎥\n",
       "⎢                 ⎥\n",
       "⎢     -2⋅c_y      ⎥\n",
       "⎢     ───────     ⎥\n",
       "⎢        b        ⎥\n",
       "⎢                 ⎥\n",
       "⎢        1        ⎥\n",
       "⎢        ─        ⎥\n",
       "⎢        c        ⎥\n",
       "⎢                 ⎥\n",
       "⎢     -2⋅c_z      ⎥\n",
       "⎢     ───────     ⎥\n",
       "⎢        c        ⎥\n",
       "⎢                 ⎥\n",
       "⎢   2      2     2⎥\n",
       "⎢c_z    c_y    cₓ ⎥\n",
       "⎢──── + ──── + ───⎥\n",
       "⎣ c      b      a ⎦"
      ]
     },
     "execution_count": 72,
     "metadata": {},
     "output_type": "execute_result"
    }
   ],
   "source": [
    "eqs['c_vect']"
   ]
  },
  {
   "cell_type": "code",
   "execution_count": 73,
   "metadata": {
    "collapsed": false
   },
   "outputs": [
    {
     "data": {
      "image/png": "[encoded data removed]",
      "text/latex": [
       "$$\\left \\{ a : \\frac{1}{c_{0}}, \\quad b : \\frac{1}{c_{2}}, \\quad c : \\frac{1}{c_{4}}, \\quad c_{6} : \\frac{c_{5}^{2}}{4 c_{4}} + \\frac{c_{3}^{2}}{4 c_{2}} + \\frac{c_{1}^{2}}{4 c_{0}}, \\quad c_{x} : - \\frac{c_{1}}{2 c_{0}}, \\quad c_{y} : - \\frac{c_{3}}{2 c_{2}}, \\quad c_{z} : - \\frac{c_{5}}{2 c_{4}}\\right \\}$$"
      ],
      "text/plain": [
       "⎧                           2      2      2                                 ⎫\n",
       "⎪   1      1      1       c₅     c₃     c₁        -c₁        -c₃        -c₅ ⎪\n",
       "⎨a: ──, b: ──, c: ──, c₆: ──── + ──── + ────, cₓ: ────, c_y: ────, c_z: ────⎬\n",
       "⎪   c₀     c₂     c₄      4⋅c₄   4⋅c₂   4⋅c₀      2⋅c₀       2⋅c₂       2⋅c₄⎪\n",
       "⎩                                                                           ⎭"
      ]
     },
     "execution_count": 73,
     "metadata": {},
     "output_type": "execute_result"
    }
   ],
   "source": [
    "eqs['rev_coeffs']"
   ]
  },
  {
   "cell_type": "code",
   "execution_count": 74,
   "metadata": {
    "collapsed": false
   },
   "outputs": [
    {
     "data": {
      "image/png": "[encoded data removed]",
      "text/latex": [
       "$$\\left[\\begin{matrix}x_{0}^{4} + x_{1}^{4} & x_{0}^{3} + x_{1}^{3} & x_{0}^{2} y_{0}^{2} + x_{1}^{2} y_{1}^{2} & x_{0}^{2} y_{0} + x_{1}^{2} y_{1} & x_{0}^{2} z_{0}^{2} + x_{1}^{2} z_{1}^{2} & x_{0}^{2} z_{0} + x_{1}^{2} z_{1} & x_{0}^{2} + x_{1}^{2}\\\\x_{0}^{3} + x_{1}^{3} & x_{0}^{2} + x_{1}^{2} & x_{0} y_{0}^{2} + x_{1} y_{1}^{2} & x_{0} y_{0} + x_{1} y_{1} & x_{0} z_{0}^{2} + x_{1} z_{1}^{2} & x_{0} z_{0} + x_{1} z_{1} & x_{0} + x_{1}\\\\x_{0}^{2} y_{0}^{2} + x_{1}^{2} y_{1}^{2} & x_{0} y_{0}^{2} + x_{1} y_{1}^{2} & y_{0}^{4} + y_{1}^{4} & y_{0}^{3} + y_{1}^{3} & y_{0}^{2} z_{0}^{2} + y_{1}^{2} z_{1}^{2} & y_{0}^{2} z_{0} + y_{1}^{2} z_{1} & y_{0}^{2} + y_{1}^{2}\\\\x_{0}^{2} y_{0} + x_{1}^{2} y_{1} & x_{0} y_{0} + x_{1} y_{1} & y_{0}^{3} + y_{1}^{3} & y_{0}^{2} + y_{1}^{2} & y_{0} z_{0}^{2} + y_{1} z_{1}^{2} & y_{0} z_{0} + y_{1} z_{1} & y_{0} + y_{1}\\\\x_{0}^{2} z_{0}^{2} + x_{1}^{2} z_{1}^{2} & x_{0} z_{0}^{2} + x_{1} z_{1}^{2} & y_{0}^{2} z_{0}^{2} + y_{1}^{2} z_{1}^{2} & y_{0} z_{0}^{2} + y_{1} z_{1}^{2} & z_{0}^{4} + z_{1}^{4} & z_{0}^{3} + z_{1}^{3} & z_{0}^{2} + z_{1}^{2}\\\\x_{0}^{2} z_{0} + x_{1}^{2} z_{1} & x_{0} z_{0} + x_{1} z_{1} & y_{0}^{2} z_{0} + y_{1}^{2} z_{1} & y_{0} z_{0} + y_{1} z_{1} & z_{0}^{3} + z_{1}^{3} & z_{0}^{2} + z_{1}^{2} & z_{0} + z_{1}\\\\x_{0}^{2} + x_{1}^{2} & x_{0} + x_{1} & y_{0}^{2} + y_{1}^{2} & y_{0} + y_{1} & z_{0}^{2} + z_{1}^{2} & z_{0} + z_{1} & 2\\end{matrix}\\right]$$"
      ],
      "text/plain": [
       "⎡      4     4           3     3       2   2     2   2    2        2       2  \n",
       "⎢    x₀  + x₁          x₀  + x₁      x₀ ⋅y₀  + x₁ ⋅y₁   x₀ ⋅y₀ + x₁ ⋅y₁  x₀ ⋅z\n",
       "⎢                                                                             \n",
       "⎢      3     3           2     2           2        2                         \n",
       "⎢    x₀  + x₁          x₀  + x₁       x₀⋅y₀  + x₁⋅y₁     x₀⋅y₀ + x₁⋅y₁    x₀⋅z\n",
       "⎢                                                                             \n",
       "⎢  2   2     2   2       2        2        4     4           3     3       2  \n",
       "⎢x₀ ⋅y₀  + x₁ ⋅y₁   x₀⋅y₀  + x₁⋅y₁       y₀  + y₁          y₀  + y₁      y₀ ⋅z\n",
       "⎢                                                                             \n",
       "⎢   2        2                             3     3           2     2          \n",
       "⎢ x₀ ⋅y₀ + x₁ ⋅y₁    x₀⋅y₀ + x₁⋅y₁       y₀  + y₁          y₀  + y₁       y₀⋅z\n",
       "⎢                                                                             \n",
       "⎢  2   2     2   2       2        2    2   2     2   2       2        2       \n",
       "⎢x₀ ⋅z₀  + x₁ ⋅z₁   x₀⋅z₀  + x₁⋅z₁   y₀ ⋅z₀  + y₁ ⋅z₁   y₀⋅z₀  + y₁⋅z₁       z\n",
       "⎢                                                                             \n",
       "⎢   2        2                          2        2                            \n",
       "⎢ x₀ ⋅z₀ + x₁ ⋅z₁    x₀⋅z₀ + x₁⋅z₁    y₀ ⋅z₀ + y₁ ⋅z₁    y₀⋅z₀ + y₁⋅z₁       z\n",
       "⎢                                                                             \n",
       "⎢      2     2                             2     2                            \n",
       "⎣    x₀  + x₁           x₀ + x₁          y₀  + y₁           y₀ + y₁          z\n",
       "\n",
       " 2     2   2    2        2       2     2⎤\n",
       "₀  + x₁ ⋅z₁   x₀ ⋅z₀ + x₁ ⋅z₁  x₀  + x₁ ⎥\n",
       "                                        ⎥\n",
       " 2        2                             ⎥\n",
       "₀  + x₁⋅z₁     x₀⋅z₀ + x₁⋅z₁    x₀ + x₁ ⎥\n",
       "                                        ⎥\n",
       " 2     2   2    2        2       2     2⎥\n",
       "₀  + y₁ ⋅z₁   y₀ ⋅z₀ + y₁ ⋅z₁  y₀  + y₁ ⎥\n",
       "                                        ⎥\n",
       " 2        2                             ⎥\n",
       "₀  + y₁⋅z₁     y₀⋅z₀ + y₁⋅z₁    y₀ + y₁ ⎥\n",
       "                                        ⎥\n",
       " 4     4           3     3       2     2⎥\n",
       "₀  + z₁          z₀  + z₁      z₀  + z₁ ⎥\n",
       "                                        ⎥\n",
       " 3     3           2     2              ⎥\n",
       "₀  + z₁          z₀  + z₁       z₀ + z₁ ⎥\n",
       "                                        ⎥\n",
       " 2     2                                ⎥\n",
       "₀  + z₁           z₀ + z₁          2    ⎦"
      ]
     },
     "execution_count": 74,
     "metadata": {},
     "output_type": "execute_result"
    }
   ],
   "source": [
    "eqs['XTX'](2)"
   ]
  },
  {
   "cell_type": "code",
   "execution_count": 75,
   "metadata": {
    "collapsed": false
   },
   "outputs": [
    {
     "data": {
      "image/png": "[encoded data removed]",
      "text/latex": [
       "$$\\left[\\begin{matrix}\\frac{1}{a}\\\\- \\frac{2 c_{x}}{a}\\\\\\frac{1}{b}\\\\- \\frac{2 c_{y}}{b}\\\\\\frac{1}{c}\\\\- \\frac{2 c_{z}}{c}\\\\\\frac{c_{z}^{2}}{c} + \\frac{c_{y}^{2}}{b} + \\frac{c_{x}^{2}}{a}\\end{matrix}\\right]$$"
      ],
      "text/plain": [
       "⎡        1        ⎤\n",
       "⎢        ─        ⎥\n",
       "⎢        a        ⎥\n",
       "⎢                 ⎥\n",
       "⎢     -2⋅cₓ       ⎥\n",
       "⎢     ──────      ⎥\n",
       "⎢       a         ⎥\n",
       "⎢                 ⎥\n",
       "⎢        1        ⎥\n",
       "⎢        ─        ⎥\n",
       "⎢        b        ⎥\n",
       "⎢                 ⎥\n",
       "⎢     -2⋅c_y      ⎥\n",
       "⎢     ───────     ⎥\n",
       "⎢        b        ⎥\n",
       "⎢                 ⎥\n",
       "⎢        1        ⎥\n",
       "⎢        ─        ⎥\n",
       "⎢        c        ⎥\n",
       "⎢                 ⎥\n",
       "⎢     -2⋅c_z      ⎥\n",
       "⎢     ───────     ⎥\n",
       "⎢        c        ⎥\n",
       "⎢                 ⎥\n",
       "⎢   2      2     2⎥\n",
       "⎢c_z    c_y    cₓ ⎥\n",
       "⎢──── + ──── + ───⎥\n",
       "⎣ c      b      a ⎦"
      ]
     },
     "execution_count": 75,
     "metadata": {},
     "output_type": "execute_result"
    }
   ],
   "source": [
    "eqs['C']"
   ]
  },
  {
   "cell_type": "code",
   "execution_count": 76,
   "metadata": {
    "collapsed": false
   },
   "outputs": [
    {
     "name": "stdout",
     "output_type": "stream",
     "text": [
      "Populating the interactive namespace from numpy and matplotlib\n",
      "res [[ -1.25000000e+01]\n",
      " [ -7.25444264e-03]\n",
      " [ -1.30000000e+01]\n",
      " [ -4.88954787e-03]\n",
      " [ -1.25000000e+01]\n",
      " [  4.40728183e-17]\n",
      " [  1.27500000e+01]]\n",
      "-1.51230180486367e-6\n"
     ]
    },
    {
     "name": "stderr",
     "output_type": "stream",
     "text": [
      "/home/jgoppert/anaconda3/lib/python3.5/site-packages/IPython/core/magics/pylab.py:161: UserWarning: pylab import has clobbered these variables: ['test']\n",
      "`%matplotlib` prevents importing * from pylab and numpy\n",
      "  \"\\n`%matplotlib` prevents importing * from pylab and numpy\"\n"
     ]
    },
    {
     "data": {
      "image/png": "[encoded data removed]",
      "text/latex": [
       "$$\\left ( \\left \\{ a : -0.08, \\quad b : -0.0769230769230769, \\quad c : -0.08, \\quad c_{6} : -1.51230180486367 \\cdot 10^{-6}, \\quad c_{x} : -0.000290177705529163, \\quad c_{y} : -0.000188059533339138, \\quad c_{z} : 1.76291273246143 \\cdot 10^{-18}\\right \\}, \\quad -1.51230180486367 \\cdot 10^{-6}\\right )$$"
      ],
      "text/plain": [
       "({a: -0.08, b: -0.0769230769230769, c: -0.08, c₆: -1.51230180486367e-6, cₓ: -0\n",
       ".000290177705529163, c_y: -0.000188059533339138, c_z: 1.76291273246143e-18}, -\n",
       "1.51230180486367e-6)"
      ]
     },
     "execution_count": 76,
     "metadata": {},
     "output_type": "execute_result"
    }
   ],
   "source": [
    "%pylab inline\n",
    "from mpl_toolkits.mplot3d import Axes3D\n",
    "\n",
    "def test(eqs):\n",
    "\n",
    "    data = []\n",
    "    seed(1234)\n",
    "    for i in range(1000):\n",
    "        psi = 2*pi*rand()\n",
    "        theta = pi*rand()\n",
    "        data += [[sin(theta)*cos(psi), sin(theta)*np.sin(psi), np.cos(theta)]]\n",
    "    \n",
    "    #data = array(data)\n",
    "    #fig = plt.figure()\n",
    "    #ax = fig.add_subplot(111, projection='3d')\n",
    "    #ax.plot3D(*data.T, '.')\n",
    "    \n",
    "    dxtx_val = np.zeros((7, 7))\n",
    "    dxty_val = np.zeros((7, 1))\n",
    "\n",
    "    for i in range(len(data)):\n",
    "        p = data[i]\n",
    "        dxtx_val += eqs['f_dXTX'](p[0], p[1], p[2])\n",
    "        dxty_val += 0.1*eqs['f_dXTY'](p[0], p[1], p[2])\n",
    "        \n",
    "    res = np.linalg.inv(dxtx_val).dot(dxty_val)\n",
    "    print('res', res)\n",
    "    res_sub = { eqs['c_syms'][i]: res[i, 0] for i in range(6)}\n",
    "    \n",
    "    ans = { key: eqs['rev_coeffs'][key].subs(res_sub) for key in eqs['rev_coeffs'].keys() }\n",
    "    \n",
    "    print(eqs['c_vect'][-1].subs(ans))\n",
    "    return locals()\n",
    "\n",
    "res = test(eqs)\n",
    "res['ans'], eqs['c_vect'][-1].subs(res['ans'])"
   ]
  },
  {
   "cell_type": "code",
   "execution_count": 77,
   "metadata": {
    "collapsed": false
   },
   "outputs": [
    {
     "data": {
      "image/png": "[encoded data removed]",
      "text/latex": [
       "$$-1.51230180486367 \\cdot 10^{-6}$$"
      ],
      "text/plain": [
       "-1.51230180486367e-6"
      ]
     },
     "execution_count": 77,
     "metadata": {},
     "output_type": "execute_result"
    }
   ],
   "source": [
    "eqs['c_vect'][-1].subs(res['ans'])"
   ]
  },
  {
   "cell_type": "code",
   "execution_count": 45,
   "metadata": {
    "collapsed": false
   },
   "outputs": [
    {
     "data": {
      "image/png": "[encoded data removed]",
      "text/latex": [
       "$$\\frac{c_{z}^{2}}{c} + \\frac{c_{y}^{2}}{b} + \\frac{c_{x}^{2}}{a}$$"
      ],
      "text/plain": [
       "   2      2     2\n",
       "c_z    c_y    cₓ \n",
       "──── + ──── + ───\n",
       " c      b      a "
      ]
     },
     "execution_count": 45,
     "metadata": {},
     "output_type": "execute_result"
    }
   ],
   "source": [
    "eqs['c_vect'][-1]"
   ]
  },
  {
   "cell_type": "code",
   "execution_count": null,
   "metadata": {
    "collapsed": true
   },
   "outputs": [],
   "source": []
  }
 ],
 "metadata": {
  "anaconda-cloud": {},
  "kernelspec": {
   "display_name": "Python [conda root]",
   "language": "python",
   "name": "conda-root-py"
  },
  "language_info": {
   "codemirror_mode": {
    "name": "ipython",
    "version": 3
   },
   "file_extension": ".py",
   "mimetype": "text/x-python",
   "name": "python",
   "nbconvert_exporter": "python",
   "pygments_lexer": "ipython3",
   "version": "3.5.2"
  }
 },
 "nbformat": 4,
 "nbformat_minor": 1
}
