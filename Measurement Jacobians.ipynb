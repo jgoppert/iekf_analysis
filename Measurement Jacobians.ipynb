{
 "cells": [
  {
   "cell_type": "code",
   "execution_count": 1,
   "metadata": {
    "collapsed": true
   },
   "outputs": [],
   "source": [
    "from __future__ import print_function\n",
    "import sympy\n",
    "import sympy.physics.mechanics as mech\n",
    "sympy.init_printing()\n",
    "mech.init_vprinting()"
   ]
  },
  {
   "cell_type": "code",
   "execution_count": 16,
   "metadata": {
    "collapsed": false
   },
   "outputs": [],
   "source": [
    "t = sympy.symbols('t')\n",
    "rot_N, rot_E, rot_D, vel_N, vel_E, vel_D, \\\n",
    "    gyro_bias_N, gyro_bias_E, gyro_bias_D, accel_scale, \\\n",
    "    pos_N, pos_E, asl, terrain_asl, baro_bias, \\\n",
    "    wind_N, wind_E, wind_D, d, agl, phi, theta, psi  = mech.dynamicsymbols(\n",
    "    'rot_N, rot_E, rot_D, vel_N, vel_E, vel_D, ' \\\n",
    "    'gyro_bias_N, gyro_bias_E, gyro_bias_D, accel_scale, ' \\\n",
    "    'pos_N, pos_E, asl, terrain_asl, baro_bias, ' \\\n",
    "    'wind_N, wind_E, wind_D, d, agl, phi, theta, psi') \n",
    "frame_i = mech.ReferenceFrame('i')\n",
    "frame_n = frame_i.orientnew('n', 'Quaternion', (1, rot_N, rot_E, rot_D))\n",
    "#frame_b = frame_n.orientnew('b', 'Quaternion', (q_0, q_1, q_2, q_3)) \n",
    "# easier to see where we get divide by zeros if we express dcm in euler angles\n",
    "frame_b = frame_n.orientnew('b', 'Body', (psi, theta, phi), '321')\n",
    "C_nb = frame_n.dcm(frame_b)\n",
    "assert C_nb[0, 1] == frame_n.x.dot(frame_b.y)\n",
    "sub_C_nb = {}\n",
    "for i in range(3):\n",
    "    for j in range(3):\n",
    "        sub_C_nb[C_nb[i, j]] = sympy.Symbol('C_nb({:d}, {:d})'.format(i, j))(t)\n",
    "        sub_C_nb[-C_nb[i, j]] = -sympy.Symbol('C_nb({:d}, {:d})'.format(i, j))(t)\n",
    "sub_C_nb\n",
    "sub_lin = {\n",
    "    rot_N: 0,\n",
    "    rot_E: 0,\n",
    "    rot_D: 0,\n",
    "    gyro_bias_N: 0,\n",
    "    gyro_bias_E: 0,\n",
    "    gyro_bias_D: 0\n",
    "}\n",
    "sub_agl = {\n",
    "    asl - terrain_asl: agl\n",
    "}\n",
    "omega_bx, omega_by, omega_bz = mech.dynamicsymbols('omega_bx, omega_by, omega_bz')\n",
    "flowX, flowY = mech.dynamicsymbols('flowX, flowY')\n",
    "omega_ib_b = omega_bx * frame_b.x \\\n",
    "    + omega_by * frame_b.y \\\n",
    "    + omega_bz * frame_b.z\n",
    "gyro_bias_i = gyro_bias_N * frame_i.x \\\n",
    "    + gyro_bias_E * frame_i.y \\\n",
    "    + gyro_bias_D * frame_i.z\n",
    "omega_nx, omega_ny, omega_nz = mech.dynamicsymbols('omega_nx, omega_ny, omega_nz')\n",
    "omega_in_n = -gyro_bias_N * frame_n.x \\\n",
    "    - gyro_bias_E * frame_n.y \\\n",
    "    - gyro_bias_D * frame_n.z\n",
    "a_N, a_E, a_D = mech.dynamicsymbols('a_N, a_E, a_D')\n",
    "a_n = a_N*frame_n.x + a_E*frame_n.y + a_D*frame_n.z\n",
    "v_i = vel_N*frame_i.x + vel_E*frame_i.y + vel_D*frame_i.z\n",
    "p_i = pos_N*frame_i.x + pos_E*frame_i.y - asl*frame_i.z\n",
    "I_wx, I_wy, I_wz = mech.dynamicsymbols('I_wx, I_wy, I_wz')\n",
    "I_w_n = I_wx*frame_n.x + I_wy*frame_n.y  + I_wz*frame_n.z"
   ]
  },
  {
   "cell_type": "code",
   "execution_count": 17,
   "metadata": {
    "collapsed": false
   },
   "outputs": [
    {
     "data": {
      "text/latex": [
       "$$\\left[\\begin{array}{cccccccccccccccccc}rot_{N} & rot_{E} & rot_{D} & vel_{N} & vel_{E} & vel_{D} & gyro_{biasN} & gyro_{biasE} & gyro_{biasD} & accel_{scale} & pos_{N} & pos_{E} & asl & terrain_{asl} & baro_{bias} & wind_{N} & wind_{E} & wind_{D}\\end{array}\\right]$$"
      ],
      "text/plain": [
       "[rot_N  rot_E  rot_D  vel_N  vel_E  vel_D  gyro_bias_N  gyro_bias_E  gyro_bias\n",
       "_D  accel_scale  pos_N  pos_E  asl  terrainₐₛₗ  baro_bias  wind_N  wind_E  win\n",
       "d_D]"
      ]
     },
     "execution_count": 17,
     "metadata": {},
     "output_type": "execute_result"
    }
   ],
   "source": [
    "xe = sympy.Matrix([rot_N, rot_E, rot_D, vel_N, vel_E, vel_D, gyro_bias_N, gyro_bias_E, gyro_bias_D,\n",
    "                   accel_scale,\n",
    "                   pos_N, pos_E, asl, terrain_asl, baro_bias, wind_N, wind_E, wind_D])\n",
    "xe.T"
   ]
  },
  {
   "cell_type": "code",
   "execution_count": 18,
   "metadata": {
    "collapsed": false
   },
   "outputs": [],
   "source": [
    "def print_terms(terms):\n",
    "    for t in terms:\n",
    "        s = 'float {:s} = {:s};'.format(\n",
    "                str(t[0]), str(t[1]))\n",
    "        print(s.replace('(t)', ''))\n",
    "        \n",
    "def matrix_to_code(name, mat, i_name, i_syms, j_name, j_syms):\n",
    "    print('Matrix<float, {:s}n, {:s}n> {:s};'.format(i_name, j_name, name))\n",
    "    mat.simplify()\n",
    "    terms, mat = sympy.cse(mat)\n",
    "    print_terms(terms)\n",
    "    mat = mat[0]\n",
    "    for i in range(mat.shape[0]):\n",
    "        for j in range(mat.shape[1]):\n",
    "            if str(mat[i, j]) == \"0\":\n",
    "                continue\n",
    "            s = '{:s}({:s}{:s}, {:s}{:s}) = {:s};'.format(\n",
    "                str(name), i_name, str(i_syms[i]),\n",
    "                j_name, str(j_syms[j]), str(mat[i, j]))\n",
    "            print(s.replace('(t)', ''))"
   ]
  },
  {
   "cell_type": "markdown",
   "metadata": {},
   "source": [
    "## Dynamics"
   ]
  },
  {
   "cell_type": "markdown",
   "metadata": {},
   "source": [
    "This is just to check the other derivaiton in IEKF Derivation notebook, doesn't match yet, needes further work."
   ]
  },
  {
   "cell_type": "code",
   "execution_count": 19,
   "metadata": {
    "collapsed": false
   },
   "outputs": [
    {
     "data": {
      "image/png": "[encoded data removed]",
      "text/latex": [
       "$$\\left [ \\frac{1}{accel_{scale}} \\left(\\left(2 rot_{D} rot_{N} + 2 rot_{E}\\right) a_{D} + \\left(- 2 rot_{D} + 2 rot_{E} rot_{N}\\right) a_{E} + \\left(- rot^{2}_{D} - rot^{2}_{E} + rot^{2}_{N} + 1\\right) a_{N}\\right) - \\dot{vel}_{N}, \\quad \\frac{1}{accel_{scale}} \\left(\\left(2 rot_{D} rot_{E} - 2 rot_{N}\\right) a_{D} + \\left(2 rot_{D} + 2 rot_{E} rot_{N}\\right) a_{N} + \\left(- rot^{2}_{D} + rot^{2}_{E} - rot^{2}_{N} + 1\\right) a_{E}\\right) - \\dot{vel}_{E}, \\quad \\frac{1}{accel_{scale}} \\left(\\left(2 rot_{D} rot_{E} + 2 rot_{N}\\right) a_{E} + \\left(2 rot_{D} rot_{N} - 2 rot_{E}\\right) a_{N} + \\left(rot^{2}_{D} - rot^{2}_{E} - rot^{2}_{N} + 1\\right) a_{D}\\right) - \\dot{vel}_{D}\\right ]$$"
      ],
      "text/plain": [
       "⎡                                                                 ⎛       2   \n",
       "⎢(2⋅rot_D⋅rot_N + 2⋅rot_E)⋅a_D + (-2⋅rot_D + 2⋅rot_E⋅rot_N)⋅a_E + ⎝- rot_D  - \n",
       "⎢─────────────────────────────────────────────────────────────────────────────\n",
       "⎣                                             accel_scale                     \n",
       "\n",
       "     2        2    ⎞                                                          \n",
       "rot_E  + rot_N  + 1⎠⋅a_N           (2⋅rot_D⋅rot_E - 2⋅rot_N)⋅a_D + (2⋅rot_D + \n",
       "──────────────────────── - vel̇_N, ───────────────────────────────────────────\n",
       "                                                                              \n",
       "\n",
       "                     ⎛       2        2        2    ⎞                         \n",
       "2⋅rot_E⋅rot_N)⋅a_N + ⎝- rot_D  + rot_E  - rot_N  + 1⎠⋅a_E           (2⋅rot_D⋅r\n",
       "───────────────────────────────────────────────────────── - vel̇_E, ──────────\n",
       " accel_scale                                                                  \n",
       "\n",
       "                                                      ⎛     2        2        \n",
       "ot_E + 2⋅rot_N)⋅a_E + (2⋅rot_D⋅rot_N - 2⋅rot_E)⋅a_N + ⎝rot_D  - rot_E  - rot_N\n",
       "──────────────────────────────────────────────────────────────────────────────\n",
       "                                 accel_scale                                  \n",
       "\n",
       "2    ⎞             ⎤\n",
       "  + 1⎠⋅a_D         ⎥\n",
       "────────── - vel̇_D⎥\n",
       "                   ⎦"
      ]
     },
     "execution_count": 19,
     "metadata": {},
     "output_type": "execute_result"
    }
   ],
   "source": [
    "trans_kin_eqs = list((a_n.express(frame_i)/accel_scale - v_i.diff(t, frame_i)).to_matrix(frame_i))\n",
    "trans_kin_eqs"
   ]
  },
  {
   "cell_type": "code",
   "execution_count": 20,
   "metadata": {
    "collapsed": false
   },
   "outputs": [
    {
     "data": {
      "image/png": "[encoded data removed]",
      "text/latex": [
       "$$\\left [ - vel_{N} + \\dot{pos}_{N}, \\quad - vel_{E} + \\dot{pos}_{E}, \\quad - vel_{D} - \\dot{asl}\\right ]$$"
      ],
      "text/plain": [
       "[-vel_N + poṡ_N, -vel_E + poṡ_E, -vel_D - aṡl]"
      ]
     },
     "execution_count": 20,
     "metadata": {},
     "output_type": "execute_result"
    }
   ],
   "source": [
    "nav_eqs = list((p_i.diff(t, frame_i) - v_i).to_matrix(frame_i))\n",
    "nav_eqs"
   ]
  },
  {
   "cell_type": "code",
   "execution_count": 21,
   "metadata": {
    "collapsed": false
   },
   "outputs": [],
   "source": [
    "sub_q = {\n",
    "    (1 + rot_N**2 + rot_E**2 + rot_D**2): 1,\n",
    "    2*(1 + rot_N**2 + rot_E**2 + rot_D**2): 2\n",
    "}"
   ]
  },
  {
   "cell_type": "code",
   "execution_count": 22,
   "metadata": {
    "collapsed": false
   },
   "outputs": [
    {
     "data": {
      "image/png": "[encoded data removed]",
      "text/latex": [
       "$$\\left [ gyro_{biasN} + 2 rot_{D} \\dot{rot}_{E} - 2 rot_{E} \\dot{rot}_{D} + 2 \\dot{rot}_{N}, \\quad gyro_{biasE} - 2 rot_{D} \\dot{rot}_{N} + 2 rot_{N} \\dot{rot}_{D} + 2 \\dot{rot}_{E}, \\quad gyro_{biasD} + 2 rot_{E} \\dot{rot}_{N} - 2 rot_{N} \\dot{rot}_{E} + 2 \\dot{rot}_{D}\\right ]$$"
      ],
      "text/plain": [
       "[gyro_bias_N + 2⋅rot_D⋅roṫ_E - 2⋅rot_E⋅roṫ_D + 2⋅roṫ_N, gyro_bias_E - 2⋅rot\n",
       "_D⋅roṫ_N + 2⋅rot_N⋅roṫ_D + 2⋅roṫ_E, gyro_bias_D + 2⋅rot_E⋅roṫ_N - 2⋅rot_N⋅\n",
       "roṫ_E + 2⋅roṫ_D]"
      ]
     },
     "execution_count": 22,
     "metadata": {},
     "output_type": "execute_result"
    }
   ],
   "source": [
    "rot_kin_eqs = list((frame_n.ang_vel_in(frame_i) - omega_in_n).to_matrix(frame_n))\n",
    "rot_kin_eqs"
   ]
  },
  {
   "cell_type": "code",
   "execution_count": 23,
   "metadata": {
    "collapsed": false
   },
   "outputs": [
    {
     "data": {
      "image/png": "[encoded data removed]",
      "text/latex": [
       "$$\\left [ \\dot{accel}_{scale}, \\quad \\dot{terrain}_{asl}, \\quad \\dot{baro}_{bias}, \\quad \\dot{wind}_{N}, \\quad \\dot{wind}_{E}, \\quad \\dot{wind}_{D}\\right ]$$"
      ],
      "text/plain": [
       "[accel_̇scale, terrai̇nₐₛₗ, baro_̇bias, winḋ_N, winḋ_E, winḋ_D]"
      ]
     },
     "execution_count": 23,
     "metadata": {},
     "output_type": "execute_result"
    }
   ],
   "source": [
    "static_eqs = [\n",
    "    accel_scale.diff(t),\n",
    "    terrain_asl.diff(t),\n",
    "    baro_bias.diff(t),\n",
    "    wind_N.diff(t),\n",
    "    wind_E.diff(t),\n",
    "    wind_D.diff(t)\n",
    "]\n",
    "static_eqs"
   ]
  },
  {
   "cell_type": "code",
   "execution_count": 55,
   "metadata": {
    "collapsed": false
   },
   "outputs": [
    {
     "data": {
      "image/png": "[encoded data removed]",
      "text/latex": [
       "$$\\left [ - \\left(2 rot_{D} \\dot{rot}_{N} - 2 rot_{N} \\dot{rot}_{D} - 2 \\dot{rot}_{E}\\right) I_{wz} + \\left(- 2 rot_{E} \\dot{rot}_{N} + 2 rot_{N} \\dot{rot}_{E} - 2 \\dot{rot}_{D}\\right) I_{wy} - \\dot{gyro}_{biasN}, \\quad \\left(- 2 rot_{D} \\dot{rot}_{E} + 2 rot_{E} \\dot{rot}_{D} - 2 \\dot{rot}_{N}\\right) I_{wz} - \\left(- 2 rot_{E} \\dot{rot}_{N} + 2 rot_{N} \\dot{rot}_{E} - 2 \\dot{rot}_{D}\\right) I_{wx} - \\dot{gyro}_{biasE}, \\quad - \\left(- 2 rot_{D} \\dot{rot}_{E} + 2 rot_{E} \\dot{rot}_{D} - 2 \\dot{rot}_{N}\\right) I_{wy} + \\left(2 rot_{D} \\dot{rot}_{N} - 2 rot_{N} \\dot{rot}_{D} - 2 \\dot{rot}_{E}\\right) I_{wx} - \\dot{gyro}_{biasD}\\right ]$$"
      ],
      "text/plain": [
       "[-(2⋅rot_D⋅roṫ_N - 2⋅rot_N⋅roṫ_D - 2⋅roṫ_E)⋅I_wz + (-2⋅rot_E⋅roṫ_N + 2⋅rot\n",
       "_N⋅roṫ_E - 2⋅roṫ_D)⋅I_wy - gyro_ḃias_N, (-2⋅rot_D⋅roṫ_E + 2⋅rot_E⋅roṫ_D -\n",
       " 2⋅roṫ_N)⋅I_wz - (-2⋅rot_E⋅roṫ_N + 2⋅rot_N⋅roṫ_E - 2⋅roṫ_D)⋅I_wx - gyro_ḃ\n",
       "ias_E, -(-2⋅rot_D⋅roṫ_E + 2⋅rot_E⋅roṫ_D - 2⋅roṫ_N)⋅I_wy + (2⋅rot_D⋅roṫ_N -\n",
       " 2⋅rot_N⋅roṫ_D - 2⋅roṫ_E)⋅I_wx - gyro_ḃias_D]"
      ]
     },
     "execution_count": 55,
     "metadata": {},
     "output_type": "execute_result"
    }
   ],
   "source": [
    "gyro_eqs = list((omega_in_n.diff(t, frame_n) - frame_i.ang_vel_in(frame_n).cross(I_w_n)).to_matrix(frame_n))\n",
    "gyro_eqs"
   ]
  },
  {
   "cell_type": "code",
   "execution_count": 56,
   "metadata": {
    "collapsed": false
   },
   "outputs": [
    {
     "data": {
      "image/png": "[encoded data removed]",
      "text/latex": [
       "$$\\left \\{ \\dot{accel}_{scale} : 0, \\quad \\dot{asl} : - vel_{D}, \\quad \\dot{baro}_{bias} : 0, \\quad \\dot{gyro}_{biasD} : - I_{wz}, \\quad \\dot{gyro}_{biasE} : - I_{wy}, \\quad \\dot{gyro}_{biasN} : - I_{wx}, \\quad \\dot{pos}_{E} : vel_{E}, \\quad \\dot{pos}_{N} : vel_{N}, \\quad \\dot{rot}_{D} : - \\frac{gyro_{biasE}}{2} \\left(rot_{D} rot_{E} + rot_{N}\\right) - \\frac{gyro_{biasN}}{2} \\left(rot_{D} rot_{N} - rot_{E}\\right) - \\frac{gyro_{biasD}}{2} \\left(rot^{2}_{D} + 1\\right), \\quad \\dot{rot}_{E} : - \\frac{gyro_{biasD}}{2} \\left(rot_{D} rot_{E} - rot_{N}\\right) - \\frac{gyro_{biasN}}{2} \\left(rot_{D} + rot_{E} rot_{N}\\right) - \\frac{gyro_{biasE}}{2} \\left(rot^{2}_{E} + 1\\right), \\quad \\dot{rot}_{N} : - \\frac{gyro_{biasD}}{2} \\left(rot_{D} rot_{N} + rot_{E}\\right) + \\frac{gyro_{biasE}}{2} \\left(rot_{D} - rot_{E} rot_{N}\\right) - \\frac{gyro_{biasN}}{2} \\left(rot^{2}_{N} + 1\\right), \\quad \\dot{terrain}_{asl} : 0, \\quad \\dot{vel}_{D} : \\frac{1}{accel_{scale}} \\left(a_{D} rot^{2}_{D} - a_{D} rot^{2}_{E} - a_{D} rot^{2}_{N} + a_{D} + 2 a_{E} rot_{D} rot_{E} + 2 a_{E} rot_{N} + 2 a_{N} rot_{D} rot_{N} - 2 a_{N} rot_{E}\\right), \\quad \\dot{vel}_{E} : \\frac{1}{accel_{scale}} \\left(2 a_{D} rot_{D} rot_{E} - 2 a_{D} rot_{N} - a_{E} rot^{2}_{D} + a_{E} rot^{2}_{E} - a_{E} rot^{2}_{N} + a_{E} + 2 a_{N} rot_{D} + 2 a_{N} rot_{E} rot_{N}\\right), \\quad \\dot{vel}_{N} : \\frac{1}{accel_{scale}} \\left(2 a_{D} rot_{D} rot_{N} + 2 a_{D} rot_{E} - 2 a_{E} rot_{D} + 2 a_{E} rot_{E} rot_{N} - a_{N} rot^{2}_{D} - a_{N} rot^{2}_{E} + a_{N} rot^{2}_{N} + a_{N}\\right), \\quad \\dot{wind}_{D} : 0, \\quad \\dot{wind}_{E} : 0, \\quad \\dot{wind}_{N} : 0\\right \\}$$"
      ],
      "text/plain": [
       "⎧                                                                             \n",
       "⎪                                                                             \n",
       "⎨accel_̇scale: 0, aṡl: -vel_D, baro_̇bias: 0, gyro_ḃias_D: -I_wz, gyro_ḃias\n",
       "⎪                                                                             \n",
       "⎩                                                                             \n",
       "\n",
       "                                                                              \n",
       "                                                                        (rot_D\n",
       "_E: -I_wy, gyro_ḃias_N: -I_wx, poṡ_E: vel_E, poṡ_N: vel_N, roṫ_D: - ──────\n",
       "                                                                              \n",
       "                                                                              \n",
       "\n",
       "                                                                  ⎛     2    ⎞\n",
       "⋅rot_E + rot_N)⋅gyro_bias_E   (rot_D⋅rot_N - rot_E)⋅gyro_bias_N   ⎝rot_D  + 1⎠\n",
       "─────────────────────────── - ───────────────────────────────── - ────────────\n",
       "          2                                   2                              2\n",
       "                                                                              \n",
       "\n",
       "                                                                              \n",
       "⋅gyro_bias_D            (rot_D⋅rot_E - rot_N)⋅gyro_bias_D   (rot_D + rot_E⋅rot\n",
       "────────────, roṫ_E: - ───────────────────────────────── - ──────────────────\n",
       "                                        2                                   2 \n",
       "                                                                              \n",
       "\n",
       "                  ⎛     2    ⎞                                                \n",
       "_N)⋅gyro_bias_N   ⎝rot_E  + 1⎠⋅gyro_bias_E            (rot_D⋅rot_N + rot_E)⋅gy\n",
       "─────────────── - ────────────────────────, roṫ_N: - ────────────────────────\n",
       "                             2                                        2       \n",
       "                                                                              \n",
       "\n",
       "                                                ⎛     2    ⎞                  \n",
       "ro_bias_D   (rot_D - rot_E⋅rot_N)⋅gyro_bias_E   ⎝rot_N  + 1⎠⋅gyro_bias_N      \n",
       "───────── + ───────────────────────────────── - ────────────────────────, terr\n",
       "                            2                              2                  \n",
       "                                                                              \n",
       "\n",
       "                             2            2            2                      \n",
       "                    a_D⋅rot_D  - a_D⋅rot_E  - a_D⋅rot_N  + a_D + 2⋅a_E⋅rot_D⋅r\n",
       "ai̇nₐₛₗ: 0, vel̇_D: ──────────────────────────────────────────────────────────\n",
       "                                                                     accel_sca\n",
       "                                                                              \n",
       "\n",
       "                                                                              \n",
       "ot_E + 2⋅a_E⋅rot_N + 2⋅a_N⋅rot_D⋅rot_N - 2⋅a_N⋅rot_E          2⋅a_D⋅rot_D⋅rot_\n",
       "────────────────────────────────────────────────────, vel̇_E: ────────────────\n",
       "le                                                                            \n",
       "                                                                              \n",
       "\n",
       "                           2            2            2                        \n",
       "E - 2⋅a_D⋅rot_N - a_E⋅rot_D  + a_E⋅rot_E  - a_E⋅rot_N  + a_E + 2⋅a_N⋅rot_D + 2\n",
       "──────────────────────────────────────────────────────────────────────────────\n",
       "                                 accel_scale                                  \n",
       "                                                                              \n",
       "\n",
       "                                                                              \n",
       "⋅a_N⋅rot_E⋅rot_N          2⋅a_D⋅rot_D⋅rot_N + 2⋅a_D⋅rot_E - 2⋅a_E⋅rot_D + 2⋅a_\n",
       "────────────────, vel̇_N: ────────────────────────────────────────────────────\n",
       "                                                                           acc\n",
       "                                                                              \n",
       "\n",
       "                         2            2            2                          \n",
       "E⋅rot_E⋅rot_N - a_N⋅rot_D  - a_N⋅rot_E  + a_N⋅rot_N  + a_N                    \n",
       "──────────────────────────────────────────────────────────, winḋ_D: 0, winḋ_\n",
       "el_scale                                                                      \n",
       "                                                                              \n",
       "\n",
       "                ⎫\n",
       "                ⎪\n",
       "E: 0, winḋ_N: 0⎬\n",
       "                ⎪\n",
       "                ⎭"
      ]
     },
     "execution_count": 56,
     "metadata": {},
     "output_type": "execute_result"
    }
   ],
   "source": [
    "sol"
   ]
  },
  {
   "cell_type": "code",
   "execution_count": 57,
   "metadata": {
    "collapsed": false
   },
   "outputs": [],
   "source": [
    "sol = sympy.solve(rot_kin_eqs + trans_kin_eqs + static_eqs + nav_eqs + gyro_eqs, xe.diff(t))\n",
    "sol = { key:sol[key].subs(sub_q) for key in sol.keys() }\n",
    "xe_dot = sympy.Matrix([ sol[var] for var in xe.diff(t) ]).applyfunc(lambda x: x.subs(sub_q))\n",
    "#xe_dot"
   ]
  },
  {
   "cell_type": "code",
   "execution_count": 58,
   "metadata": {
    "collapsed": false
   },
   "outputs": [],
   "source": [
    "A = xe_dot.jacobian(xe).subs(sub_lin)\n",
    "#A"
   ]
  },
  {
   "cell_type": "code",
   "execution_count": 59,
   "metadata": {
    "collapsed": false
   },
   "outputs": [
    {
     "name": "stdout",
     "output_type": "stream",
     "text": [
      "Matrix<float, Xe::n, Xe::n> A;\n",
      "float x0 = a_D;\n",
      "float x1 = accel_scale;\n",
      "float x2 = 2/x1;\n",
      "float x3 = x0*x2;\n",
      "float x4 = a_E;\n",
      "float x5 = x2*x4;\n",
      "float x6 = a_N;\n",
      "float x7 = x1**(-2);\n",
      "float x8 = x2*x6;\n",
      "float x9 = I_wz;\n",
      "float x10 = I_wy;\n",
      "float x11 = I_wx;\n",
      "A(Xe::rot_N, Xe::gyro_bias_N) = -1/2;\n",
      "A(Xe::rot_E, Xe::gyro_bias_E) = -1/2;\n",
      "A(Xe::rot_D, Xe::gyro_bias_D) = -1/2;\n",
      "A(Xe::vel_N, Xe::rot_E) = x3;\n",
      "A(Xe::vel_N, Xe::rot_D) = -x5;\n",
      "A(Xe::vel_N, Xe::accel_scale) = -x6*x7;\n",
      "A(Xe::vel_E, Xe::rot_N) = -x3;\n",
      "A(Xe::vel_E, Xe::rot_D) = x8;\n",
      "A(Xe::vel_E, Xe::accel_scale) = -x4*x7;\n",
      "A(Xe::vel_D, Xe::rot_N) = x5;\n",
      "A(Xe::vel_D, Xe::rot_E) = -x8;\n",
      "A(Xe::vel_D, Xe::accel_scale) = -x0*x7;\n",
      "A(Xe::gyro_bias_N, Xe::gyro_bias_E) = -x9;\n",
      "A(Xe::gyro_bias_N, Xe::gyro_bias_D) = x10;\n",
      "A(Xe::gyro_bias_E, Xe::gyro_bias_N) = x9;\n",
      "A(Xe::gyro_bias_E, Xe::gyro_bias_D) = -x11;\n",
      "A(Xe::gyro_bias_D, Xe::gyro_bias_N) = -x10;\n",
      "A(Xe::gyro_bias_D, Xe::gyro_bias_E) = x11;\n",
      "A(Xe::pos_N, Xe::vel_N) = 1;\n",
      "A(Xe::pos_E, Xe::vel_E) = 1;\n",
      "A(Xe::asl, Xe::vel_D) = -1;\n"
     ]
    }
   ],
   "source": [
    "matrix_to_code('A', A, 'Xe::', xe, 'Xe::', xe)"
   ]
  },
  {
   "cell_type": "markdown",
   "metadata": {},
   "source": [
    "## Airspeed"
   ]
  },
  {
   "cell_type": "code",
   "execution_count": 60,
   "metadata": {
    "collapsed": false
   },
   "outputs": [],
   "source": [
    "wind_i = wind_N*frame_i.x + wind_E*frame_i.y + wind_D*frame_i.z\n",
    "vel_i = vel_N*frame_i.x + vel_E*frame_i.y + vel_D*frame_i.z"
   ]
  },
  {
   "cell_type": "code",
   "execution_count": 61,
   "metadata": {
    "collapsed": false
   },
   "outputs": [
    {
     "data": {
      "text/latex": [
       "$$\\left[\\begin{matrix}\\left(- vel_{D} + wind_{D}\\right) \\left(- \\left(2 rot_{D} rot_{E} + 2 rot_{N}\\right) C_{nb(1, 0)} - \\left(2 rot_{D} rot_{N} - 2 rot_{E}\\right) C_{nb(0, 0)} - \\left(rot^{2}_{D} - rot^{2}_{E} - rot^{2}_{N} + 1\\right) C_{nb(2, 0)}\\right) + \\left(- vel_{E} + wind_{E}\\right) \\left(- \\left(2 rot_{D} rot_{E} - 2 rot_{N}\\right) C_{nb(2, 0)} - \\left(2 rot_{D} + 2 rot_{E} rot_{N}\\right) C_{nb(0, 0)} - \\left(- rot^{2}_{D} + rot^{2}_{E} - rot^{2}_{N} + 1\\right) C_{nb(1, 0)}\\right) + \\left(- vel_{N} + wind_{N}\\right) \\left(- \\left(2 rot_{D} rot_{N} + 2 rot_{E}\\right) C_{nb(2, 0)} - \\left(- 2 rot_{D} + 2 rot_{E} rot_{N}\\right) C_{nb(1, 0)} - \\left(- rot^{2}_{D} - rot^{2}_{E} + rot^{2}_{N} + 1\\right) C_{nb(0, 0)}\\right)\\end{matrix}\\right]$$"
      ],
      "text/plain": [
       "⎡                  ⎛                                                          \n",
       "⎣(-vel_D + wind_D)⋅⎝-(2⋅rot_D⋅rot_E + 2⋅rot_N)⋅C_nb(1, 0) - (2⋅rot_D⋅rot_N - 2\n",
       "\n",
       "                     ⎛     2        2        2    ⎞           ⎞               \n",
       "⋅rot_E)⋅C_nb(0, 0) - ⎝rot_D  - rot_E  - rot_N  + 1⎠⋅C_nb(2, 0)⎠ + (-vel_E + wi\n",
       "\n",
       "      ⎛                                                                       \n",
       "nd_E)⋅⎝-(2⋅rot_D⋅rot_E - 2⋅rot_N)⋅C_nb(2, 0) - (2⋅rot_D + 2⋅rot_E⋅rot_N)⋅C_nb(\n",
       "\n",
       "        ⎛       2        2        2    ⎞           ⎞                     ⎛    \n",
       "0, 0) - ⎝- rot_D  + rot_E  - rot_N  + 1⎠⋅C_nb(1, 0)⎠ + (-vel_N + wind_N)⋅⎝-(2⋅\n",
       "\n",
       "                                                                            ⎛ \n",
       "rot_D⋅rot_N + 2⋅rot_E)⋅C_nb(2, 0) - (-2⋅rot_D + 2⋅rot_E⋅rot_N)⋅C_nb(1, 0) - ⎝-\n",
       "\n",
       "      2        2        2    ⎞           ⎞⎤\n",
       " rot_D  - rot_E  + rot_N  + 1⎠⋅C_nb(0, 0)⎠⎦"
      ]
     },
     "execution_count": 61,
     "metadata": {},
     "output_type": "execute_result"
    }
   ],
   "source": [
    "rel_wind = wind_i - vel_i\n",
    "y_airspeed = sympy.Matrix([rel_wind.dot(-frame_b.x)]).subs(sub_C_nb)\n",
    "y_airspeed"
   ]
  },
  {
   "cell_type": "code",
   "execution_count": 62,
   "metadata": {
    "collapsed": false
   },
   "outputs": [
    {
     "data": {
      "text/latex": [
       "$$\\left[\\begin{matrix}- 2 \\left(- vel_{D} + wind_{D}\\right) C_{nb(1, 0)} + 2 \\left(- vel_{E} + wind_{E}\\right) C_{nb(2, 0)}\\\\2 \\left(- vel_{D} + wind_{D}\\right) C_{nb(0, 0)} - 2 \\left(- vel_{N} + wind_{N}\\right) C_{nb(2, 0)}\\\\- 2 \\left(- vel_{E} + wind_{E}\\right) C_{nb(0, 0)} + 2 \\left(- vel_{N} + wind_{N}\\right) C_{nb(1, 0)}\\\\C_{nb(0, 0)}\\\\C_{nb(1, 0)}\\\\C_{nb(2, 0)}\\\\0\\\\0\\\\0\\\\0\\\\0\\\\0\\\\0\\\\0\\\\0\\\\- C_{nb(0, 0)}\\\\- C_{nb(1, 0)}\\\\- C_{nb(2, 0)}\\end{matrix}\\right]$$"
      ],
      "text/plain": [
       "⎡-2⋅(-vel_D + wind_D)⋅C_nb(1, 0) + 2⋅(-vel_E + wind_E)⋅C_nb(2, 0)⎤\n",
       "⎢                                                                ⎥\n",
       "⎢2⋅(-vel_D + wind_D)⋅C_nb(0, 0) - 2⋅(-vel_N + wind_N)⋅C_nb(2, 0) ⎥\n",
       "⎢                                                                ⎥\n",
       "⎢-2⋅(-vel_E + wind_E)⋅C_nb(0, 0) + 2⋅(-vel_N + wind_N)⋅C_nb(1, 0)⎥\n",
       "⎢                                                                ⎥\n",
       "⎢                           C_nb(0, 0)                           ⎥\n",
       "⎢                                                                ⎥\n",
       "⎢                           C_nb(1, 0)                           ⎥\n",
       "⎢                                                                ⎥\n",
       "⎢                           C_nb(2, 0)                           ⎥\n",
       "⎢                                                                ⎥\n",
       "⎢                               0                                ⎥\n",
       "⎢                                                                ⎥\n",
       "⎢                               0                                ⎥\n",
       "⎢                                                                ⎥\n",
       "⎢                               0                                ⎥\n",
       "⎢                                                                ⎥\n",
       "⎢                               0                                ⎥\n",
       "⎢                                                                ⎥\n",
       "⎢                               0                                ⎥\n",
       "⎢                                                                ⎥\n",
       "⎢                               0                                ⎥\n",
       "⎢                                                                ⎥\n",
       "⎢                               0                                ⎥\n",
       "⎢                                                                ⎥\n",
       "⎢                               0                                ⎥\n",
       "⎢                                                                ⎥\n",
       "⎢                               0                                ⎥\n",
       "⎢                                                                ⎥\n",
       "⎢                          -C_nb(0, 0)                           ⎥\n",
       "⎢                                                                ⎥\n",
       "⎢                          -C_nb(1, 0)                           ⎥\n",
       "⎢                                                                ⎥\n",
       "⎣                          -C_nb(2, 0)                           ⎦"
      ]
     },
     "execution_count": 62,
     "metadata": {},
     "output_type": "execute_result"
    }
   ],
   "source": [
    "H_airspeed = y_airspeed.jacobian(xe).subs(sub_lin)\n",
    "H_airspeed.T"
   ]
  },
  {
   "cell_type": "code",
   "execution_count": 63,
   "metadata": {
    "collapsed": false
   },
   "outputs": [
    {
     "name": "stdout",
     "output_type": "stream",
     "text": [
      "Matrix<float, Y_airspeed::n, Xe::n> H;\n",
      "float x0 = C_nb(1, 0);\n",
      "float x1 = 2*vel_D - 2*wind_D;\n",
      "float x2 = C_nb(2, 0);\n",
      "float x3 = 2*vel_E - 2*wind_E;\n",
      "float x4 = C_nb(0, 0);\n",
      "float x5 = 2*vel_N - 2*wind_N;\n",
      "H(Y_airspeed::airspeed, Xe::rot_N) = x0*x1 - x2*x3;\n",
      "H(Y_airspeed::airspeed, Xe::rot_E) = -x1*x4 + x2*x5;\n",
      "H(Y_airspeed::airspeed, Xe::rot_D) = -x0*x5 + x3*x4;\n",
      "H(Y_airspeed::airspeed, Xe::vel_N) = x4;\n",
      "H(Y_airspeed::airspeed, Xe::vel_E) = x0;\n",
      "H(Y_airspeed::airspeed, Xe::vel_D) = x2;\n",
      "H(Y_airspeed::airspeed, Xe::wind_N) = -x4;\n",
      "H(Y_airspeed::airspeed, Xe::wind_E) = -x0;\n",
      "H(Y_airspeed::airspeed, Xe::wind_D) = -x2;\n"
     ]
    }
   ],
   "source": [
    "matrix_to_code('H', H_airspeed,\n",
    "               'Y_airspeed::', [sympy.Symbol('airspeed')],\n",
    "               'Xe::', xe)"
   ]
  },
  {
   "cell_type": "markdown",
   "metadata": {
    "collapsed": true
   },
   "source": [
    "## Distance"
   ]
  },
  {
   "cell_type": "code",
   "execution_count": 64,
   "metadata": {
    "collapsed": false
   },
   "outputs": [
    {
     "data": {
      "image/png": "[encoded data removed]",
      "text/latex": [
       "$$\\frac{agl}{2 C_{nb(0, 2)} rot_{D} rot_{N} - 2 C_{nb(0, 2)} rot_{E} + 2 C_{nb(1, 2)} rot_{D} rot_{E} + 2 C_{nb(1, 2)} rot_{N} + C_{nb(2, 2)} rot^{2}_{D} - C_{nb(2, 2)} rot^{2}_{E} - C_{nb(2, 2)} rot^{2}_{N} + C_{nb(2, 2)}}$$"
      ],
      "text/plain": [
       "                                                                              \n",
       "──────────────────────────────────────────────────────────────────────────────\n",
       "                                                                              \n",
       "2⋅C_nb(0, 2)⋅rot_D⋅rot_N - 2⋅C_nb(0, 2)⋅rot_E + 2⋅C_nb(1, 2)⋅rot_D⋅rot_E + 2⋅C\n",
       "\n",
       "   agl                                                                        \n",
       "──────────────────────────────────────────────────────────────────────────────\n",
       "                                  2                   2                   2   \n",
       "_nb(1, 2)⋅rot_N + C_nb(2, 2)⋅rot_D  - C_nb(2, 2)⋅rot_E  - C_nb(2, 2)⋅rot_N  + \n",
       "\n",
       "          \n",
       "──────────\n",
       "          \n",
       "C_nb(2, 2)"
      ]
     },
     "execution_count": 64,
     "metadata": {},
     "output_type": "execute_result"
    }
   ],
   "source": [
    "d_eq = sympy.solve((d*frame_b.z).dot(frame_i.z).subs(sub_C_nb) - (asl - terrain_asl), d)[0]\n",
    "d_eq.subs(sub_agl)"
   ]
  },
  {
   "cell_type": "code",
   "execution_count": 65,
   "metadata": {
    "collapsed": false
   },
   "outputs": [
    {
     "data": {
      "image/png": "[encoded data removed]",
      "text/latex": [
       "$$\\frac{agl}{C_{nb(2, 2)}}$$"
      ],
      "text/plain": [
       "   agl    \n",
       "──────────\n",
       "C_nb(2, 2)"
      ]
     },
     "execution_count": 65,
     "metadata": {},
     "output_type": "execute_result"
    }
   ],
   "source": [
    "y_dist = sympy.Matrix([d_eq]).subs(sub_C_nb)\n",
    "y_dist[0].subs(sub_lin).subs(sub_agl)"
   ]
  },
  {
   "cell_type": "code",
   "execution_count": 66,
   "metadata": {
    "collapsed": false
   },
   "outputs": [
    {
     "data": {
      "text/latex": [
       "$$\\left[\\begin{array}{cccccccccccccccccc}rot_{N} & rot_{E} & rot_{D} & vel_{N} & vel_{E} & vel_{D} & gyro_{biasN} & gyro_{biasE} & gyro_{biasD} & accel_{scale} & pos_{N} & pos_{E} & asl & terrain_{asl} & baro_{bias} & wind_{N} & wind_{E} & wind_{D}\\end{array}\\right]$$"
      ],
      "text/plain": [
       "[rot_N  rot_E  rot_D  vel_N  vel_E  vel_D  gyro_bias_N  gyro_bias_E  gyro_bias\n",
       "_D  accel_scale  pos_N  pos_E  asl  terrainₐₛₗ  baro_bias  wind_N  wind_E  win\n",
       "d_D]"
      ]
     },
     "execution_count": 66,
     "metadata": {},
     "output_type": "execute_result"
    }
   ],
   "source": [
    "xe.T"
   ]
  },
  {
   "cell_type": "code",
   "execution_count": 67,
   "metadata": {
    "collapsed": false
   },
   "outputs": [
    {
     "name": "stdout",
     "output_type": "stream",
     "text": [
      "Matrix<float, Y_distance_down::n, Xe::n> H;\n",
      "float x0 = C_nb(2, 2);\n",
      "float x1 = 2*agl/x0**2;\n",
      "float x2 = 1/x0;\n",
      "H(Y_distance_down::d, Xe::rot_N) = -x1*C_nb(1, 2);\n",
      "H(Y_distance_down::d, Xe::rot_E) = x1*C_nb(0, 2);\n",
      "H(Y_distance_down::d, Xe::asl) = x2;\n",
      "H(Y_distance_down::d, Xe::terrain_asl) = -x2;\n"
     ]
    }
   ],
   "source": [
    "H_distance = y_dist.jacobian(xe).subs(sub_lin).subs(sub_agl)\n",
    "H_distance.T\n",
    "matrix_to_code('H', H_distance, 'Y_distance_down::',\n",
    "               [sympy.symbols('d')], 'Xe::', xe)"
   ]
  },
  {
   "cell_type": "markdown",
   "metadata": {},
   "source": [
    "## Optical Flow"
   ]
  },
  {
   "cell_type": "code",
   "execution_count": 68,
   "metadata": {
    "collapsed": false
   },
   "outputs": [],
   "source": [
    "y_flow_sym = [flowX, flowY]\n",
    "omega_b = (omega_ib_b - gyro_bias_i).express(frame_b)"
   ]
  },
  {
   "cell_type": "code",
   "execution_count": 69,
   "metadata": {
    "collapsed": false
   },
   "outputs": [],
   "source": [
    "vel_f_b = -vel_i - omega_b.cross(d_eq*frame_b.z)\n",
    "y_flow = sympy.Matrix([\n",
    "    vel_f_b.dot(frame_b.y)/d_eq,\n",
    "    vel_f_b.dot(frame_b.x)/d_eq,\n",
    "    ]).subs(sub_C_nb)"
   ]
  },
  {
   "cell_type": "code",
   "execution_count": 70,
   "metadata": {
    "collapsed": false
   },
   "outputs": [
    {
     "data": {
      "text/latex": [
       "$$\\left[\\begin{matrix}\\frac{1}{agl} \\left(- \\left(C_{nb(0, 1)} vel_{N} + C_{nb(1, 1)} vel_{E} + C_{nb(2, 1)} vel_{D}\\right) C_{nb(2, 2)} + agl \\omega_{bx}\\right)\\\\- \\frac{1}{agl} \\left(\\left(C_{nb(0, 0)} vel_{N} + C_{nb(1, 0)} vel_{E} + C_{nb(2, 0)} vel_{D}\\right) C_{nb(2, 2)} + agl \\omega_{by}\\right)\\end{matrix}\\right]$$"
      ],
      "text/plain": [
       "⎡ -(C_nb(0, 1)⋅vel_N + C_nb(1, 1)⋅vel_E + C_nb(2, 1)⋅vel_D)⋅C_nb(2, 2) + agl⋅ω\n",
       "⎢ ────────────────────────────────────────────────────────────────────────────\n",
       "⎢                                       agl                                   \n",
       "⎢                                                                             \n",
       "⎢-((C_nb(0, 0)⋅vel_N + C_nb(1, 0)⋅vel_E + C_nb(2, 0)⋅vel_D)⋅C_nb(2, 2) + agl⋅ω\n",
       "⎢─────────────────────────────────────────────────────────────────────────────\n",
       "⎣                                       agl                                   \n",
       "\n",
       "_bx  ⎤\n",
       "───  ⎥\n",
       "     ⎥\n",
       "     ⎥\n",
       "_by) ⎥\n",
       "─────⎥\n",
       "     ⎦"
      ]
     },
     "execution_count": 70,
     "metadata": {},
     "output_type": "execute_result"
    }
   ],
   "source": [
    "y_flow_lin = y_flow.subs(sub_lin).subs(sub_agl).subs(sub_C_nb)\n",
    "y_flow_lin.simplify()\n",
    "y_flow_lin"
   ]
  },
  {
   "cell_type": "code",
   "execution_count": 71,
   "metadata": {
    "collapsed": false
   },
   "outputs": [
    {
     "name": "stdout",
     "output_type": "stream",
     "text": [
      "Matrix<float, Y_flow::n, Xe::n> H;\n",
      "float x0 = agl;\n",
      "float x1 = 1/x0;\n",
      "float x2 = 2*C_nb(1, 2);\n",
      "float x3 = C_nb(0, 1);\n",
      "float x4 = vel_N;\n",
      "float x5 = x3*x4;\n",
      "float x6 = C_nb(1, 1);\n",
      "float x7 = vel_E;\n",
      "float x8 = x6*x7;\n",
      "float x9 = C_nb(2, 2);\n",
      "float x10 = vel_D;\n",
      "float x11 = 2*x10*x9;\n",
      "float x12 = C_nb(2, 1);\n",
      "float x13 = x10*x12;\n",
      "float x14 = 2*x7*x9;\n",
      "float x15 = 2*x1;\n",
      "float x16 = C_nb(0, 2);\n",
      "float x17 = x10*x9;\n",
      "float x18 = x4*x9;\n",
      "float x19 = 2*x1*x9;\n",
      "float x20 = x1*x9;\n",
      "float x21 = C_nb(0, 0);\n",
      "float x22 = C_nb(1, 0);\n",
      "float x23 = C_nb(2, 0);\n",
      "float x24 = x9/x0**2;\n",
      "float x25 = x24*(x13 + x5 + x8);\n",
      "float x26 = x21*x4;\n",
      "float x27 = x22*x7;\n",
      "float x28 = x10*x23;\n",
      "float x29 = x24*(x26 + x27 + x28);\n",
      "H(Y_flow::flowX, Xe::rot_N) = x1*(-x11*x6 + x12*x14 - x13*x2 - x2*x5 - x2*x8);\n",
      "H(Y_flow::flowX, Xe::rot_E) = x15*(-x12*x18 + x13*x16 + x16*x5 + x16*x8 + x17*x3);\n",
      "H(Y_flow::flowX, Xe::rot_D) = -x19*(x3*x7 - x4*x6);\n",
      "H(Y_flow::flowX, Xe::vel_N) = -x20*x3;\n",
      "H(Y_flow::flowX, Xe::vel_E) = -x20*x6;\n",
      "H(Y_flow::flowX, Xe::vel_D) = -x12*x20;\n",
      "H(Y_flow::flowX, Xe::gyro_bias_N) = -x21;\n",
      "H(Y_flow::flowX, Xe::gyro_bias_E) = -x22;\n",
      "H(Y_flow::flowX, Xe::gyro_bias_D) = -x23;\n",
      "H(Y_flow::flowX, Xe::asl) = x25;\n",
      "H(Y_flow::flowX, Xe::terrain_asl) = -x25;\n",
      "H(Y_flow::flowY, Xe::rot_N) = x1*(-x11*x22 + x14*x23 - x2*x26 - x2*x27 - x2*x28);\n",
      "H(Y_flow::flowY, Xe::rot_E) = x15*(x16*x26 + x16*x27 + x16*x28 + x17*x21 - x18*x23);\n",
      "H(Y_flow::flowY, Xe::rot_D) = -x19*(x21*x7 - x22*x4);\n",
      "H(Y_flow::flowY, Xe::vel_N) = -x20*x21;\n",
      "H(Y_flow::flowY, Xe::vel_E) = -x20*x22;\n",
      "H(Y_flow::flowY, Xe::vel_D) = -x20*x23;\n",
      "H(Y_flow::flowY, Xe::gyro_bias_N) = x3;\n",
      "H(Y_flow::flowY, Xe::gyro_bias_E) = x6;\n",
      "H(Y_flow::flowY, Xe::gyro_bias_D) = x12;\n",
      "H(Y_flow::flowY, Xe::asl) = x29;\n",
      "H(Y_flow::flowY, Xe::terrain_asl) = -x29;\n"
     ]
    }
   ],
   "source": [
    "H_flow = y_flow.jacobian(xe).subs(sub_lin).subs(sub_agl)\n",
    "matrix_to_code('H', H_flow, 'Y_flow::', y_flow_sym, 'Xe::', xe)"
   ]
  },
  {
   "cell_type": "markdown",
   "metadata": {},
   "source": [
    "## Attitude"
   ]
  },
  {
   "cell_type": "code",
   "execution_count": 75,
   "metadata": {
    "collapsed": false
   },
   "outputs": [
    {
     "data": {
      "text/latex": [
       "$$\\left[\\begin{array}{cccccccccccccccccc}1 & 0 & 0 & 0 & 0 & 0 & 0 & 0 & 0 & 0 & 0 & 0 & 0 & 0 & 0 & 0 & 0 & 0\\\\0 & 1 & 0 & 0 & 0 & 0 & 0 & 0 & 0 & 0 & 0 & 0 & 0 & 0 & 0 & 0 & 0 & 0\\\\0 & 0 & 1 & 0 & 0 & 0 & 0 & 0 & 0 & 0 & 0 & 0 & 0 & 0 & 0 & 0 & 0 & 0\\end{array}\\right]$$"
      ],
      "text/plain": [
       "⎡1  0  0  0  0  0  0  0  0  0  0  0  0  0  0  0  0  0⎤\n",
       "⎢                                                    ⎥\n",
       "⎢0  1  0  0  0  0  0  0  0  0  0  0  0  0  0  0  0  0⎥\n",
       "⎢                                                    ⎥\n",
       "⎣0  0  1  0  0  0  0  0  0  0  0  0  0  0  0  0  0  0⎦"
      ]
     },
     "execution_count": 75,
     "metadata": {},
     "output_type": "execute_result"
    }
   ],
   "source": [
    "y_attitude = sympy.Matrix([\n",
    "        rot_N, rot_E, rot_D\n",
    "    ])\n",
    "H_attitude = y_attitude.jacobian(xe).subs(sub_lin).subs(sub_agl)\n",
    "H_attitude"
   ]
  }
 ],
 "metadata": {
  "anaconda-cloud": {},
  "kernelspec": {
   "display_name": "Python [conda root]",
   "language": "python",
   "name": "conda-root-py"
  },
  "language_info": {
   "codemirror_mode": {
    "name": "ipython",
    "version": 3
   },
   "file_extension": ".py",
   "mimetype": "text/x-python",
   "name": "python",
   "nbconvert_exporter": "python",
   "pygments_lexer": "ipython3",
   "version": "3.5.2"
  }
 },
 "nbformat": 4,
 "nbformat_minor": 1
}
