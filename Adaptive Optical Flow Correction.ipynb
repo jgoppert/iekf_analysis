{
 "cells": [
  {
   "cell_type": "markdown",
   "metadata": {},
   "source": [
    "### Problem\n",
    "\n",
    "Find the measurement covariance matrix, $R$, for the optical flow sensor.\n",
    "\n",
    "\n",
    "### Model\n",
    "\n",
    "$ \\dot{x} = f(x, u)$\n",
    "\n",
    "$ y = h(x) $\n",
    "\n",
    "### Estimate\n",
    "\n",
    "$ \\dot{\\hat{x}} = f(\\hat{x}, u)$\n",
    "\n",
    "$ \\hat{y} = h(\\hat{x}) $\n",
    "\n",
    "### Innovation:\n",
    "\n",
    "$ r = y - \\hat{y} $\n",
    "\n",
    "$ S = E[rr^T] = HPH^T + R $\n",
    "\n",
    "\n",
    "### Numerical Estimation\n",
    "\n",
    "$S = cov(r)$ - can compute using a finite sample equation\n",
    "\n",
    "\n",
    "### Solve for R\n",
    "\n",
    "$R = S - HPH^T$\n"
   ]
  }
 ],
 "metadata": {
  "kernelspec": {
   "display_name": "Python [conda root]",
   "language": "python",
   "name": "conda-root-py"
  },
  "language_info": {
   "codemirror_mode": {
    "name": "ipython",
    "version": 3
   },
   "file_extension": ".py",
   "mimetype": "text/x-python",
   "name": "python",
   "nbconvert_exporter": "python",
   "pygments_lexer": "ipython3",
   "version": "3.5.2"
  }
 },
 "nbformat": 4,
 "nbformat_minor": 1
}
