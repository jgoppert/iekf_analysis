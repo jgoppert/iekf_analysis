{
 "cells": [
  {
   "cell_type": "code",
   "execution_count": 2,
   "metadata": {
    "collapsed": false
   },
   "outputs": [],
   "source": [
    "import transforms3d.quaternions as tf\n",
    "import sympy\n",
    "sympy.init_printing()"
   ]
  },
  {
   "cell_type": "code",
   "execution_count": 23,
   "metadata": {
    "collapsed": false
   },
   "outputs": [],
   "source": [
    "a = sympy.symbols('a_1:3')\n",
    "b = sympy.symbols('b_1:3')\n",
    "c = sympy.symbols('c_1:3')\n",
    "d = sympy.symbols('d_1:3')\n",
    "\n",
    "q0 = sympy.Matrix([a[0], b[0], c[0], d[0]])\n",
    "q1 = sympy.Matrix([a[1], b[1], c[1], d[1]])"
   ]
  },
  {
   "cell_type": "code",
   "execution_count": 24,
   "metadata": {
    "collapsed": false
   },
   "outputs": [],
   "source": [
    "def qmult(q0, q1):\n",
    "    res = sympy.Matrix(tf.qmult(q0, q1))\n",
    "    res.simplify()\n",
    "    return res\n",
    "\n",
    "def qconj(q):\n",
    "    return sympy.Matrix([q[0], -q[1], -q[2], -q[3]])\n",
    "\n",
    "def qnorm(q):\n",
    "    return sympy.sqrt(qmult(q, qconj(q))[0])"
   ]
  },
  {
   "cell_type": "code",
   "execution_count": 25,
   "metadata": {
    "collapsed": false
   },
   "outputs": [
    {
     "data": {
      "text/latex": [
       "$$\\left[\\begin{matrix}a_{1} a_{2} - b_{1} b_{2} - c_{1} c_{2} - d_{1} d_{2}\\\\a_{1} b_{2} + a_{2} b_{1} + c_{1} d_{2} - c_{2} d_{1}\\\\a_{1} c_{2} + a_{2} c_{1} - b_{1} d_{2} + b_{2} d_{1}\\\\a_{1} d_{2} + a_{2} d_{1} + b_{1} c_{2} - b_{2} c_{1}\\end{matrix}\\right]$$"
      ],
      "text/plain": [
       "⎡a₁⋅a₂ - b₁⋅b₂ - c₁⋅c₂ - d₁⋅d₂⎤\n",
       "⎢                             ⎥\n",
       "⎢a₁⋅b₂ + a₂⋅b₁ + c₁⋅d₂ - c₂⋅d₁⎥\n",
       "⎢                             ⎥\n",
       "⎢a₁⋅c₂ + a₂⋅c₁ - b₁⋅d₂ + b₂⋅d₁⎥\n",
       "⎢                             ⎥\n",
       "⎣a₁⋅d₂ + a₂⋅d₁ + b₁⋅c₂ - b₂⋅c₁⎦"
      ]
     },
     "execution_count": 25,
     "metadata": {},
     "output_type": "execute_result"
    }
   ],
   "source": [
    "qmult(q0, q1)"
   ]
  },
  {
   "cell_type": "code",
   "execution_count": 26,
   "metadata": {
    "collapsed": false
   },
   "outputs": [
    {
     "data": {
      "text/latex": [
       "$$\\left[\\begin{matrix}a_{2} & - b_{2} & - c_{2} & - d_{2}\\end{matrix}\\right]$$"
      ],
      "text/plain": [
       "[a₂  -b₂  -c₂  -d₂]"
      ]
     },
     "execution_count": 26,
     "metadata": {},
     "output_type": "execute_result"
    }
   ],
   "source": [
    "qconj(q1).T"
   ]
  },
  {
   "cell_type": "code",
   "execution_count": 27,
   "metadata": {
    "collapsed": false
   },
   "outputs": [
    {
     "data": {
      "image/png": "[encoded data removed]",
      "text/latex": [
       "$$\\sqrt{a_{2}^{2} + b_{2}^{2} + c_{2}^{2} + d_{2}^{2}}$$"
      ],
      "text/plain": [
       "   _______________________\n",
       "  ╱   2     2     2     2 \n",
       "╲╱  a₂  + b₂  + c₂  + d₂  "
      ]
     },
     "execution_count": 27,
     "metadata": {},
     "output_type": "execute_result"
    }
   ],
   "source": [
    "qnorm(q1)"
   ]
  },
  {
   "cell_type": "code",
   "execution_count": 28,
   "metadata": {
    "collapsed": false
   },
   "outputs": [
    {
     "data": {
      "text/latex": [
       "$$\\left[\\begin{matrix}1\\\\0\\\\0\\\\0\\end{matrix}\\right]$$"
      ],
      "text/plain": [
       "⎡1⎤\n",
       "⎢ ⎥\n",
       "⎢0⎥\n",
       "⎢ ⎥\n",
       "⎢0⎥\n",
       "⎢ ⎥\n",
       "⎣0⎦"
      ]
     },
     "execution_count": 28,
     "metadata": {},
     "output_type": "execute_result"
    }
   ],
   "source": [
    "qmult(q0, qconj(q0)/qnorm(q0)**2)"
   ]
  },
  {
   "cell_type": "code",
   "execution_count": 29,
   "metadata": {
    "collapsed": false
   },
   "outputs": [
    {
     "data": {
      "text/latex": [
       "$$\\left[\\begin{matrix}\\sqrt{a_{1}^{2} + b_{1}^{2} + c_{1}^{2} + d_{1}^{2}}\\\\0\\\\0\\\\0\\end{matrix}\\right]$$"
      ],
      "text/plain": [
       "⎡   _______________________⎤\n",
       "⎢  ╱   2     2     2     2 ⎥\n",
       "⎢╲╱  a₁  + b₁  + c₁  + d₁  ⎥\n",
       "⎢                          ⎥\n",
       "⎢            0             ⎥\n",
       "⎢                          ⎥\n",
       "⎢            0             ⎥\n",
       "⎢                          ⎥\n",
       "⎣            0             ⎦"
      ]
     },
     "execution_count": 29,
     "metadata": {},
     "output_type": "execute_result"
    }
   ],
   "source": [
    "qmult(q0, qconj(q0)/qnorm(q0))"
   ]
  },
  {
   "cell_type": "code",
   "execution_count": 44,
   "metadata": {
    "collapsed": false
   },
   "outputs": [],
   "source": [
    "def qinv(q):\n",
    "    res = qconj(q)/qnorm(q)**2\n",
    "    res.simplify()\n",
    "    return res"
   ]
  },
  {
   "cell_type": "code",
   "execution_count": 50,
   "metadata": {
    "collapsed": false
   },
   "outputs": [
    {
     "data": {
      "text/latex": [
       "$$\\left[\\begin{matrix}\\frac{a_{1} a_{2} + b_{1} b_{2} + c_{1} c_{2} + d_{1} d_{2}}{a_{2}^{2} + b_{2}^{2} + c_{2}^{2} + d_{2}^{2}}\\\\\\frac{- a_{1} b_{2} + a_{2} b_{1} - c_{1} d_{2} + c_{2} d_{1}}{a_{2}^{2} + b_{2}^{2} + c_{2}^{2} + d_{2}^{2}}\\\\\\frac{- a_{1} c_{2} + a_{2} c_{1} + b_{1} d_{2} - b_{2} d_{1}}{a_{2}^{2} + b_{2}^{2} + c_{2}^{2} + d_{2}^{2}}\\\\\\frac{- a_{1} d_{2} + a_{2} d_{1} - b_{1} c_{2} + b_{2} c_{1}}{a_{2}^{2} + b_{2}^{2} + c_{2}^{2} + d_{2}^{2}}\\end{matrix}\\right]$$"
      ],
      "text/plain": [
       "⎡a₁⋅a₂ + b₁⋅b₂ + c₁⋅c₂ + d₁⋅d₂ ⎤\n",
       "⎢───────────────────────────── ⎥\n",
       "⎢      2     2     2     2     ⎥\n",
       "⎢    a₂  + b₂  + c₂  + d₂      ⎥\n",
       "⎢                              ⎥\n",
       "⎢-a₁⋅b₂ + a₂⋅b₁ - c₁⋅d₂ + c₂⋅d₁⎥\n",
       "⎢──────────────────────────────⎥\n",
       "⎢      2     2     2     2     ⎥\n",
       "⎢    a₂  + b₂  + c₂  + d₂      ⎥\n",
       "⎢                              ⎥\n",
       "⎢-a₁⋅c₂ + a₂⋅c₁ + b₁⋅d₂ - b₂⋅d₁⎥\n",
       "⎢──────────────────────────────⎥\n",
       "⎢      2     2     2     2     ⎥\n",
       "⎢    a₂  + b₂  + c₂  + d₂      ⎥\n",
       "⎢                              ⎥\n",
       "⎢-a₁⋅d₂ + a₂⋅d₁ - b₁⋅c₂ + b₂⋅c₁⎥\n",
       "⎢──────────────────────────────⎥\n",
       "⎢      2     2     2     2     ⎥\n",
       "⎣    a₂  + b₂  + c₂  + d₂      ⎦"
      ]
     },
     "execution_count": 50,
     "metadata": {},
     "output_type": "execute_result"
    }
   ],
   "source": [
    "qmult(q0, qinv(q1))"
   ]
  },
  {
   "cell_type": "code",
   "execution_count": null,
   "metadata": {
    "collapsed": true
   },
   "outputs": [],
   "source": []
  }
 ],
 "metadata": {
  "anaconda-cloud": {},
  "kernelspec": {
   "display_name": "Python [conda root]",
   "language": "python",
   "name": "conda-root-py"
  },
  "language_info": {
   "codemirror_mode": {
    "name": "ipython",
    "version": 3
   },
   "file_extension": ".py",
   "mimetype": "text/x-python",
   "name": "python",
   "nbconvert_exporter": "python",
   "pygments_lexer": "ipython3",
   "version": "3.5.2"
  }
 },
 "nbformat": 4,
 "nbformat_minor": 1
}
