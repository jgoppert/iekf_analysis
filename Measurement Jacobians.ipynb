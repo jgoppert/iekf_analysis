{
 "cells": [
  {
   "cell_type": "code",
   "execution_count": 1,
   "metadata": {
    "collapsed": true
   },
   "outputs": [],
   "source": [
    "from __future__ import print_function\n",
    "import sympy\n",
    "import sympy.physics.mechanics as mech\n",
    "sympy.init_printing()\n",
    "mech.init_vprinting()"
   ]
  },
  {
   "cell_type": "code",
   "execution_count": 2,
   "metadata": {
    "collapsed": false
   },
   "outputs": [],
   "source": [
    "t = sympy.symbols('t')\n",
    "rot_N, rot_E, rot_D, vel_N, vel_E, vel_D, \\\n",
    "    gyro_bias_N, gyro_bias_E, gyro_bias_D, \\\n",
    "    accel_bias_N, accel_bias_E, accel_bias_D, \\\n",
    "    pos_N, pos_E, asl, terrain_asl, baro_bias, \\\n",
    "    wind_N, wind_E, wind_D, d, agl, phi, theta, psi  = mech.dynamicsymbols(\n",
    "    'rot_N, rot_E, rot_D, vel_N, vel_E, vel_D, ' \\\n",
    "    'gyro_bias_N, gyro_bias_E, gyro_bias_D, ' \\\n",
    "    'accel_bias_N, accel_bias_E, accel_bias_D, ' \\\n",
    "    'pos_N, pos_E, asl, terrain_asl, baro_bias, ' \\\n",
    "    'wind_N, wind_E, wind_D, d, agl, phi, theta, psi') \n",
    "frame_i = mech.ReferenceFrame('i')\n",
    "frame_n = frame_i.orientnew('n', 'Quaternion', (1, rot_N, rot_E, rot_D))\n",
    "#frame_b = frame_n.orientnew('b', 'Quaternion', (q_0, q_1, q_2, q_3)) \n",
    "# easier to see where we get divide by zeros if we express dcm in euler angles\n",
    "frame_b = frame_n.orientnew('b', 'Body', (psi, theta, phi), '321')\n",
    "C_nb = frame_n.dcm(frame_b)\n",
    "assert C_nb[0, 1] == frame_n.x.dot(frame_b.y)\n",
    "sub_C_nb = {}\n",
    "for i in range(3):\n",
    "    for j in range(3):\n",
    "        sub_C_nb[C_nb[i, j]] = sympy.Symbol('C_nb({:d}, {:d})'.format(i, j))(t)\n",
    "        sub_C_nb[-C_nb[i, j]] = -sympy.Symbol('C_nb({:d}, {:d})'.format(i, j))(t)\n",
    "sub_C_nb_rev = { sub_C_nb[key]: key for key in sub_C_nb.keys() }\n",
    "sub_lin = {\n",
    "    rot_N: 0,\n",
    "    rot_E: 0,\n",
    "    rot_D: 0,\n",
    "    gyro_bias_N: 0,\n",
    "    gyro_bias_E: 0,\n",
    "    gyro_bias_D: 0\n",
    "}\n",
    "sub_agl = {\n",
    "    asl - terrain_asl: agl\n",
    "}\n",
    "omega_bx, omega_by, omega_bz = mech.dynamicsymbols('omega_bx, omega_by, omega_bz')\n",
    "flowX, flowY = mech.dynamicsymbols('flowX, flowY')\n",
    "omega_ib_b = omega_bx * frame_b.x \\\n",
    "    + omega_by * frame_b.y \\\n",
    "    + omega_bz * frame_b.z\n",
    "gyro_bias_i = gyro_bias_N * frame_i.x \\\n",
    "    + gyro_bias_E * frame_i.y \\\n",
    "    + gyro_bias_D * frame_i.z\n",
    "omega_nx, omega_ny, omega_nz = mech.dynamicsymbols('omega_nx, omega_ny, omega_nz')\n",
    "omega_in_n = -gyro_bias_N * frame_n.x \\\n",
    "    - gyro_bias_E * frame_n.y \\\n",
    "    - gyro_bias_D * frame_n.z\n",
    "a_N, a_E, a_D = mech.dynamicsymbols('a_N, a_E, a_D')\n",
    "a_n = a_N*frame_n.x + a_E*frame_n.y + a_D*frame_n.z\n",
    "a_bias_n = accel_bias_N*frame_n.x + accel_bias_E*frame_n.y + accel_bias_D*frame_n.z\n",
    "a_n_correct = a_n - a_bias_n\n",
    "v_i = vel_N*frame_i.x + vel_E*frame_i.y + vel_D*frame_i.z\n",
    "p_i = pos_N*frame_i.x + pos_E*frame_i.y - asl*frame_i.z\n",
    "I_wx, I_wy, I_wz = mech.dynamicsymbols('I_wx, I_wy, I_wz')\n",
    "I_w_n = I_wx*frame_n.x + I_wy*frame_n.y  + I_wz*frame_n.z"
   ]
  },
  {
   "cell_type": "code",
   "execution_count": 3,
   "metadata": {
    "collapsed": false
   },
   "outputs": [
    {
     "data": {
      "image/png": "[encoded data removed]",
      "text/latex": [
       "$$\\left[\\begin{array}{cccccccccccccccccccc}rot_{N} & rot_{E} & rot_{D} & vel_{N} & vel_{E} & vel_{D} & gyro_{biasN} & gyro_{biasE} & gyro_{biasD} & accel_{biasN} & accel_{biasE} & accel_{biasD} & pos_{N} & pos_{E} & asl & terrain_{asl} & baro_{bias} & wind_{N} & wind_{E} & wind_{D}\\end{array}\\right]$$"
      ],
      "text/plain": [
       "[rot_N  rot_E  rot_D  vel_N  vel_E  vel_D  gyro_bias_N  gyro_bias_E  gyro_bias\n",
       "_D  accel_bias_N  accel_bias_E  accel_bias_D  pos_N  pos_E  asl  terrainₐₛₗ  b\n",
       "aro_bias  wind_N  wind_E  wind_D]"
      ]
     },
     "execution_count": 3,
     "metadata": {},
     "output_type": "execute_result"
    }
   ],
   "source": [
    "xe = sympy.Matrix([rot_N, rot_E, rot_D, vel_N, vel_E, vel_D, gyro_bias_N, gyro_bias_E, gyro_bias_D,\n",
    "                   accel_bias_N, accel_bias_E, accel_bias_D,\n",
    "                   pos_N, pos_E, asl, terrain_asl, baro_bias, wind_N, wind_E, wind_D])\n",
    "xe.T"
   ]
  },
  {
   "cell_type": "code",
   "execution_count": 4,
   "metadata": {
    "collapsed": false
   },
   "outputs": [],
   "source": [
    "def print_terms(terms):\n",
    "    for t in terms:\n",
    "        s = 'float {:s} = {:s};'.format(\n",
    "                str(t[0]), str(t[1]))\n",
    "        print(s.replace('(t)', ''))\n",
    "        \n",
    "def matrix_to_code(name, mat, i_name, i_syms, j_name, j_syms):\n",
    "    print('Matrix<float, {:s}n, {:s}n> {:s};'.format(i_name, j_name, name))\n",
    "    mat.simplify()\n",
    "    terms, mat = sympy.cse(mat)\n",
    "    print_terms(terms)\n",
    "    mat = mat[0]\n",
    "    for i in range(mat.shape[0]):\n",
    "        for j in range(mat.shape[1]):\n",
    "            if str(mat[i, j]) == \"0\":\n",
    "                continue\n",
    "            s = '{:s}({:s}{:s}, {:s}{:s}) = {:s};'.format(\n",
    "                str(name), i_name, str(i_syms[i]),\n",
    "                j_name, str(j_syms[j]), str(mat[i, j]))\n",
    "            print(s.replace('(t)', ''))"
   ]
  },
  {
   "cell_type": "markdown",
   "metadata": {},
   "source": [
    "## Dynamics"
   ]
  },
  {
   "cell_type": "markdown",
   "metadata": {},
   "source": [
    "This is just to check the other derivaiton in IEKF Derivation notebook, doesn't match yet, needes further work."
   ]
  },
  {
   "cell_type": "code",
   "execution_count": 5,
   "metadata": {
    "collapsed": false
   },
   "outputs": [
    {
     "data": {
      "image/png": "[encoded data removed]",
      "text/latex": [
       "$$\\left [ \\left(2 rot_{D} rot_{N} + 2 rot_{E}\\right) \\left(a_{D} - accel_{biasD}\\right) + \\left(a_{E} - accel_{biasE}\\right) \\left(- 2 rot_{D} + 2 rot_{E} rot_{N}\\right) + \\left(a_{N} - accel_{biasN}\\right) \\left(- rot^{2}_{D} - rot^{2}_{E} + rot^{2}_{N} + 1\\right) - \\dot{vel}_{N}, \\quad \\left(2 rot_{D} rot_{E} - 2 rot_{N}\\right) \\left(a_{D} - accel_{biasD}\\right) + \\left(a_{E} - accel_{biasE}\\right) \\left(- rot^{2}_{D} + rot^{2}_{E} - rot^{2}_{N} + 1\\right) + \\left(a_{N} - accel_{biasN}\\right) \\left(2 rot_{D} + 2 rot_{E} rot_{N}\\right) - \\dot{vel}_{E}, \\quad \\left(2 rot_{D} rot_{E} + 2 rot_{N}\\right) \\left(a_{E} - accel_{biasE}\\right) + \\left(2 rot_{D} rot_{N} - 2 rot_{E}\\right) \\left(a_{N} - accel_{biasN}\\right) + \\left(a_{D} - accel_{biasD}\\right) \\left(rot^{2}_{D} - rot^{2}_{E} - rot^{2}_{N} + 1\\right) - \\dot{vel}_{D}\\right ]$$"
      ],
      "text/plain": [
       "⎡                                                                             \n",
       "⎣(2⋅rot_D⋅rot_N + 2⋅rot_E)⋅(a_D - accel_bias_D) + (a_E - accel_bias_E)⋅(-2⋅rot\n",
       "\n",
       "                                           ⎛       2        2        2    ⎞   \n",
       "_D + 2⋅rot_E⋅rot_N) + (a_N - accel_bias_N)⋅⎝- rot_D  - rot_E  + rot_N  + 1⎠ - \n",
       "\n",
       "                                                                              \n",
       "vel̇_N, (2⋅rot_D⋅rot_E - 2⋅rot_N)⋅(a_D - accel_bias_D) + (a_E - accel_bias_E)⋅\n",
       "\n",
       "⎛       2        2        2    ⎞                                              \n",
       "⎝- rot_D  + rot_E  - rot_N  + 1⎠ + (a_N - accel_bias_N)⋅(2⋅rot_D + 2⋅rot_E⋅rot\n",
       "\n",
       "                                                                              \n",
       "_N) - vel̇_E, (2⋅rot_D⋅rot_E + 2⋅rot_N)⋅(a_E - accel_bias_E) + (2⋅rot_D⋅rot_N \n",
       "\n",
       "                                                       ⎛     2        2       \n",
       "- 2⋅rot_E)⋅(a_N - accel_bias_N) + (a_D - accel_bias_D)⋅⎝rot_D  - rot_E  - rot_\n",
       "\n",
       " 2    ⎞         ⎤\n",
       "N  + 1⎠ - vel̇_D⎦"
      ]
     },
     "execution_count": 5,
     "metadata": {},
     "output_type": "execute_result"
    }
   ],
   "source": [
    "trans_kin_eqs = list((a_n_correct.express(frame_i) - v_i.diff(t, frame_i)).to_matrix(frame_i))\n",
    "trans_kin_eqs"
   ]
  },
  {
   "cell_type": "code",
   "execution_count": 6,
   "metadata": {
    "collapsed": false
   },
   "outputs": [
    {
     "data": {
      "image/png": "[encoded data removed]",
      "text/latex": [
       "$$\\left [ - vel_{N} + \\dot{pos}_{N}, \\quad - vel_{E} + \\dot{pos}_{E}, \\quad - vel_{D} - \\dot{asl}\\right ]$$"
      ],
      "text/plain": [
       "[-vel_N + poṡ_N, -vel_E + poṡ_E, -vel_D - aṡl]"
      ]
     },
     "execution_count": 6,
     "metadata": {},
     "output_type": "execute_result"
    }
   ],
   "source": [
    "nav_eqs = list((p_i.diff(t, frame_i) - v_i).to_matrix(frame_i))\n",
    "nav_eqs"
   ]
  },
  {
   "cell_type": "code",
   "execution_count": 7,
   "metadata": {
    "collapsed": false
   },
   "outputs": [],
   "source": [
    "sub_q = {\n",
    "    (1 + rot_N**2 + rot_E**2 + rot_D**2): 1,\n",
    "    2*(1 + rot_N**2 + rot_E**2 + rot_D**2): 2\n",
    "}"
   ]
  },
  {
   "cell_type": "code",
   "execution_count": 8,
   "metadata": {
    "collapsed": false
   },
   "outputs": [
    {
     "data": {
      "image/png": "[encoded data removed]",
      "text/latex": [
       "$$\\left [ gyro_{biasN} + 2 rot_{D} \\dot{rot}_{E} - 2 rot_{E} \\dot{rot}_{D} + 2 \\dot{rot}_{N}, \\quad gyro_{biasE} - 2 rot_{D} \\dot{rot}_{N} + 2 rot_{N} \\dot{rot}_{D} + 2 \\dot{rot}_{E}, \\quad gyro_{biasD} + 2 rot_{E} \\dot{rot}_{N} - 2 rot_{N} \\dot{rot}_{E} + 2 \\dot{rot}_{D}\\right ]$$"
      ],
      "text/plain": [
       "[gyro_bias_N + 2⋅rot_D⋅roṫ_E - 2⋅rot_E⋅roṫ_D + 2⋅roṫ_N, gyro_bias_E - 2⋅rot\n",
       "_D⋅roṫ_N + 2⋅rot_N⋅roṫ_D + 2⋅roṫ_E, gyro_bias_D + 2⋅rot_E⋅roṫ_N - 2⋅rot_N⋅\n",
       "roṫ_E + 2⋅roṫ_D]"
      ]
     },
     "execution_count": 8,
     "metadata": {},
     "output_type": "execute_result"
    }
   ],
   "source": [
    "rot_kin_eqs = list((frame_n.ang_vel_in(frame_i) - omega_in_n).to_matrix(frame_n))\n",
    "rot_kin_eqs"
   ]
  },
  {
   "cell_type": "code",
   "execution_count": 9,
   "metadata": {
    "collapsed": false
   },
   "outputs": [
    {
     "data": {
      "image/png": "[encoded data removed]",
      "text/latex": [
       "$$\\left [ \\dot{terrain}_{asl}, \\quad \\dot{baro}_{bias}, \\quad \\dot{wind}_{N}, \\quad \\dot{wind}_{E}, \\quad \\dot{wind}_{D}, \\quad \\dot{accel}_{biasN}, \\quad \\dot{accel}_{biasE}, \\quad \\dot{accel}_{biasD}\\right ]$$"
      ],
      "text/plain": [
       "[terrai̇nₐₛₗ, baro_̇bias, winḋ_N, winḋ_E, winḋ_D, accel_ḃias_N, accel_ḃia\n",
       "s_E, accel_ḃias_D]"
      ]
     },
     "execution_count": 9,
     "metadata": {},
     "output_type": "execute_result"
    }
   ],
   "source": [
    "static_eqs = [\n",
    "    terrain_asl.diff(t),\n",
    "    baro_bias.diff(t),\n",
    "    wind_N.diff(t),\n",
    "    wind_E.diff(t),\n",
    "    wind_D.diff(t),\n",
    "    accel_bias_N.diff(t),\n",
    "    accel_bias_E.diff(t),\n",
    "    accel_bias_D.diff(t),\n",
    "]\n",
    "static_eqs"
   ]
  },
  {
   "cell_type": "code",
   "execution_count": 10,
   "metadata": {
    "collapsed": false
   },
   "outputs": [
    {
     "data": {
      "image/png": "[encoded data removed]",
      "text/latex": [
       "$$\\left [ \\dot{terrain}_{asl}, \\quad \\dot{baro}_{bias}, \\quad \\dot{wind}_{N}, \\quad \\dot{wind}_{E}, \\quad \\dot{wind}_{D}, \\quad \\dot{accel}_{biasN}, \\quad \\dot{accel}_{biasE}, \\quad \\dot{accel}_{biasD}\\right ]$$"
      ],
      "text/plain": [
       "[terrai̇nₐₛₗ, baro_̇bias, winḋ_N, winḋ_E, winḋ_D, accel_ḃias_N, accel_ḃia\n",
       "s_E, accel_ḃias_D]"
      ]
     },
     "execution_count": 10,
     "metadata": {},
     "output_type": "execute_result"
    }
   ],
   "source": [
    "static_eqs"
   ]
  },
  {
   "cell_type": "code",
   "execution_count": 11,
   "metadata": {
    "collapsed": false
   },
   "outputs": [
    {
     "data": {
      "image/png": "[encoded data removed]",
      "text/latex": [
       "$$\\left [ - \\left(2 rot_{D} \\dot{rot}_{N} - 2 rot_{N} \\dot{rot}_{D} - 2 \\dot{rot}_{E}\\right) I_{wz} + \\left(- 2 rot_{E} \\dot{rot}_{N} + 2 rot_{N} \\dot{rot}_{E} - 2 \\dot{rot}_{D}\\right) I_{wy} - \\dot{gyro}_{biasN}, \\quad \\left(- 2 rot_{D} \\dot{rot}_{E} + 2 rot_{E} \\dot{rot}_{D} - 2 \\dot{rot}_{N}\\right) I_{wz} - \\left(- 2 rot_{E} \\dot{rot}_{N} + 2 rot_{N} \\dot{rot}_{E} - 2 \\dot{rot}_{D}\\right) I_{wx} - \\dot{gyro}_{biasE}, \\quad - \\left(- 2 rot_{D} \\dot{rot}_{E} + 2 rot_{E} \\dot{rot}_{D} - 2 \\dot{rot}_{N}\\right) I_{wy} + \\left(2 rot_{D} \\dot{rot}_{N} - 2 rot_{N} \\dot{rot}_{D} - 2 \\dot{rot}_{E}\\right) I_{wx} - \\dot{gyro}_{biasD}\\right ]$$"
      ],
      "text/plain": [
       "[-(2⋅rot_D⋅roṫ_N - 2⋅rot_N⋅roṫ_D - 2⋅roṫ_E)⋅I_wz + (-2⋅rot_E⋅roṫ_N + 2⋅rot\n",
       "_N⋅roṫ_E - 2⋅roṫ_D)⋅I_wy - gyro_ḃias_N, (-2⋅rot_D⋅roṫ_E + 2⋅rot_E⋅roṫ_D -\n",
       " 2⋅roṫ_N)⋅I_wz - (-2⋅rot_E⋅roṫ_N + 2⋅rot_N⋅roṫ_E - 2⋅roṫ_D)⋅I_wx - gyro_ḃ\n",
       "ias_E, -(-2⋅rot_D⋅roṫ_E + 2⋅rot_E⋅roṫ_D - 2⋅roṫ_N)⋅I_wy + (2⋅rot_D⋅roṫ_N -\n",
       " 2⋅rot_N⋅roṫ_D - 2⋅roṫ_E)⋅I_wx - gyro_ḃias_D]"
      ]
     },
     "execution_count": 11,
     "metadata": {},
     "output_type": "execute_result"
    }
   ],
   "source": [
    "gyro_eqs = list((omega_in_n.diff(t, frame_n) - frame_i.ang_vel_in(frame_n).cross(I_w_n)).to_matrix(frame_n))\n",
    "gyro_eqs"
   ]
  },
  {
   "cell_type": "code",
   "execution_count": 12,
   "metadata": {
    "collapsed": false
   },
   "outputs": [],
   "source": [
    "sol = sympy.solve(rot_kin_eqs + trans_kin_eqs + static_eqs + nav_eqs + gyro_eqs, xe.diff(t))\n",
    "sol = { key:sol[key].subs(sub_q) for key in sol.keys() }\n",
    "xe_dot = sympy.Matrix([ sol[var] for var in xe.diff(t) ]).applyfunc(lambda x: x.subs(sub_q))\n",
    "#xe_dot"
   ]
  },
  {
   "cell_type": "code",
   "execution_count": 13,
   "metadata": {
    "collapsed": false
   },
   "outputs": [],
   "source": [
    "A = xe_dot.jacobian(xe).subs(sub_lin)\n",
    "#A"
   ]
  },
  {
   "cell_type": "code",
   "execution_count": 14,
   "metadata": {
    "collapsed": false
   },
   "outputs": [
    {
     "name": "stdout",
     "output_type": "stream",
     "text": [
      "Matrix<float, Xe::n, Xe::n> A;\n",
      "float x0 = 2*a_D;\n",
      "float x1 = 2*accel_bias_D;\n",
      "float x2 = 2*a_E;\n",
      "float x3 = 2*accel_bias_E;\n",
      "float x4 = 2*a_N;\n",
      "float x5 = 2*accel_bias_N;\n",
      "float x6 = I_wz;\n",
      "float x7 = I_wy;\n",
      "float x8 = I_wx;\n",
      "A(Xe::rot_N, Xe::gyro_bias_N) = -1/2;\n",
      "A(Xe::rot_E, Xe::gyro_bias_E) = -1/2;\n",
      "A(Xe::rot_D, Xe::gyro_bias_D) = -1/2;\n",
      "A(Xe::vel_N, Xe::rot_E) = x0 - x1;\n",
      "A(Xe::vel_N, Xe::rot_D) = -x2 + x3;\n",
      "A(Xe::vel_N, Xe::accel_bias_N) = -1;\n",
      "A(Xe::vel_E, Xe::rot_N) = -x0 + x1;\n",
      "A(Xe::vel_E, Xe::rot_D) = x4 - x5;\n",
      "A(Xe::vel_E, Xe::accel_bias_E) = -1;\n",
      "A(Xe::vel_D, Xe::rot_N) = x2 - x3;\n",
      "A(Xe::vel_D, Xe::rot_E) = -x4 + x5;\n",
      "A(Xe::vel_D, Xe::accel_bias_D) = -1;\n",
      "A(Xe::gyro_bias_N, Xe::gyro_bias_E) = -x6;\n",
      "A(Xe::gyro_bias_N, Xe::gyro_bias_D) = x7;\n",
      "A(Xe::gyro_bias_E, Xe::gyro_bias_N) = x6;\n",
      "A(Xe::gyro_bias_E, Xe::gyro_bias_D) = -x8;\n",
      "A(Xe::gyro_bias_D, Xe::gyro_bias_N) = -x7;\n",
      "A(Xe::gyro_bias_D, Xe::gyro_bias_E) = x8;\n",
      "A(Xe::pos_N, Xe::vel_N) = 1;\n",
      "A(Xe::pos_E, Xe::vel_E) = 1;\n",
      "A(Xe::asl, Xe::vel_D) = -1;\n"
     ]
    }
   ],
   "source": [
    "matrix_to_code('A', A, 'Xe::', xe, 'Xe::', xe)"
   ]
  },
  {
   "cell_type": "markdown",
   "metadata": {},
   "source": [
    "## Airspeed"
   ]
  },
  {
   "cell_type": "code",
   "execution_count": 15,
   "metadata": {
    "collapsed": false
   },
   "outputs": [],
   "source": [
    "wind_i = wind_N*frame_i.x + wind_E*frame_i.y + wind_D*frame_i.z\n",
    "vel_i = vel_N*frame_i.x + vel_E*frame_i.y + vel_D*frame_i.z"
   ]
  },
  {
   "cell_type": "code",
   "execution_count": 16,
   "metadata": {
    "collapsed": false
   },
   "outputs": [
    {
     "data": {
      "image/png": "[encoded data removed]",
      "text/latex": [
       "$$\\left[\\begin{matrix}\\left(- vel_{D} + wind_{D}\\right) \\left(- \\left(2 rot_{D} rot_{E} + 2 rot_{N}\\right) C_{nb(1, 0)} - \\left(2 rot_{D} rot_{N} - 2 rot_{E}\\right) C_{nb(0, 0)} - \\left(rot^{2}_{D} - rot^{2}_{E} - rot^{2}_{N} + 1\\right) C_{nb(2, 0)}\\right) + \\left(- vel_{E} + wind_{E}\\right) \\left(- \\left(2 rot_{D} rot_{E} - 2 rot_{N}\\right) C_{nb(2, 0)} - \\left(2 rot_{D} + 2 rot_{E} rot_{N}\\right) C_{nb(0, 0)} - \\left(- rot^{2}_{D} + rot^{2}_{E} - rot^{2}_{N} + 1\\right) C_{nb(1, 0)}\\right) + \\left(- vel_{N} + wind_{N}\\right) \\left(- \\left(2 rot_{D} rot_{N} + 2 rot_{E}\\right) C_{nb(2, 0)} - \\left(- 2 rot_{D} + 2 rot_{E} rot_{N}\\right) C_{nb(1, 0)} - \\left(- rot^{2}_{D} - rot^{2}_{E} + rot^{2}_{N} + 1\\right) C_{nb(0, 0)}\\right)\\end{matrix}\\right]$$"
      ],
      "text/plain": [
       "⎡                  ⎛                                                          \n",
       "⎣(-vel_D + wind_D)⋅⎝-(2⋅rot_D⋅rot_E + 2⋅rot_N)⋅C_nb(1, 0) - (2⋅rot_D⋅rot_N - 2\n",
       "\n",
       "                     ⎛     2        2        2    ⎞           ⎞               \n",
       "⋅rot_E)⋅C_nb(0, 0) - ⎝rot_D  - rot_E  - rot_N  + 1⎠⋅C_nb(2, 0)⎠ + (-vel_E + wi\n",
       "\n",
       "      ⎛                                                                       \n",
       "nd_E)⋅⎝-(2⋅rot_D⋅rot_E - 2⋅rot_N)⋅C_nb(2, 0) - (2⋅rot_D + 2⋅rot_E⋅rot_N)⋅C_nb(\n",
       "\n",
       "        ⎛       2        2        2    ⎞           ⎞                     ⎛    \n",
       "0, 0) - ⎝- rot_D  + rot_E  - rot_N  + 1⎠⋅C_nb(1, 0)⎠ + (-vel_N + wind_N)⋅⎝-(2⋅\n",
       "\n",
       "                                                                            ⎛ \n",
       "rot_D⋅rot_N + 2⋅rot_E)⋅C_nb(2, 0) - (-2⋅rot_D + 2⋅rot_E⋅rot_N)⋅C_nb(1, 0) - ⎝-\n",
       "\n",
       "      2        2        2    ⎞           ⎞⎤\n",
       " rot_D  - rot_E  + rot_N  + 1⎠⋅C_nb(0, 0)⎠⎦"
      ]
     },
     "execution_count": 16,
     "metadata": {},
     "output_type": "execute_result"
    }
   ],
   "source": [
    "rel_wind = wind_i - vel_i\n",
    "y_airspeed = sympy.Matrix([rel_wind.dot(-frame_b.x)]).subs(sub_C_nb)\n",
    "y_airspeed"
   ]
  },
  {
   "cell_type": "code",
   "execution_count": 17,
   "metadata": {
    "collapsed": false
   },
   "outputs": [
    {
     "data": {
      "image/png": "[encoded data removed]",
      "text/latex": [
       "$$\\left[\\begin{matrix}- 2 \\left(- vel_{D} + wind_{D}\\right) C_{nb(1, 0)} + 2 \\left(- vel_{E} + wind_{E}\\right) C_{nb(2, 0)}\\\\2 \\left(- vel_{D} + wind_{D}\\right) C_{nb(0, 0)} - 2 \\left(- vel_{N} + wind_{N}\\right) C_{nb(2, 0)}\\\\- 2 \\left(- vel_{E} + wind_{E}\\right) C_{nb(0, 0)} + 2 \\left(- vel_{N} + wind_{N}\\right) C_{nb(1, 0)}\\\\C_{nb(0, 0)}\\\\C_{nb(1, 0)}\\\\C_{nb(2, 0)}\\\\0\\\\0\\\\0\\\\0\\\\0\\\\0\\\\0\\\\0\\\\0\\\\0\\\\0\\\\- C_{nb(0, 0)}\\\\- C_{nb(1, 0)}\\\\- C_{nb(2, 0)}\\end{matrix}\\right]$$"
      ],
      "text/plain": [
       "⎡-2⋅(-vel_D + wind_D)⋅C_nb(1, 0) + 2⋅(-vel_E + wind_E)⋅C_nb(2, 0)⎤\n",
       "⎢                                                                ⎥\n",
       "⎢2⋅(-vel_D + wind_D)⋅C_nb(0, 0) - 2⋅(-vel_N + wind_N)⋅C_nb(2, 0) ⎥\n",
       "⎢                                                                ⎥\n",
       "⎢-2⋅(-vel_E + wind_E)⋅C_nb(0, 0) + 2⋅(-vel_N + wind_N)⋅C_nb(1, 0)⎥\n",
       "⎢                                                                ⎥\n",
       "⎢                           C_nb(0, 0)                           ⎥\n",
       "⎢                                                                ⎥\n",
       "⎢                           C_nb(1, 0)                           ⎥\n",
       "⎢                                                                ⎥\n",
       "⎢                           C_nb(2, 0)                           ⎥\n",
       "⎢                                                                ⎥\n",
       "⎢                               0                                ⎥\n",
       "⎢                                                                ⎥\n",
       "⎢                               0                                ⎥\n",
       "⎢                                                                ⎥\n",
       "⎢                               0                                ⎥\n",
       "⎢                                                                ⎥\n",
       "⎢                               0                                ⎥\n",
       "⎢                                                                ⎥\n",
       "⎢                               0                                ⎥\n",
       "⎢                                                                ⎥\n",
       "⎢                               0                                ⎥\n",
       "⎢                                                                ⎥\n",
       "⎢                               0                                ⎥\n",
       "⎢                                                                ⎥\n",
       "⎢                               0                                ⎥\n",
       "⎢                                                                ⎥\n",
       "⎢                               0                                ⎥\n",
       "⎢                                                                ⎥\n",
       "⎢                               0                                ⎥\n",
       "⎢                                                                ⎥\n",
       "⎢                               0                                ⎥\n",
       "⎢                                                                ⎥\n",
       "⎢                          -C_nb(0, 0)                           ⎥\n",
       "⎢                                                                ⎥\n",
       "⎢                          -C_nb(1, 0)                           ⎥\n",
       "⎢                                                                ⎥\n",
       "⎣                          -C_nb(2, 0)                           ⎦"
      ]
     },
     "execution_count": 17,
     "metadata": {},
     "output_type": "execute_result"
    }
   ],
   "source": [
    "H_airspeed = y_airspeed.jacobian(xe).subs(sub_lin)\n",
    "H_airspeed.T"
   ]
  },
  {
   "cell_type": "code",
   "execution_count": 18,
   "metadata": {
    "collapsed": false
   },
   "outputs": [
    {
     "name": "stdout",
     "output_type": "stream",
     "text": [
      "Matrix<float, Y_airspeed::n, Xe::n> H;\n",
      "float x0 = C_nb(1, 0);\n",
      "float x1 = 2*vel_D - 2*wind_D;\n",
      "float x2 = C_nb(2, 0);\n",
      "float x3 = 2*vel_E - 2*wind_E;\n",
      "float x4 = C_nb(0, 0);\n",
      "float x5 = 2*vel_N - 2*wind_N;\n",
      "H(Y_airspeed::airspeed, Xe::rot_N) = x0*x1 - x2*x3;\n",
      "H(Y_airspeed::airspeed, Xe::rot_E) = -x1*x4 + x2*x5;\n",
      "H(Y_airspeed::airspeed, Xe::rot_D) = -x0*x5 + x3*x4;\n",
      "H(Y_airspeed::airspeed, Xe::vel_N) = x4;\n",
      "H(Y_airspeed::airspeed, Xe::vel_E) = x0;\n",
      "H(Y_airspeed::airspeed, Xe::vel_D) = x2;\n",
      "H(Y_airspeed::airspeed, Xe::wind_N) = -x4;\n",
      "H(Y_airspeed::airspeed, Xe::wind_E) = -x0;\n",
      "H(Y_airspeed::airspeed, Xe::wind_D) = -x2;\n"
     ]
    }
   ],
   "source": [
    "matrix_to_code('H', H_airspeed,\n",
    "               'Y_airspeed::', [sympy.Symbol('airspeed')],\n",
    "               'Xe::', xe)"
   ]
  },
  {
   "cell_type": "markdown",
   "metadata": {
    "collapsed": true
   },
   "source": [
    "## Distance"
   ]
  },
  {
   "cell_type": "code",
   "execution_count": 19,
   "metadata": {
    "collapsed": false
   },
   "outputs": [
    {
     "data": {
      "image/png": "[encoded data removed]",
      "text/latex": [
       "$$\\frac{agl}{2 C_{nb(0, 2)} rot_{D} rot_{N} - 2 C_{nb(0, 2)} rot_{E} + 2 C_{nb(1, 2)} rot_{D} rot_{E} + 2 C_{nb(1, 2)} rot_{N} + C_{nb(2, 2)} rot^{2}_{D} - C_{nb(2, 2)} rot^{2}_{E} - C_{nb(2, 2)} rot^{2}_{N} + C_{nb(2, 2)}}$$"
      ],
      "text/plain": [
       "                                                                              \n",
       "──────────────────────────────────────────────────────────────────────────────\n",
       "                                                                              \n",
       "2⋅C_nb(0, 2)⋅rot_D⋅rot_N - 2⋅C_nb(0, 2)⋅rot_E + 2⋅C_nb(1, 2)⋅rot_D⋅rot_E + 2⋅C\n",
       "\n",
       "   agl                                                                        \n",
       "──────────────────────────────────────────────────────────────────────────────\n",
       "                                  2                   2                   2   \n",
       "_nb(1, 2)⋅rot_N + C_nb(2, 2)⋅rot_D  - C_nb(2, 2)⋅rot_E  - C_nb(2, 2)⋅rot_N  + \n",
       "\n",
       "          \n",
       "──────────\n",
       "          \n",
       "C_nb(2, 2)"
      ]
     },
     "execution_count": 19,
     "metadata": {},
     "output_type": "execute_result"
    }
   ],
   "source": [
    "d_eq = sympy.solve((d*frame_b.z).dot(frame_i.z).subs(sub_C_nb) - (asl - terrain_asl), d)[0]\n",
    "d_eq.subs(sub_agl)"
   ]
  },
  {
   "cell_type": "code",
   "execution_count": 20,
   "metadata": {
    "collapsed": false
   },
   "outputs": [
    {
     "data": {
      "image/png": "[encoded data removed]",
      "text/latex": [
       "$$\\frac{agl}{C_{nb(2, 2)}}$$"
      ],
      "text/plain": [
       "   agl    \n",
       "──────────\n",
       "C_nb(2, 2)"
      ]
     },
     "execution_count": 20,
     "metadata": {},
     "output_type": "execute_result"
    }
   ],
   "source": [
    "y_dist = sympy.Matrix([d_eq]).subs(sub_C_nb)\n",
    "y_dist[0].subs(sub_lin).subs(sub_agl)"
   ]
  },
  {
   "cell_type": "code",
   "execution_count": 21,
   "metadata": {
    "collapsed": false
   },
   "outputs": [
    {
     "name": "stdout",
     "output_type": "stream",
     "text": [
      "Matrix<float, Y_distance_down::n, Xe::n> H;\n",
      "float x0 = C_nb(2, 2);\n",
      "float x1 = 2*agl/x0**2;\n",
      "float x2 = 1/x0;\n",
      "H(Y_distance_down::d, Xe::rot_N) = -x1*C_nb(1, 2);\n",
      "H(Y_distance_down::d, Xe::rot_E) = x1*C_nb(0, 2);\n",
      "H(Y_distance_down::d, Xe::asl) = x2;\n",
      "H(Y_distance_down::d, Xe::terrain_asl) = -x2;\n"
     ]
    }
   ],
   "source": [
    "H_distance = y_dist.jacobian(xe).subs(sub_lin).subs(sub_agl)\n",
    "H_distance.T\n",
    "matrix_to_code('H', H_distance, 'Y_distance_down::',\n",
    "               [sympy.symbols('d')], 'Xe::', xe)"
   ]
  },
  {
   "cell_type": "markdown",
   "metadata": {},
   "source": [
    "## Optical Flow"
   ]
  },
  {
   "cell_type": "code",
   "execution_count": 22,
   "metadata": {
    "collapsed": false
   },
   "outputs": [],
   "source": [
    "#omega_nx, omega_ny, omega_nz = sympy.symbols('\\omega_{nx}, \\omega_{ny}, \\omega_{nz}')\n",
    "#omega_ib_n = omega_nx*frame_i.x + omega_ny*frame_i.y + omega_nz*frame_i.z\n",
    "#omega_ib_n"
   ]
  },
  {
   "cell_type": "code",
   "execution_count": 23,
   "metadata": {
    "collapsed": false
   },
   "outputs": [
    {
     "data": {
      "image/png": "[encoded data removed]",
      "text/latex": [
       "$$-  vel_{N}\\mathbf{\\hat{i}_x} -  vel_{E}\\mathbf{\\hat{i}_y} -  vel_{D}\\mathbf{\\hat{i}_z} -  \\frac{agl \\omega_{by}}{C_{nb(2, 2)}}\\mathbf{\\hat{b}_x} + \\frac{agl \\omega_{bx}}{C_{nb(2, 2)}}\\mathbf{\\hat{b}_y}$$"
      ],
      "text/plain": [
       "- vel_N i_x - vel_E i_y - vel_D i_z - agl⋅ω_by \n",
       "──────────\n",
       "C_nb(2, 2) b_x +  agl⋅ω_bx \n",
       "──────────\n",
       "C_nb(2, 2) b_y"
      ]
     },
     "execution_count": 23,
     "metadata": {},
     "output_type": "execute_result"
    }
   ],
   "source": [
    "y_flow_sym = [flowX, flowY]\n",
    "omega_n = (omega_ib_b - gyro_bias_i)\n",
    "vel_f_b = -vel_i - omega_n.cross(d_eq*frame_b.z)\n",
    "vel_f_b.subs(sub_lin).subs(sub_agl)"
   ]
  },
  {
   "cell_type": "code",
   "execution_count": 24,
   "metadata": {
    "collapsed": false
   },
   "outputs": [],
   "source": [
    "y_flow = sympy.Matrix([\n",
    "    -vel_f_b.dot(frame_b.x).subs(sub_C_nb),\n",
    "    -vel_f_b.dot(frame_b.y).subs(sub_C_nb)\n",
    "    ]).subs(sub_C_nb)"
   ]
  },
  {
   "cell_type": "code",
   "execution_count": 25,
   "metadata": {
    "collapsed": false
   },
   "outputs": [
    {
     "name": "stdout",
     "output_type": "stream",
     "text": [
      "Matrix<float, Y_flow::n, n> y_flow_lin;\n",
      "float x0 = vel_N;\n",
      "float x1 = vel_E;\n",
      "float x2 = vel_D;\n",
      "float x3 = agl/C_nb(2, 2);\n",
      "y_flow_lin(Y_flow::flowX, 0) = x0*C_nb(0, 0) + x1*C_nb(1, 0) + x2*C_nb(2, 0) + x3*omega_by;\n",
      "y_flow_lin(Y_flow::flowY, 0) = x0*C_nb(0, 1) + x1*C_nb(1, 1) + x2*C_nb(2, 1) - x3*omega_bx;\n"
     ]
    }
   ],
   "source": [
    "y_flow_lin = y_flow.subs(sub_lin).subs(sub_agl).subs(sub_C_nb)\n",
    "y_flow_lin.simplify()\n",
    "matrix_to_code('y_flow_lin', y_flow_lin, 'Y_flow::', y_flow_sym, '', [0])"
   ]
  },
  {
   "cell_type": "code",
   "execution_count": 26,
   "metadata": {
    "collapsed": false
   },
   "outputs": [
    {
     "data": {
      "image/png": "[encoded data removed]",
      "text/latex": [
       "$$\\left[\\begin{array}{cccccccccccccccccccc}2 C_{nb(1, 0)} vel_{D} - \\frac{2 C_{nb(1, 2)} agl}{C^{2}_{nb(2, 2)}} \\omega_{by} - 2 C_{nb(2, 0)} vel_{E} & - 2 C_{nb(0, 0)} vel_{D} + \\frac{2 C_{nb(0, 2)} agl}{C^{2}_{nb(2, 2)}} \\omega_{by} + 2 C_{nb(2, 0)} vel_{N} & 2 C_{nb(0, 0)} vel_{E} - 2 C_{nb(1, 0)} vel_{N} & C_{nb(0, 0)} & C_{nb(1, 0)} & C_{nb(2, 0)} & - \\frac{C_{nb(0, 1)} agl}{C_{nb(2, 2)}} & - \\frac{C_{nb(1, 1)} agl}{C_{nb(2, 2)}} & - \\frac{C_{nb(2, 1)} agl}{C_{nb(2, 2)}} & 0 & 0 & 0 & 0 & 0 & \\frac{\\omega_{by}}{C_{nb(2, 2)}} & - \\frac{\\omega_{by}}{C_{nb(2, 2)}} & 0 & 0 & 0 & 0\\\\2 C_{nb(1, 1)} vel_{D} + \\frac{2 C_{nb(1, 2)} agl}{C^{2}_{nb(2, 2)}} \\omega_{bx} - 2 C_{nb(2, 1)} vel_{E} & - 2 C_{nb(0, 1)} vel_{D} - \\frac{2 C_{nb(0, 2)} agl}{C^{2}_{nb(2, 2)}} \\omega_{bx} + 2 C_{nb(2, 1)} vel_{N} & 2 C_{nb(0, 1)} vel_{E} - 2 C_{nb(1, 1)} vel_{N} & C_{nb(0, 1)} & C_{nb(1, 1)} & C_{nb(2, 1)} & \\frac{C_{nb(0, 0)} agl}{C_{nb(2, 2)}} & \\frac{C_{nb(1, 0)} agl}{C_{nb(2, 2)}} & \\frac{C_{nb(2, 0)} agl}{C_{nb(2, 2)}} & 0 & 0 & 0 & 0 & 0 & - \\frac{\\omega_{bx}}{C_{nb(2, 2)}} & \\frac{\\omega_{bx}}{C_{nb(2, 2)}} & 0 & 0 & 0 & 0\\end{array}\\right]$$"
      ],
      "text/plain": [
       "⎡                     2⋅C_nb(1, 2)⋅agl⋅ω_by                                   \n",
       "⎢2⋅C_nb(1, 0)⋅vel_D - ───────────────────── - 2⋅C_nb(2, 0)⋅vel_E  -2⋅C_nb(0, 0\n",
       "⎢                                    2                                        \n",
       "⎢                          C_nb(2, 2)                                         \n",
       "⎢                                                                             \n",
       "⎢                     2⋅C_nb(1, 2)⋅agl⋅ω_bx                                   \n",
       "⎢2⋅C_nb(1, 1)⋅vel_D + ───────────────────── - 2⋅C_nb(2, 1)⋅vel_E  -2⋅C_nb(0, 1\n",
       "⎢                                    2                                        \n",
       "⎣                          C_nb(2, 2)                                         \n",
       "\n",
       "          2⋅C_nb(0, 2)⋅agl⋅ω_by                                               \n",
       ")⋅vel_D + ───────────────────── + 2⋅C_nb(2, 0)⋅vel_N  2⋅C_nb(0, 0)⋅vel_E - 2⋅C\n",
       "                         2                                                    \n",
       "               C_nb(2, 2)                                                     \n",
       "                                                                              \n",
       "          2⋅C_nb(0, 2)⋅agl⋅ω_bx                                               \n",
       ")⋅vel_D - ───────────────────── + 2⋅C_nb(2, 1)⋅vel_N  2⋅C_nb(0, 1)⋅vel_E - 2⋅C\n",
       "                         2                                                    \n",
       "               C_nb(2, 2)                                                     \n",
       "\n",
       "                                                     -C_nb(0, 1)⋅agl   -C_nb(1\n",
       "_nb(1, 0)⋅vel_N  C_nb(0, 0)  C_nb(1, 0)  C_nb(2, 0)  ────────────────  ───────\n",
       "                                                        C_nb(2, 2)        C_nb\n",
       "                                                                              \n",
       "                                                                              \n",
       "                                                      C_nb(0, 0)⋅agl    C_nb(1\n",
       "_nb(1, 1)⋅vel_N  C_nb(0, 1)  C_nb(1, 1)  C_nb(2, 1)   ──────────────    ──────\n",
       "                                                        C_nb(2, 2)        C_nb\n",
       "                                                                              \n",
       "\n",
       ", 1)⋅agl   -C_nb(2, 1)⋅agl                     ω_by       -ω_by               \n",
       "─────────  ────────────────  0  0  0  0  0  ──────────  ──────────  0  0  0  0\n",
       "(2, 2)        C_nb(2, 2)                    C_nb(2, 2)  C_nb(2, 2)            \n",
       "                                                                              \n",
       "                                                                              \n",
       ", 0)⋅agl    C_nb(2, 0)⋅agl                    -ω_bx        ω_bx               \n",
       "────────    ──────────────   0  0  0  0  0  ──────────  ──────────  0  0  0  0\n",
       "(2, 2)        C_nb(2, 2)                    C_nb(2, 2)  C_nb(2, 2)            \n",
       "                                                                              \n",
       "\n",
       "⎤\n",
       "⎥\n",
       "⎥\n",
       "⎥\n",
       "⎥\n",
       "⎥\n",
       "⎥\n",
       "⎥\n",
       "⎦"
      ]
     },
     "execution_count": 26,
     "metadata": {},
     "output_type": "execute_result"
    }
   ],
   "source": [
    "H_flow = y_flow.jacobian(xe).subs(sub_lin).subs(sub_agl)\n",
    "H_flow"
   ]
  },
  {
   "cell_type": "code",
   "execution_count": 27,
   "metadata": {
    "collapsed": false
   },
   "outputs": [],
   "source": [
    "P = sympy.diag(*[sympy.Symbol('var_' + str(xi)) for xi in xe])\n",
    "R = sympy.diag(*[flowX, flowY])\n",
    "#P = sympy.MatrixSymbol('P', len(xe), len(xe))\n",
    "#R = sympy.MatrixSymbol('R', 2, 2)\n",
    "S = H_flow * P * H_flow.T + R\n",
    "S.simplify()"
   ]
  },
  {
   "cell_type": "code",
   "execution_count": 28,
   "metadata": {
    "collapsed": false
   },
   "outputs": [
    {
     "data": {
      "image/png": "[encoded data removed]",
      "text/latex": [
       "$$\\frac{1}{C^{4}_{nb(2, 2)}} \\left(4 var_{rot E(t)} \\left(\\left(- C_{nb(0, 0)} vel_{D} + C_{nb(2, 0)} vel_{N}\\right) C^{2}_{nb(2, 2)} + C_{nb(0, 2)} agl \\omega_{by}\\right)^{2} + 4 var_{rot N(t)} \\left(\\left(- C_{nb(1, 0)} vel_{D} + C_{nb(2, 0)} vel_{E}\\right) C^{2}_{nb(2, 2)} + C_{nb(1, 2)} agl \\omega_{by}\\right)^{2} + \\left(var_{asl(t)} \\omega^{2}_{by} + var_{gyro bias D(t)} C^{2}_{nb(2, 1)} agl^{2} + var_{gyro bias E(t)} C^{2}_{nb(1, 1)} agl^{2} + var_{gyro bias N(t)} C^{2}_{nb(0, 1)} agl^{2} + var_{terrain asl(t)} \\omega^{2}_{by}\\right) C^{2}_{nb(2, 2)} + \\left(4 var_{rot D(t)} \\left(C_{nb(0, 0)} vel_{E} - C_{nb(1, 0)} vel_{N}\\right)^{2} + var_{vel D(t)} C^{2}_{nb(2, 0)} + var_{vel E(t)} C^{2}_{nb(1, 0)} + var_{vel N(t)} C^{2}_{nb(0, 0)} + flowX\\right) C^{4}_{nb(2, 2)}\\right)$$"
      ],
      "text/plain": [
       "                                                                              \n",
       "               ⎛                                                 2            \n",
       "4⋅var_rot_E(t)⋅⎝(-C_nb(0, 0)⋅vel_D + C_nb(2, 0)⋅vel_N)⋅C_nb(2, 2)  + C_nb(0, 2\n",
       "──────────────────────────────────────────────────────────────────────────────\n",
       "                                                                              \n",
       "                                                                              \n",
       "\n",
       "           2                                                                  \n",
       "          ⎞                   ⎛                                               \n",
       ")⋅agl⋅ω_by⎠  + 4⋅var_rot_N(t)⋅⎝(-C_nb(1, 0)⋅vel_D + C_nb(2, 0)⋅vel_E)⋅C_nb(2, \n",
       "──────────────────────────────────────────────────────────────────────────────\n",
       "                                                                              \n",
       "                                                                              \n",
       "\n",
       "                          2                                                   \n",
       "  2                      ⎞    ⎛              2                                \n",
       "2)  + C_nb(1, 2)⋅agl⋅ω_by⎠  + ⎝varₐₛₗ₍ₜ₎⋅ω_by  + var_gyro_bias_D(t)⋅C_nb(2, 1)\n",
       "──────────────────────────────────────────────────────────────────────────────\n",
       "                                                                              \n",
       "                                                                              \n",
       "\n",
       "                                                                              \n",
       "2    2                                2    2                                2 \n",
       " ⋅agl  + var_gyro_bias_E(t)⋅C_nb(1, 1) ⋅agl  + var_gyro_bias_N(t)⋅C_nb(0, 1) ⋅\n",
       "──────────────────────────────────────────────────────────────────────────────\n",
       "                           4                                                  \n",
       "                 C_nb(2, 2)                                                   \n",
       "\n",
       "                                                                              \n",
       "   2                         2⎞           2   ⎛                               \n",
       "agl  + varₜₑᵣᵣₐᵢₙ ₐₛₗ₍ₜ₎⋅ω_by ⎠⋅C_nb(2, 2)  + ⎝4⋅var_rot_D(t)⋅(C_nb(0, 0)⋅vel_\n",
       "──────────────────────────────────────────────────────────────────────────────\n",
       "                                                                              \n",
       "                                                                              \n",
       "\n",
       "                                                                              \n",
       "                     2                          2                          2  \n",
       "E - C_nb(1, 0)⋅vel_N)  + var_vel_D(t)⋅C_nb(2, 0)  + var_vel_E(t)⋅C_nb(1, 0)  +\n",
       "──────────────────────────────────────────────────────────────────────────────\n",
       "                                                                              \n",
       "                                                                              \n",
       "\n",
       "                                              \n",
       "                        2        ⎞           4\n",
       " var_vel_N(t)⋅C_nb(0, 0)  + flowX⎠⋅C_nb(2, 2) \n",
       "──────────────────────────────────────────────\n",
       "                                              \n",
       "                                              "
      ]
     },
     "execution_count": 28,
     "metadata": {},
     "output_type": "execute_result"
    }
   ],
   "source": [
    "S[0, 0].subs(sub_agl)"
   ]
  },
  {
   "cell_type": "code",
   "execution_count": 39,
   "metadata": {
    "collapsed": false
   },
   "outputs": [
    {
     "data": {
      "image/png": "[encoded data removed]",
      "text/latex": [
       "$$\\frac{1}{C^{4}_{nb(2, 2)}} \\left(4 var_{rot E(t)} \\left(\\left(C_{nb(0, 1)} vel_{D} - C_{nb(2, 1)} vel_{N}\\right) C^{2}_{nb(2, 2)} + C_{nb(0, 2)} agl \\omega_{bx}\\right)^{2} + 4 var_{rot N(t)} \\left(\\left(C_{nb(1, 1)} vel_{D} - C_{nb(2, 1)} vel_{E}\\right) C^{2}_{nb(2, 2)} + C_{nb(1, 2)} agl \\omega_{bx}\\right)^{2} + \\left(var_{asl(t)} \\omega^{2}_{bx} + var_{gyro bias D(t)} C^{2}_{nb(2, 0)} agl^{2} + var_{gyro bias E(t)} C^{2}_{nb(1, 0)} agl^{2} + var_{gyro bias N(t)} C^{2}_{nb(0, 0)} agl^{2} + var_{terrain asl(t)} \\omega^{2}_{bx}\\right) C^{2}_{nb(2, 2)} + \\left(4 var_{rot D(t)} \\left(C_{nb(0, 1)} vel_{E} - C_{nb(1, 1)} vel_{N}\\right)^{2} + var_{vel D(t)} C^{2}_{nb(2, 1)} + var_{vel E(t)} C^{2}_{nb(1, 1)} + var_{vel N(t)} C^{2}_{nb(0, 1)} + flowY\\right) C^{4}_{nb(2, 2)}\\right)$$"
      ],
      "text/plain": [
       "                                                                              \n",
       "               ⎛                                                2             \n",
       "4⋅var_rot_E(t)⋅⎝(C_nb(0, 1)⋅vel_D - C_nb(2, 1)⋅vel_N)⋅C_nb(2, 2)  + C_nb(0, 2)\n",
       "──────────────────────────────────────────────────────────────────────────────\n",
       "                                                                              \n",
       "                                                                              \n",
       "\n",
       "          2                                                                   \n",
       "         ⎞                   ⎛                                                \n",
       "⋅agl⋅ω_bx⎠  + 4⋅var_rot_N(t)⋅⎝(C_nb(1, 1)⋅vel_D - C_nb(2, 1)⋅vel_E)⋅C_nb(2, 2)\n",
       "──────────────────────────────────────────────────────────────────────────────\n",
       "                                                                              \n",
       "                                                                              \n",
       "\n",
       "                        2                                                     \n",
       "2                      ⎞    ⎛              2                                2 \n",
       "  + C_nb(1, 2)⋅agl⋅ω_bx⎠  + ⎝varₐₛₗ₍ₜ₎⋅ω_bx  + var_gyro_bias_D(t)⋅C_nb(2, 0) ⋅\n",
       "──────────────────────────────────────────────────────────────────────────────\n",
       "                                                                              \n",
       "                                                                              \n",
       "\n",
       "                                                                              \n",
       "   2                                2    2                                2   \n",
       "agl  + var_gyro_bias_E(t)⋅C_nb(1, 0) ⋅agl  + var_gyro_bias_N(t)⋅C_nb(0, 0) ⋅ag\n",
       "──────────────────────────────────────────────────────────────────────────────\n",
       "                          4                                                   \n",
       "                C_nb(2, 2)                                                    \n",
       "\n",
       "                                                                              \n",
       " 2                         2⎞           2   ⎛                                 \n",
       "l  + varₜₑᵣᵣₐᵢₙ ₐₛₗ₍ₜ₎⋅ω_bx ⎠⋅C_nb(2, 2)  + ⎝4⋅var_rot_D(t)⋅(C_nb(0, 1)⋅vel_E \n",
       "──────────────────────────────────────────────────────────────────────────────\n",
       "                                                                              \n",
       "                                                                              \n",
       "\n",
       "                                                                              \n",
       "                   2                          2                          2    \n",
       "- C_nb(1, 1)⋅vel_N)  + var_vel_D(t)⋅C_nb(2, 1)  + var_vel_E(t)⋅C_nb(1, 1)  + v\n",
       "──────────────────────────────────────────────────────────────────────────────\n",
       "                                                                              \n",
       "                                                                              \n",
       "\n",
       "                                            \n",
       "                      2        ⎞           4\n",
       "ar_vel_N(t)⋅C_nb(0, 1)  + flowY⎠⋅C_nb(2, 2) \n",
       "────────────────────────────────────────────\n",
       "                                            \n",
       "                                            "
      ]
     },
     "execution_count": 39,
     "metadata": {},
     "output_type": "execute_result"
    }
   ],
   "source": [
    "S[1, 1].subs(sub_agl)"
   ]
  },
  {
   "cell_type": "code",
   "execution_count": 42,
   "metadata": {
    "collapsed": false
   },
   "outputs": [
    {
     "data": {
      "image/png": "[encoded data removed]",
      "text/latex": [
       "$$var_{asl(t)} \\omega^{2}_{by} + var_{gyro bias E(t)} agl^{2} \\operatorname{cos}^{2}\\left(\\psi\\right) + var_{gyro bias N(t)} agl^{2} \\operatorname{sin}^{2}\\left(\\psi\\right) + 4 var_{rot D(t)} \\left(vel_{E} \\operatorname{cos}\\left(\\psi\\right) - vel_{N} \\operatorname{sin}\\left(\\psi\\right)\\right)^{2} + 4 var_{rot E(t)} vel^{2}_{D} \\operatorname{cos}^{2}\\left(\\psi\\right) + 4 var_{rot N(t)} vel^{2}_{D} \\operatorname{sin}^{2}\\left(\\psi\\right) + var_{terrain asl(t)} \\omega^{2}_{by} + var_{vel E(t)} \\operatorname{sin}^{2}\\left(\\psi\\right) + var_{vel N(t)} \\operatorname{cos}^{2}\\left(\\psi\\right) + flowX$$"
      ],
      "text/plain": [
       "              2                         2    2                            2   \n",
       "varₐₛₗ₍ₜ₎⋅ω_by  + var_gyro_bias_E(t)⋅agl ⋅cos (ψ) + var_gyro_bias_N(t)⋅agl ⋅si\n",
       "\n",
       " 2                                                  2                       2 \n",
       "n (ψ) + 4⋅var_rot_D(t)⋅(vel_E⋅cos(ψ) - vel_N⋅sin(ψ))  + 4⋅var_rot_E(t)⋅vel_D ⋅\n",
       "\n",
       "   2                          2    2                            2             \n",
       "cos (ψ) + 4⋅var_rot_N(t)⋅vel_D ⋅sin (ψ) + varₜₑᵣᵣₐᵢₙ ₐₛₗ₍ₜ₎⋅ω_by  + var_vel_E(\n",
       "\n",
       "      2                      2           \n",
       "t)⋅sin (ψ) + var_vel_N(t)⋅cos (ψ) + flowX"
      ]
     },
     "execution_count": 42,
     "metadata": {},
     "output_type": "execute_result"
    }
   ],
   "source": [
    "S[0, 0].subs(sub_agl).subs(sub_C_nb_rev).subs({phi: 0, theta: 0})"
   ]
  },
  {
   "cell_type": "code",
   "execution_count": 43,
   "metadata": {
    "collapsed": false
   },
   "outputs": [
    {
     "data": {
      "image/png": "[encoded data removed]",
      "text/latex": [
       "$$var_{asl(t)} \\omega^{2}_{bx} + var_{gyro bias E(t)} agl^{2} \\operatorname{sin}^{2}\\left(\\psi\\right) + var_{gyro bias N(t)} agl^{2} \\operatorname{cos}^{2}\\left(\\psi\\right) + 4 var_{rot D(t)} \\left(- vel_{E} \\operatorname{sin}\\left(\\psi\\right) - vel_{N} \\operatorname{cos}\\left(\\psi\\right)\\right)^{2} + 4 var_{rot E(t)} vel^{2}_{D} \\operatorname{sin}^{2}\\left(\\psi\\right) + 4 var_{rot N(t)} vel^{2}_{D} \\operatorname{cos}^{2}\\left(\\psi\\right) + var_{terrain asl(t)} \\omega^{2}_{bx} + var_{vel E(t)} \\operatorname{cos}^{2}\\left(\\psi\\right) + var_{vel N(t)} \\operatorname{sin}^{2}\\left(\\psi\\right) + flowY$$"
      ],
      "text/plain": [
       "              2                         2    2                            2   \n",
       "varₐₛₗ₍ₜ₎⋅ω_bx  + var_gyro_bias_E(t)⋅agl ⋅sin (ψ) + var_gyro_bias_N(t)⋅agl ⋅co\n",
       "\n",
       " 2                                                   2                       2\n",
       "s (ψ) + 4⋅var_rot_D(t)⋅(-vel_E⋅sin(ψ) - vel_N⋅cos(ψ))  + 4⋅var_rot_E(t)⋅vel_D \n",
       "\n",
       "    2                          2    2                            2            \n",
       "⋅sin (ψ) + 4⋅var_rot_N(t)⋅vel_D ⋅cos (ψ) + varₜₑᵣᵣₐᵢₙ ₐₛₗ₍ₜ₎⋅ω_bx  + var_vel_E\n",
       "\n",
       "       2                      2           \n",
       "(t)⋅cos (ψ) + var_vel_N(t)⋅sin (ψ) + flowY"
      ]
     },
     "execution_count": 43,
     "metadata": {},
     "output_type": "execute_result"
    }
   ],
   "source": [
    "S[1, 1].subs(sub_agl).subs(sub_C_nb_rev).subs({phi: 0, theta: 0})"
   ]
  },
  {
   "cell_type": "code",
   "execution_count": 29,
   "metadata": {
    "collapsed": false
   },
   "outputs": [
    {
     "name": "stdout",
     "output_type": "stream",
     "text": [
      "Matrix<float, Y_flow::n, Y_flow::n> S;\n",
      "float x0 = C_nb(2, 2);\n",
      "float x1 = x0**4;\n",
      "float x2 = agl;\n",
      "float x3 = omega_by;\n",
      "float x4 = x2*x3;\n",
      "float x5 = x0**2;\n",
      "float x6 = C_nb(0, 0);\n",
      "float x7 = vel_D;\n",
      "float x8 = C_nb(2, 0);\n",
      "float x9 = vel_N;\n",
      "float x10 = C_nb(1, 0);\n",
      "float x11 = vel_E;\n",
      "float x12 = x3**2;\n",
      "float x13 = x2**2;\n",
      "S(Y_flow::flowX, Y_flow::flowX) = (4*var_rot_E*(-x4*C_nb(0, 2) + x5*(x6*x7 - x8*x9))**2 + 4*var_rot_N*(-x4*C_nb(1, 2) + x5*(x10*x7 - x11*x8))**2 + x1*(4*var_rot_D*(-x10*x9 + x11*x6)**2 + var_vel_D*x8**2 + var_vel_E*x10**2 + var_vel_N*x6**2 + flowX) + x5*(var_asl*x12 + var_gyro_bias_D*x13*C_nb(2, 1)**2 + var_gyro_bias_E*x13*C_nb(1, 1)**2 + var_gyro_bias_N*x13*C_nb(0, 1)**2 + var_terrain_asl*x12))/x1;\n"
     ]
    }
   ],
   "source": [
    "matrix_to_code('S', sympy.diag(S[0,0]), 'Y_flow::', y_flow_sym, 'Y_flow::', y_flow_sym,)"
   ]
  },
  {
   "cell_type": "code",
   "execution_count": 30,
   "metadata": {
    "collapsed": false
   },
   "outputs": [
    {
     "name": "stdout",
     "output_type": "stream",
     "text": [
      "Matrix<float, Y_flow::n, Xe::n> H;\n",
      "float x0 = vel_D;\n",
      "float x1 = C_nb(1, 0);\n",
      "float x2 = 2*x1;\n",
      "float x3 = vel_E;\n",
      "float x4 = C_nb(2, 0);\n",
      "float x5 = 2*x4;\n",
      "float x6 = omega_by;\n",
      "float x7 = agl;\n",
      "float x8 = C_nb(2, 2);\n",
      "float x9 = x8**(-2);\n",
      "float x10 = 2*x7*x9*C_nb(1, 2);\n",
      "float x11 = C_nb(0, 0);\n",
      "float x12 = 2*x11;\n",
      "float x13 = vel_N;\n",
      "float x14 = 2*x7*x9*C_nb(0, 2);\n",
      "float x15 = C_nb(0, 1);\n",
      "float x16 = 1/x8;\n",
      "float x17 = x16*x7;\n",
      "float x18 = C_nb(1, 1);\n",
      "float x19 = C_nb(2, 1);\n",
      "float x20 = x16*x6;\n",
      "float x21 = 2*x18;\n",
      "float x22 = 2*x19;\n",
      "float x23 = omega_bx;\n",
      "float x24 = 2*x15;\n",
      "float x25 = x16*x23;\n",
      "H(Y_flow::flowX, Xe::rot_N) = x0*x2 - x10*x6 - x3*x5;\n",
      "H(Y_flow::flowX, Xe::rot_E) = -x0*x12 + x13*x5 + x14*x6;\n",
      "H(Y_flow::flowX, Xe::rot_D) = x12*x3 - x13*x2;\n",
      "H(Y_flow::flowX, Xe::vel_N) = x11;\n",
      "H(Y_flow::flowX, Xe::vel_E) = x1;\n",
      "H(Y_flow::flowX, Xe::vel_D) = x4;\n",
      "H(Y_flow::flowX, Xe::gyro_bias_N) = -x15*x17;\n",
      "H(Y_flow::flowX, Xe::gyro_bias_E) = -x17*x18;\n",
      "H(Y_flow::flowX, Xe::gyro_bias_D) = -x17*x19;\n",
      "H(Y_flow::flowX, Xe::asl) = x20;\n",
      "H(Y_flow::flowX, Xe::terrain_asl) = -x20;\n",
      "H(Y_flow::flowY, Xe::rot_N) = x0*x21 + x10*x23 - x22*x3;\n",
      "H(Y_flow::flowY, Xe::rot_E) = -x0*x24 + x13*x22 - x14*x23;\n",
      "H(Y_flow::flowY, Xe::rot_D) = -x13*x21 + x24*x3;\n",
      "H(Y_flow::flowY, Xe::vel_N) = x15;\n",
      "H(Y_flow::flowY, Xe::vel_E) = x18;\n",
      "H(Y_flow::flowY, Xe::vel_D) = x19;\n",
      "H(Y_flow::flowY, Xe::gyro_bias_N) = x11*x17;\n",
      "H(Y_flow::flowY, Xe::gyro_bias_E) = x1*x17;\n",
      "H(Y_flow::flowY, Xe::gyro_bias_D) = x17*x4;\n",
      "H(Y_flow::flowY, Xe::asl) = -x25;\n",
      "H(Y_flow::flowY, Xe::terrain_asl) = x25;\n"
     ]
    }
   ],
   "source": [
    "matrix_to_code('H', H_flow, 'Y_flow::', y_flow_sym, 'Xe::', xe)"
   ]
  },
  {
   "cell_type": "markdown",
   "metadata": {},
   "source": [
    "## Attitude"
   ]
  },
  {
   "cell_type": "code",
   "execution_count": 31,
   "metadata": {
    "collapsed": false
   },
   "outputs": [
    {
     "data": {
      "image/png": "[encoded data removed]",
      "text/latex": [
       "$$\\left[\\begin{array}{cccccccccccccccccccc}1 & 0 & 0 & 0 & 0 & 0 & 0 & 0 & 0 & 0 & 0 & 0 & 0 & 0 & 0 & 0 & 0 & 0 & 0 & 0\\\\0 & 1 & 0 & 0 & 0 & 0 & 0 & 0 & 0 & 0 & 0 & 0 & 0 & 0 & 0 & 0 & 0 & 0 & 0 & 0\\\\0 & 0 & 1 & 0 & 0 & 0 & 0 & 0 & 0 & 0 & 0 & 0 & 0 & 0 & 0 & 0 & 0 & 0 & 0 & 0\\end{array}\\right]$$"
      ],
      "text/plain": [
       "⎡1  0  0  0  0  0  0  0  0  0  0  0  0  0  0  0  0  0  0  0⎤\n",
       "⎢                                                          ⎥\n",
       "⎢0  1  0  0  0  0  0  0  0  0  0  0  0  0  0  0  0  0  0  0⎥\n",
       "⎢                                                          ⎥\n",
       "⎣0  0  1  0  0  0  0  0  0  0  0  0  0  0  0  0  0  0  0  0⎦"
      ]
     },
     "execution_count": 31,
     "metadata": {},
     "output_type": "execute_result"
    }
   ],
   "source": [
    "y_attitude = sympy.Matrix([\n",
    "        rot_N, rot_E, rot_D\n",
    "    ])\n",
    "H_attitude = y_attitude.jacobian(xe).subs(sub_lin).subs(sub_agl)\n",
    "H_attitude"
   ]
  },
  {
   "cell_type": "markdown",
   "metadata": {},
   "source": [
    "## Accelerometer"
   ]
  },
  {
   "cell_type": "code",
   "execution_count": 32,
   "metadata": {
    "collapsed": false,
    "scrolled": true
   },
   "outputs": [
    {
     "data": {
      "image/png": "[encoded data removed]",
      "text/latex": [
       "$$\\left[\\begin{array}{cccccccccccccccccccc}2 \\left(- g + accel_{biasD}\\right) C_{nb(1, 0)} - 2 C_{nb(2, 0)} accel_{biasE} & - 2 \\left(- g + accel_{biasD}\\right) C_{nb(0, 0)} + 2 C_{nb(2, 0)} accel_{biasN} & 2 C_{nb(0, 0)} accel_{biasE} - 2 C_{nb(1, 0)} accel_{biasN} & 0 & 0 & 0 & 0 & 0 & 0 & C_{nb(0, 0)} & C_{nb(1, 0)} & C_{nb(2, 0)} & 0 & 0 & 0 & 0 & 0 & 0 & 0 & 0\\\\2 \\left(- g + accel_{biasD}\\right) C_{nb(1, 1)} - 2 C_{nb(2, 1)} accel_{biasE} & - 2 \\left(- g + accel_{biasD}\\right) C_{nb(0, 1)} + 2 C_{nb(2, 1)} accel_{biasN} & 2 C_{nb(0, 1)} accel_{biasE} - 2 C_{nb(1, 1)} accel_{biasN} & 0 & 0 & 0 & 0 & 0 & 0 & C_{nb(0, 1)} & C_{nb(1, 1)} & C_{nb(2, 1)} & 0 & 0 & 0 & 0 & 0 & 0 & 0 & 0\\\\2 \\left(- g + accel_{biasD}\\right) C_{nb(1, 2)} - 2 C_{nb(2, 2)} accel_{biasE} & - 2 \\left(- g + accel_{biasD}\\right) C_{nb(0, 2)} + 2 C_{nb(2, 2)} accel_{biasN} & 2 C_{nb(0, 2)} accel_{biasE} - 2 C_{nb(1, 2)} accel_{biasN} & 0 & 0 & 0 & 0 & 0 & 0 & C_{nb(0, 2)} & C_{nb(1, 2)} & C_{nb(2, 2)} & 0 & 0 & 0 & 0 & 0 & 0 & 0 & 0\\end{array}\\right]$$"
      ],
      "text/plain": [
       "⎡2⋅(-g + accel_bias_D)⋅C_nb(1, 0) - 2⋅C_nb(2, 0)⋅accel_bias_E  -2⋅(-g + accel_\n",
       "⎢                                                                             \n",
       "⎢2⋅(-g + accel_bias_D)⋅C_nb(1, 1) - 2⋅C_nb(2, 1)⋅accel_bias_E  -2⋅(-g + accel_\n",
       "⎢                                                                             \n",
       "⎣2⋅(-g + accel_bias_D)⋅C_nb(1, 2) - 2⋅C_nb(2, 2)⋅accel_bias_E  -2⋅(-g + accel_\n",
       "\n",
       "bias_D)⋅C_nb(0, 0) + 2⋅C_nb(2, 0)⋅accel_bias_N  2⋅C_nb(0, 0)⋅accel_bias_E - 2⋅\n",
       "                                                                              \n",
       "bias_D)⋅C_nb(0, 1) + 2⋅C_nb(2, 1)⋅accel_bias_N  2⋅C_nb(0, 1)⋅accel_bias_E - 2⋅\n",
       "                                                                              \n",
       "bias_D)⋅C_nb(0, 2) + 2⋅C_nb(2, 2)⋅accel_bias_N  2⋅C_nb(0, 2)⋅accel_bias_E - 2⋅\n",
       "\n",
       "C_nb(1, 0)⋅accel_bias_N  0  0  0  0  0  0  C_nb(0, 0)  C_nb(1, 0)  C_nb(2, 0) \n",
       "                                                                              \n",
       "C_nb(1, 1)⋅accel_bias_N  0  0  0  0  0  0  C_nb(0, 1)  C_nb(1, 1)  C_nb(2, 1) \n",
       "                                                                              \n",
       "C_nb(1, 2)⋅accel_bias_N  0  0  0  0  0  0  C_nb(0, 2)  C_nb(1, 2)  C_nb(2, 2) \n",
       "\n",
       " 0  0  0  0  0  0  0  0⎤\n",
       "                       ⎥\n",
       " 0  0  0  0  0  0  0  0⎥\n",
       "                       ⎥\n",
       " 0  0  0  0  0  0  0  0⎦"
      ]
     },
     "execution_count": 32,
     "metadata": {},
     "output_type": "execute_result"
    }
   ],
   "source": [
    "g = sympy.symbols('g')\n",
    "g_i = -g*frame_i.z + accel_bias_N*frame_i.x + accel_bias_E*frame_i.y + accel_bias_D*frame_i.z\n",
    "y_accel = sympy.Matrix(g_i.express(frame_b).subs(sub_C_nb).to_matrix(frame_b))\n",
    "H_accel = y_accel.jacobian(xe).subs(sub_lin)\n",
    "H_accel"
   ]
  },
  {
   "cell_type": "code",
   "execution_count": 33,
   "metadata": {
    "collapsed": false,
    "scrolled": true
   },
   "outputs": [
    {
     "data": {
      "image/png": "[encoded data removed]",
      "text/latex": [
       "$$\\left[\\begin{array}{cccccccccccccccccccc}0 & 2 g - 2 accel_{biasD} & 2 accel_{biasE} & 0 & 0 & 0 & 0 & 0 & 0 & 1 & 0 & 0 & 0 & 0 & 0 & 0 & 0 & 0 & 0 & 0\\\\- 2 g + 2 accel_{biasD} & 0 & - 2 accel_{biasN} & 0 & 0 & 0 & 0 & 0 & 0 & 0 & 1 & 0 & 0 & 0 & 0 & 0 & 0 & 0 & 0 & 0\\\\- 2 accel_{biasE} & 2 accel_{biasN} & 0 & 0 & 0 & 0 & 0 & 0 & 0 & 0 & 0 & 1 & 0 & 0 & 0 & 0 & 0 & 0 & 0 & 0\\end{array}\\right]$$"
      ],
      "text/plain": [
       "⎡          0            2⋅g - 2⋅accel_bias_D  2⋅accel_bias_E   0  0  0  0  0  \n",
       "⎢                                                                             \n",
       "⎢-2⋅g + 2⋅accel_bias_D           0            -2⋅accel_bias_N  0  0  0  0  0  \n",
       "⎢                                                                             \n",
       "⎣   -2⋅accel_bias_E        2⋅accel_bias_N            0         0  0  0  0  0  \n",
       "\n",
       "0  1  0  0  0  0  0  0  0  0  0  0⎤\n",
       "                                  ⎥\n",
       "0  0  1  0  0  0  0  0  0  0  0  0⎥\n",
       "                                  ⎥\n",
       "0  0  0  1  0  0  0  0  0  0  0  0⎦"
      ]
     },
     "execution_count": 33,
     "metadata": {},
     "output_type": "execute_result"
    }
   ],
   "source": [
    "H_accel.subs(sub_C_nb_rev).subs({phi: 0, theta: 0, psi: 0})"
   ]
  },
  {
   "cell_type": "markdown",
   "metadata": {},
   "source": [
    "## Magnetometer"
   ]
  },
  {
   "cell_type": "code",
   "execution_count": 34,
   "metadata": {
    "collapsed": false
   },
   "outputs": [
    {
     "data": {
      "image/png": "[encoded data removed]",
      "text/latex": [
       "$$\\left[\\begin{array}{cccccccccccccccccccc}2 B_{D} C_{nb(1, 0)} - 2 B_{E} C_{nb(2, 0)} & - 2 B_{D} C_{nb(0, 0)} + 2 B_{N} C_{nb(2, 0)} & 2 B_{E} C_{nb(0, 0)} - 2 B_{N} C_{nb(1, 0)} & 0 & 0 & 0 & 0 & 0 & 0 & 0 & 0 & 0 & 0 & 0 & 0 & 0 & 0 & 0 & 0 & 0\\\\2 B_{D} C_{nb(1, 1)} - 2 B_{E} C_{nb(2, 1)} & - 2 B_{D} C_{nb(0, 1)} + 2 B_{N} C_{nb(2, 1)} & 2 B_{E} C_{nb(0, 1)} - 2 B_{N} C_{nb(1, 1)} & 0 & 0 & 0 & 0 & 0 & 0 & 0 & 0 & 0 & 0 & 0 & 0 & 0 & 0 & 0 & 0 & 0\\\\2 B_{D} C_{nb(1, 2)} - 2 B_{E} C_{nb(2, 2)} & - 2 B_{D} C_{nb(0, 2)} + 2 B_{N} C_{nb(2, 2)} & 2 B_{E} C_{nb(0, 2)} - 2 B_{N} C_{nb(1, 2)} & 0 & 0 & 0 & 0 & 0 & 0 & 0 & 0 & 0 & 0 & 0 & 0 & 0 & 0 & 0 & 0 & 0\\end{array}\\right]$$"
      ],
      "text/plain": [
       "⎡2⋅B_D⋅C_nb(1, 0) - 2⋅B_E⋅C_nb(2, 0)  -2⋅B_D⋅C_nb(0, 0) + 2⋅B_N⋅C_nb(2, 0)  2⋅\n",
       "⎢                                                                             \n",
       "⎢2⋅B_D⋅C_nb(1, 1) - 2⋅B_E⋅C_nb(2, 1)  -2⋅B_D⋅C_nb(0, 1) + 2⋅B_N⋅C_nb(2, 1)  2⋅\n",
       "⎢                                                                             \n",
       "⎣2⋅B_D⋅C_nb(1, 2) - 2⋅B_E⋅C_nb(2, 2)  -2⋅B_D⋅C_nb(0, 2) + 2⋅B_N⋅C_nb(2, 2)  2⋅\n",
       "\n",
       "B_E⋅C_nb(0, 0) - 2⋅B_N⋅C_nb(1, 0)  0  0  0  0  0  0  0  0  0  0  0  0  0  0  0\n",
       "                                                                              \n",
       "B_E⋅C_nb(0, 1) - 2⋅B_N⋅C_nb(1, 1)  0  0  0  0  0  0  0  0  0  0  0  0  0  0  0\n",
       "                                                                              \n",
       "B_E⋅C_nb(0, 2) - 2⋅B_N⋅C_nb(1, 2)  0  0  0  0  0  0  0  0  0  0  0  0  0  0  0\n",
       "\n",
       "  0  0⎤\n",
       "      ⎥\n",
       "  0  0⎥\n",
       "      ⎥\n",
       "  0  0⎦"
      ]
     },
     "execution_count": 34,
     "metadata": {},
     "output_type": "execute_result"
    }
   ],
   "source": [
    "B_N, B_E, B_D = sympy.symbols('B_N, B_E, B_D')\n",
    "b_i = B_N*frame_i.x + B_E*frame_i.y + B_D*frame_i.z\n",
    "y_mag = sympy.Matrix(b_i.express(frame_b).subs(sub_C_nb).to_matrix(frame_b))\n",
    "H_mag = y_mag.jacobian(xe).subs(sub_lin).subs(sub_agl)\n",
    "H_mag.simplify()\n",
    "H_mag"
   ]
  },
  {
   "cell_type": "markdown",
   "metadata": {},
   "source": [
    "## Observability Analysis"
   ]
  },
  {
   "cell_type": "code",
   "execution_count": 35,
   "metadata": {
    "collapsed": false
   },
   "outputs": [],
   "source": [
    "def find_observable_states(H, x, n_max=3):\n",
    "    O = sympy.Matrix(H)\n",
    "    for n in range(n_max):\n",
    "        O = O.col_join(H*A**n)\n",
    "    return [x[i] for i in O.rref()[1]]"
   ]
  },
  {
   "cell_type": "code",
   "execution_count": 36,
   "metadata": {
    "collapsed": false
   },
   "outputs": [
    {
     "data": {
      "image/png": "[encoded data removed]",
      "text/latex": [
       "$$\\left [ rot_{N}, \\quad rot_{E}, \\quad rot_{D}, \\quad gyro_{biasN}, \\quad gyro_{biasE}, \\quad gyro_{biasD}\\right ]$$"
      ],
      "text/plain": [
       "[rot_N, rot_E, rot_D, gyro_bias_N, gyro_bias_E, gyro_bias_D]"
      ]
     },
     "execution_count": 36,
     "metadata": {},
     "output_type": "execute_result"
    }
   ],
   "source": [
    "find_observable_states(H_mag, xe)"
   ]
  },
  {
   "cell_type": "code",
   "execution_count": 37,
   "metadata": {
    "collapsed": false
   },
   "outputs": [
    {
     "data": {
      "image/png": "[encoded data removed]",
      "text/latex": [
       "$$\\left [ rot_{N}, \\quad rot_{E}, \\quad rot_{D}, \\quad gyro_{biasN}, \\quad gyro_{biasE}, \\quad gyro_{biasD}\\right ]$$"
      ],
      "text/plain": [
       "[rot_N, rot_E, rot_D, gyro_bias_N, gyro_bias_E, gyro_bias_D]"
      ]
     },
     "execution_count": 37,
     "metadata": {},
     "output_type": "execute_result"
    }
   ],
   "source": [
    "find_observable_states(H_accel, xe)"
   ]
  },
  {
   "cell_type": "code",
   "execution_count": 38,
   "metadata": {
    "collapsed": false
   },
   "outputs": [
    {
     "data": {
      "image/png": "[encoded data removed]",
      "text/latex": [
       "$$\\left [ rot_{N}, \\quad rot_{E}, \\quad rot_{D}, \\quad gyro_{biasN}, \\quad gyro_{biasE}, \\quad gyro_{biasD}, \\quad accel_{biasN}, \\quad accel_{biasE}, \\quad accel_{biasD}\\right ]$$"
      ],
      "text/plain": [
       "[rot_N, rot_E, rot_D, gyro_bias_N, gyro_bias_E, gyro_bias_D, accel_bias_N, acc\n",
       "el_bias_E, accel_bias_D]"
      ]
     },
     "execution_count": 38,
     "metadata": {},
     "output_type": "execute_result"
    }
   ],
   "source": [
    "find_observable_states(H_mag.col_join(H_accel), xe)"
   ]
  }
 ],
 "metadata": {
  "anaconda-cloud": {},
  "kernelspec": {
   "display_name": "Python [conda root]",
   "language": "python",
   "name": "conda-root-py"
  },
  "language_info": {
   "codemirror_mode": {
    "name": "ipython",
    "version": 3
   },
   "file_extension": ".py",
   "mimetype": "text/x-python",
   "name": "python",
   "nbconvert_exporter": "python",
   "pygments_lexer": "ipython3",
   "version": "3.5.2"
  }
 },
 "nbformat": 4,
 "nbformat_minor": 1
}
