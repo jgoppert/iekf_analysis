{
 "cells": [
  {
   "cell_type": "code",
   "execution_count": 1,
   "metadata": {
    "collapsed": true
   },
   "outputs": [],
   "source": [
    "from __future__ import print_function\n",
    "import sympy\n",
    "import sympy.physics.mechanics as mech\n",
    "sympy.init_printing()\n",
    "mech.init_vprinting()"
   ]
  },
  {
   "cell_type": "code",
   "execution_count": 2,
   "metadata": {
    "collapsed": false
   },
   "outputs": [],
   "source": [
    "t = sympy.symbols('t')\n",
    "rot_N, rot_E, rot_D, vel_N, vel_E, vel_D, \\\n",
    "    gyro_bias_N, gyro_bias_E, gyro_bias_D, accel_scale, \\\n",
    "    pos_N, pos_E, asl, terrain_asl, baro_bias, \\\n",
    "    wind_N, wind_E, wind_D, d, agl, phi, theta, psi  = mech.dynamicsymbols(\n",
    "    'rot_N, rot_E, rot_D, vel_N, vel_E, vel_D, ' \\\n",
    "    'gyro_bias_N, gyro_bias_E, gyro_bias_D, accel_scale, ' \\\n",
    "    'pos_N, pos_E, asl, terrain_asl, baro_bias, ' \\\n",
    "    'wind_N, wind_E, wind_D, d, agl, phi, theta, psi') \n",
    "frame_i = mech.ReferenceFrame('i')\n",
    "frame_n = frame_i.orientnew('n', 'Quaternion', (1, rot_N, rot_E, rot_D))\n",
    "#frame_b = frame_n.orientnew('b', 'Quaternion', (q_0, q_1, q_2, q_3)) \n",
    "# easier to see where we get divide by zeros if we express dcm in euler angles\n",
    "frame_b = frame_n.orientnew('b', 'Body', (psi, theta, phi), '321')\n",
    "C_nb = frame_n.dcm(frame_b)\n",
    "assert C_nb[0, 1] == frame_n.x.dot(frame_b.y)\n",
    "sub_C_nb = {}\n",
    "for i in range(3):\n",
    "    for j in range(3):\n",
    "        sub_C_nb[C_nb[i, j]] = sympy.Symbol('C_nb({:d}, {:d})'.format(i, j))(t)\n",
    "        sub_C_nb[-C_nb[i, j]] = -sympy.Symbol('C_nb({:d}, {:d})'.format(i, j))(t)\n",
    "sub_C_nb\n",
    "sub_lin = {\n",
    "    rot_N: 0,\n",
    "    rot_E: 0,\n",
    "    rot_D: 0,\n",
    "    gyro_bias_N: 0,\n",
    "    gyro_bias_E: 0,\n",
    "    gyro_bias_D: 0\n",
    "}\n",
    "sub_agl = {\n",
    "    asl - terrain_asl: agl\n",
    "}\n",
    "omega_bx, omega_by, omega_bz = mech.dynamicsymbols('omega_bx, omega_by, omega_bz')\n",
    "flowX, flowY = mech.dynamicsymbols('flowX, flowY')\n",
    "omega_ib_b = omega_bx * frame_b.x \\\n",
    "    + omega_by * frame_b.y \\\n",
    "    + omega_bz * frame_b.z\n",
    "gyro_bias_i = gyro_bias_N * frame_i.x \\\n",
    "    + gyro_bias_E * frame_i.y \\\n",
    "    + gyro_bias_D * frame_i.z\n",
    "omega_nx, omega_ny, omega_nz = mech.dynamicsymbols('omega_nx, omega_ny, omega_nz')\n",
    "omega_in_n = -gyro_bias_N * frame_n.x \\\n",
    "    - gyro_bias_E * frame_n.y \\\n",
    "    - gyro_bias_D * frame_n.z\n",
    "a_N, a_E, a_D = mech.dynamicsymbols('a_N, a_E, a_D')\n",
    "a_n = a_N*frame_n.x + a_E*frame_n.y + a_D*frame_n.z\n",
    "v_i = vel_N*frame_i.x + vel_E*frame_i.y + vel_D*frame_i.z\n",
    "p_i = pos_N*frame_i.x + pos_E*frame_i.y - asl*frame_i.z\n",
    "I_wx, I_wy, I_wz = mech.dynamicsymbols('I_wx, I_wy, I_wz')\n",
    "I_w_n = I_wx*frame_n.x + I_wy*frame_n.y  + I_wz*frame_n.z"
   ]
  },
  {
   "cell_type": "code",
   "execution_count": 3,
   "metadata": {
    "collapsed": false
   },
   "outputs": [
    {
     "data": {
      "image/png": "[encoded data removed]",
      "text/latex": [
       "$$\\left[\\begin{array}{cccccccccccccccccc}rot_{N} & rot_{E} & rot_{D} & vel_{N} & vel_{E} & vel_{D} & gyro_{biasN} & gyro_{biasE} & gyro_{biasD} & accel_{scale} & pos_{N} & pos_{E} & asl & terrain_{asl} & baro_{bias} & wind_{N} & wind_{E} & wind_{D}\\end{array}\\right]$$"
      ],
      "text/plain": [
       "[rot_N  rot_E  rot_D  vel_N  vel_E  vel_D  gyro_bias_N  gyro_bias_E  gyro_bias\n",
       "_D  accel_scale  pos_N  pos_E  asl  terrainₐₛₗ  baro_bias  wind_N  wind_E  win\n",
       "d_D]"
      ]
     },
     "execution_count": 3,
     "metadata": {},
     "output_type": "execute_result"
    }
   ],
   "source": [
    "xe = sympy.Matrix([rot_N, rot_E, rot_D, vel_N, vel_E, vel_D, gyro_bias_N, gyro_bias_E, gyro_bias_D,\n",
    "                   accel_scale,\n",
    "                   pos_N, pos_E, asl, terrain_asl, baro_bias, wind_N, wind_E, wind_D])\n",
    "xe.T"
   ]
  },
  {
   "cell_type": "code",
   "execution_count": 4,
   "metadata": {
    "collapsed": false
   },
   "outputs": [],
   "source": [
    "def print_terms(terms):\n",
    "    for t in terms:\n",
    "        s = 'float {:s} = {:s};'.format(\n",
    "                str(t[0]), str(t[1]))\n",
    "        print(s.replace('(t)', ''))\n",
    "        \n",
    "def matrix_to_code(name, mat, i_name, i_syms, j_name, j_syms):\n",
    "    print('Matrix<float, {:s}n, {:s}n> {:s};'.format(i_name, j_name, name))\n",
    "    mat.simplify()\n",
    "    terms, mat = sympy.cse(mat)\n",
    "    print_terms(terms)\n",
    "    mat = mat[0]\n",
    "    for i in range(mat.shape[0]):\n",
    "        for j in range(mat.shape[1]):\n",
    "            if str(mat[i, j]) == \"0\":\n",
    "                continue\n",
    "            s = '{:s}({:s}{:s}, {:s}{:s}) = {:s};'.format(\n",
    "                str(name), i_name, str(i_syms[i]),\n",
    "                j_name, str(j_syms[j]), str(mat[i, j]))\n",
    "            print(s.replace('(t)', ''))"
   ]
  },
  {
   "cell_type": "markdown",
   "metadata": {},
   "source": [
    "## Dynamics"
   ]
  },
  {
   "cell_type": "markdown",
   "metadata": {},
   "source": [
    "This is just to check the other derivaiton in IEKF Derivation notebook, doesn't match yet, needes further work."
   ]
  },
  {
   "cell_type": "code",
   "execution_count": 5,
   "metadata": {
    "collapsed": false
   },
   "outputs": [
    {
     "data": {
      "image/png": "[encoded data removed]",
      "text/latex": [
       "$$\\left [ \\frac{1}{accel_{scale}} \\left(\\left(2 rot_{D} rot_{N} + 2 rot_{E}\\right) a_{D} + \\left(- 2 rot_{D} + 2 rot_{E} rot_{N}\\right) a_{E} + \\left(- rot^{2}_{D} - rot^{2}_{E} + rot^{2}_{N} + 1\\right) a_{N}\\right) - \\dot{vel}_{N}, \\quad \\frac{1}{accel_{scale}} \\left(\\left(2 rot_{D} rot_{E} - 2 rot_{N}\\right) a_{D} + \\left(2 rot_{D} + 2 rot_{E} rot_{N}\\right) a_{N} + \\left(- rot^{2}_{D} + rot^{2}_{E} - rot^{2}_{N} + 1\\right) a_{E}\\right) - \\dot{vel}_{E}, \\quad \\frac{1}{accel_{scale}} \\left(\\left(2 rot_{D} rot_{E} + 2 rot_{N}\\right) a_{E} + \\left(2 rot_{D} rot_{N} - 2 rot_{E}\\right) a_{N} + \\left(rot^{2}_{D} - rot^{2}_{E} - rot^{2}_{N} + 1\\right) a_{D}\\right) - \\dot{vel}_{D}\\right ]$$"
      ],
      "text/plain": [
       "⎡                                                                 ⎛       2   \n",
       "⎢(2⋅rot_D⋅rot_N + 2⋅rot_E)⋅a_D + (-2⋅rot_D + 2⋅rot_E⋅rot_N)⋅a_E + ⎝- rot_D  - \n",
       "⎢─────────────────────────────────────────────────────────────────────────────\n",
       "⎣                                             accel_scale                     \n",
       "\n",
       "     2        2    ⎞                                                          \n",
       "rot_E  + rot_N  + 1⎠⋅a_N           (2⋅rot_D⋅rot_E - 2⋅rot_N)⋅a_D + (2⋅rot_D + \n",
       "──────────────────────── - vel̇_N, ───────────────────────────────────────────\n",
       "                                                                              \n",
       "\n",
       "                     ⎛       2        2        2    ⎞                         \n",
       "2⋅rot_E⋅rot_N)⋅a_N + ⎝- rot_D  + rot_E  - rot_N  + 1⎠⋅a_E           (2⋅rot_D⋅r\n",
       "───────────────────────────────────────────────────────── - vel̇_E, ──────────\n",
       " accel_scale                                                                  \n",
       "\n",
       "                                                      ⎛     2        2        \n",
       "ot_E + 2⋅rot_N)⋅a_E + (2⋅rot_D⋅rot_N - 2⋅rot_E)⋅a_N + ⎝rot_D  - rot_E  - rot_N\n",
       "──────────────────────────────────────────────────────────────────────────────\n",
       "                                 accel_scale                                  \n",
       "\n",
       "2    ⎞             ⎤\n",
       "  + 1⎠⋅a_D         ⎥\n",
       "────────── - vel̇_D⎥\n",
       "                   ⎦"
      ]
     },
     "execution_count": 5,
     "metadata": {},
     "output_type": "execute_result"
    }
   ],
   "source": [
    "trans_kin_eqs = list((a_n.express(frame_i)/accel_scale - v_i.diff(t, frame_i)).to_matrix(frame_i))\n",
    "trans_kin_eqs"
   ]
  },
  {
   "cell_type": "code",
   "execution_count": 6,
   "metadata": {
    "collapsed": false
   },
   "outputs": [
    {
     "data": {
      "image/png": "[encoded data removed]",
      "text/latex": [
       "$$\\left [ - vel_{N} + \\dot{pos}_{N}, \\quad - vel_{E} + \\dot{pos}_{E}, \\quad - vel_{D} - \\dot{asl}\\right ]$$"
      ],
      "text/plain": [
       "[-vel_N + poṡ_N, -vel_E + poṡ_E, -vel_D - aṡl]"
      ]
     },
     "execution_count": 6,
     "metadata": {},
     "output_type": "execute_result"
    }
   ],
   "source": [
    "nav_eqs = list((p_i.diff(t, frame_i) - v_i).to_matrix(frame_i))\n",
    "nav_eqs"
   ]
  },
  {
   "cell_type": "code",
   "execution_count": 7,
   "metadata": {
    "collapsed": false
   },
   "outputs": [],
   "source": [
    "sub_q = {\n",
    "    (1 + rot_N**2 + rot_E**2 + rot_D**2): 1,\n",
    "    2*(1 + rot_N**2 + rot_E**2 + rot_D**2): 2\n",
    "}"
   ]
  },
  {
   "cell_type": "code",
   "execution_count": 8,
   "metadata": {
    "collapsed": false
   },
   "outputs": [
    {
     "data": {
      "image/png": "[encoded data removed]",
      "text/latex": [
       "$$\\left [ gyro_{biasN} + 2 rot_{D} \\dot{rot}_{E} - 2 rot_{E} \\dot{rot}_{D} + 2 \\dot{rot}_{N}, \\quad gyro_{biasE} - 2 rot_{D} \\dot{rot}_{N} + 2 rot_{N} \\dot{rot}_{D} + 2 \\dot{rot}_{E}, \\quad gyro_{biasD} + 2 rot_{E} \\dot{rot}_{N} - 2 rot_{N} \\dot{rot}_{E} + 2 \\dot{rot}_{D}\\right ]$$"
      ],
      "text/plain": [
       "[gyro_bias_N + 2⋅rot_D⋅roṫ_E - 2⋅rot_E⋅roṫ_D + 2⋅roṫ_N, gyro_bias_E - 2⋅rot\n",
       "_D⋅roṫ_N + 2⋅rot_N⋅roṫ_D + 2⋅roṫ_E, gyro_bias_D + 2⋅rot_E⋅roṫ_N - 2⋅rot_N⋅\n",
       "roṫ_E + 2⋅roṫ_D]"
      ]
     },
     "execution_count": 8,
     "metadata": {},
     "output_type": "execute_result"
    }
   ],
   "source": [
    "rot_kin_eqs = list((frame_n.ang_vel_in(frame_i) - omega_in_n).to_matrix(frame_n))\n",
    "rot_kin_eqs"
   ]
  },
  {
   "cell_type": "code",
   "execution_count": 9,
   "metadata": {
    "collapsed": false
   },
   "outputs": [
    {
     "data": {
      "image/png": "[encoded data removed]",
      "text/latex": [
       "$$\\left [ \\dot{accel}_{scale}, \\quad \\dot{terrain}_{asl}, \\quad \\dot{baro}_{bias}, \\quad \\dot{wind}_{N}, \\quad \\dot{wind}_{E}, \\quad \\dot{wind}_{D}\\right ]$$"
      ],
      "text/plain": [
       "[accel_̇scale, terrai̇nₐₛₗ, baro_̇bias, winḋ_N, winḋ_E, winḋ_D]"
      ]
     },
     "execution_count": 9,
     "metadata": {},
     "output_type": "execute_result"
    }
   ],
   "source": [
    "static_eqs = [\n",
    "    accel_scale.diff(t),\n",
    "    terrain_asl.diff(t),\n",
    "    baro_bias.diff(t),\n",
    "    wind_N.diff(t),\n",
    "    wind_E.diff(t),\n",
    "    wind_D.diff(t)\n",
    "]\n",
    "static_eqs"
   ]
  },
  {
   "cell_type": "code",
   "execution_count": 10,
   "metadata": {
    "collapsed": false
   },
   "outputs": [
    {
     "data": {
      "image/png": "[encoded data removed]",
      "text/latex": [
       "$$\\left [ - \\left(2 rot_{D} \\dot{rot}_{N} - 2 rot_{N} \\dot{rot}_{D} - 2 \\dot{rot}_{E}\\right) I_{wz} + \\left(- 2 rot_{E} \\dot{rot}_{N} + 2 rot_{N} \\dot{rot}_{E} - 2 \\dot{rot}_{D}\\right) I_{wy} - \\dot{gyro}_{biasN}, \\quad \\left(- 2 rot_{D} \\dot{rot}_{E} + 2 rot_{E} \\dot{rot}_{D} - 2 \\dot{rot}_{N}\\right) I_{wz} - \\left(- 2 rot_{E} \\dot{rot}_{N} + 2 rot_{N} \\dot{rot}_{E} - 2 \\dot{rot}_{D}\\right) I_{wx} - \\dot{gyro}_{biasE}, \\quad - \\left(- 2 rot_{D} \\dot{rot}_{E} + 2 rot_{E} \\dot{rot}_{D} - 2 \\dot{rot}_{N}\\right) I_{wy} + \\left(2 rot_{D} \\dot{rot}_{N} - 2 rot_{N} \\dot{rot}_{D} - 2 \\dot{rot}_{E}\\right) I_{wx} - \\dot{gyro}_{biasD}\\right ]$$"
      ],
      "text/plain": [
       "[-(2⋅rot_D⋅roṫ_N - 2⋅rot_N⋅roṫ_D - 2⋅roṫ_E)⋅I_wz + (-2⋅rot_E⋅roṫ_N + 2⋅rot\n",
       "_N⋅roṫ_E - 2⋅roṫ_D)⋅I_wy - gyro_ḃias_N, (-2⋅rot_D⋅roṫ_E + 2⋅rot_E⋅roṫ_D -\n",
       " 2⋅roṫ_N)⋅I_wz - (-2⋅rot_E⋅roṫ_N + 2⋅rot_N⋅roṫ_E - 2⋅roṫ_D)⋅I_wx - gyro_ḃ\n",
       "ias_E, -(-2⋅rot_D⋅roṫ_E + 2⋅rot_E⋅roṫ_D - 2⋅roṫ_N)⋅I_wy + (2⋅rot_D⋅roṫ_N -\n",
       " 2⋅rot_N⋅roṫ_D - 2⋅roṫ_E)⋅I_wx - gyro_ḃias_D]"
      ]
     },
     "execution_count": 10,
     "metadata": {},
     "output_type": "execute_result"
    }
   ],
   "source": [
    "gyro_eqs = list((omega_in_n.diff(t, frame_n) - frame_i.ang_vel_in(frame_n).cross(I_w_n)).to_matrix(frame_n))\n",
    "gyro_eqs"
   ]
  },
  {
   "cell_type": "code",
   "execution_count": 11,
   "metadata": {
    "collapsed": false
   },
   "outputs": [],
   "source": [
    "sol = sympy.solve(rot_kin_eqs + trans_kin_eqs + static_eqs + nav_eqs + gyro_eqs, xe.diff(t))\n",
    "sol = { key:sol[key].subs(sub_q) for key in sol.keys() }\n",
    "xe_dot = sympy.Matrix([ sol[var] for var in xe.diff(t) ]).applyfunc(lambda x: x.subs(sub_q))\n",
    "#xe_dot"
   ]
  },
  {
   "cell_type": "code",
   "execution_count": 12,
   "metadata": {
    "collapsed": false
   },
   "outputs": [],
   "source": [
    "A = xe_dot.jacobian(xe).subs(sub_lin)\n",
    "#A"
   ]
  },
  {
   "cell_type": "code",
   "execution_count": 13,
   "metadata": {
    "collapsed": false
   },
   "outputs": [
    {
     "name": "stdout",
     "output_type": "stream",
     "text": [
      "Matrix<float, Xe::n, Xe::n> A;\n",
      "float x0 = a_D;\n",
      "float x1 = accel_scale;\n",
      "float x2 = 2/x1;\n",
      "float x3 = x0*x2;\n",
      "float x4 = a_E;\n",
      "float x5 = x2*x4;\n",
      "float x6 = a_N;\n",
      "float x7 = x1**(-2);\n",
      "float x8 = x2*x6;\n",
      "float x9 = I_wz;\n",
      "float x10 = I_wy;\n",
      "float x11 = I_wx;\n",
      "A(Xe::rot_N, Xe::gyro_bias_N) = -1/2;\n",
      "A(Xe::rot_E, Xe::gyro_bias_E) = -1/2;\n",
      "A(Xe::rot_D, Xe::gyro_bias_D) = -1/2;\n",
      "A(Xe::vel_N, Xe::rot_E) = x3;\n",
      "A(Xe::vel_N, Xe::rot_D) = -x5;\n",
      "A(Xe::vel_N, Xe::accel_scale) = -x6*x7;\n",
      "A(Xe::vel_E, Xe::rot_N) = -x3;\n",
      "A(Xe::vel_E, Xe::rot_D) = x8;\n",
      "A(Xe::vel_E, Xe::accel_scale) = -x4*x7;\n",
      "A(Xe::vel_D, Xe::rot_N) = x5;\n",
      "A(Xe::vel_D, Xe::rot_E) = -x8;\n",
      "A(Xe::vel_D, Xe::accel_scale) = -x0*x7;\n",
      "A(Xe::gyro_bias_N, Xe::gyro_bias_E) = -x9;\n",
      "A(Xe::gyro_bias_N, Xe::gyro_bias_D) = x10;\n",
      "A(Xe::gyro_bias_E, Xe::gyro_bias_N) = x9;\n",
      "A(Xe::gyro_bias_E, Xe::gyro_bias_D) = -x11;\n",
      "A(Xe::gyro_bias_D, Xe::gyro_bias_N) = -x10;\n",
      "A(Xe::gyro_bias_D, Xe::gyro_bias_E) = x11;\n",
      "A(Xe::pos_N, Xe::vel_N) = 1;\n",
      "A(Xe::pos_E, Xe::vel_E) = 1;\n",
      "A(Xe::asl, Xe::vel_D) = -1;\n"
     ]
    }
   ],
   "source": [
    "matrix_to_code('A', A, 'Xe::', xe, 'Xe::', xe)"
   ]
  },
  {
   "cell_type": "markdown",
   "metadata": {},
   "source": [
    "## Airspeed"
   ]
  },
  {
   "cell_type": "code",
   "execution_count": 14,
   "metadata": {
    "collapsed": false
   },
   "outputs": [],
   "source": [
    "wind_i = wind_N*frame_i.x + wind_E*frame_i.y + wind_D*frame_i.z\n",
    "vel_i = vel_N*frame_i.x + vel_E*frame_i.y + vel_D*frame_i.z"
   ]
  },
  {
   "cell_type": "code",
   "execution_count": 15,
   "metadata": {
    "collapsed": false
   },
   "outputs": [
    {
     "data": {
      "image/png": "[encoded data removed]",
      "text/latex": [
       "$$\\left[\\begin{matrix}\\left(- vel_{D} + wind_{D}\\right) \\left(- \\left(2 rot_{D} rot_{E} + 2 rot_{N}\\right) C_{nb(1, 0)} - \\left(2 rot_{D} rot_{N} - 2 rot_{E}\\right) C_{nb(0, 0)} - \\left(rot^{2}_{D} - rot^{2}_{E} - rot^{2}_{N} + 1\\right) C_{nb(2, 0)}\\right) + \\left(- vel_{E} + wind_{E}\\right) \\left(- \\left(2 rot_{D} rot_{E} - 2 rot_{N}\\right) C_{nb(2, 0)} - \\left(2 rot_{D} + 2 rot_{E} rot_{N}\\right) C_{nb(0, 0)} - \\left(- rot^{2}_{D} + rot^{2}_{E} - rot^{2}_{N} + 1\\right) C_{nb(1, 0)}\\right) + \\left(- vel_{N} + wind_{N}\\right) \\left(- \\left(2 rot_{D} rot_{N} + 2 rot_{E}\\right) C_{nb(2, 0)} - \\left(- 2 rot_{D} + 2 rot_{E} rot_{N}\\right) C_{nb(1, 0)} - \\left(- rot^{2}_{D} - rot^{2}_{E} + rot^{2}_{N} + 1\\right) C_{nb(0, 0)}\\right)\\end{matrix}\\right]$$"
      ],
      "text/plain": [
       "⎡                  ⎛                                                          \n",
       "⎣(-vel_D + wind_D)⋅⎝-(2⋅rot_D⋅rot_E + 2⋅rot_N)⋅C_nb(1, 0) - (2⋅rot_D⋅rot_N - 2\n",
       "\n",
       "                     ⎛     2        2        2    ⎞           ⎞               \n",
       "⋅rot_E)⋅C_nb(0, 0) - ⎝rot_D  - rot_E  - rot_N  + 1⎠⋅C_nb(2, 0)⎠ + (-vel_E + wi\n",
       "\n",
       "      ⎛                                                                       \n",
       "nd_E)⋅⎝-(2⋅rot_D⋅rot_E - 2⋅rot_N)⋅C_nb(2, 0) - (2⋅rot_D + 2⋅rot_E⋅rot_N)⋅C_nb(\n",
       "\n",
       "        ⎛       2        2        2    ⎞           ⎞                     ⎛    \n",
       "0, 0) - ⎝- rot_D  + rot_E  - rot_N  + 1⎠⋅C_nb(1, 0)⎠ + (-vel_N + wind_N)⋅⎝-(2⋅\n",
       "\n",
       "                                                                            ⎛ \n",
       "rot_D⋅rot_N + 2⋅rot_E)⋅C_nb(2, 0) - (-2⋅rot_D + 2⋅rot_E⋅rot_N)⋅C_nb(1, 0) - ⎝-\n",
       "\n",
       "      2        2        2    ⎞           ⎞⎤\n",
       " rot_D  - rot_E  + rot_N  + 1⎠⋅C_nb(0, 0)⎠⎦"
      ]
     },
     "execution_count": 15,
     "metadata": {},
     "output_type": "execute_result"
    }
   ],
   "source": [
    "rel_wind = wind_i - vel_i\n",
    "y_airspeed = sympy.Matrix([rel_wind.dot(-frame_b.x)]).subs(sub_C_nb)\n",
    "y_airspeed"
   ]
  },
  {
   "cell_type": "code",
   "execution_count": 16,
   "metadata": {
    "collapsed": false
   },
   "outputs": [
    {
     "data": {
      "image/png": "[encoded data removed]",
      "text/latex": [
       "$$\\left[\\begin{matrix}- 2 \\left(- vel_{D} + wind_{D}\\right) C_{nb(1, 0)} + 2 \\left(- vel_{E} + wind_{E}\\right) C_{nb(2, 0)}\\\\2 \\left(- vel_{D} + wind_{D}\\right) C_{nb(0, 0)} - 2 \\left(- vel_{N} + wind_{N}\\right) C_{nb(2, 0)}\\\\- 2 \\left(- vel_{E} + wind_{E}\\right) C_{nb(0, 0)} + 2 \\left(- vel_{N} + wind_{N}\\right) C_{nb(1, 0)}\\\\C_{nb(0, 0)}\\\\C_{nb(1, 0)}\\\\C_{nb(2, 0)}\\\\0\\\\0\\\\0\\\\0\\\\0\\\\0\\\\0\\\\0\\\\0\\\\- C_{nb(0, 0)}\\\\- C_{nb(1, 0)}\\\\- C_{nb(2, 0)}\\end{matrix}\\right]$$"
      ],
      "text/plain": [
       "⎡-2⋅(-vel_D + wind_D)⋅C_nb(1, 0) + 2⋅(-vel_E + wind_E)⋅C_nb(2, 0)⎤\n",
       "⎢                                                                ⎥\n",
       "⎢2⋅(-vel_D + wind_D)⋅C_nb(0, 0) - 2⋅(-vel_N + wind_N)⋅C_nb(2, 0) ⎥\n",
       "⎢                                                                ⎥\n",
       "⎢-2⋅(-vel_E + wind_E)⋅C_nb(0, 0) + 2⋅(-vel_N + wind_N)⋅C_nb(1, 0)⎥\n",
       "⎢                                                                ⎥\n",
       "⎢                           C_nb(0, 0)                           ⎥\n",
       "⎢                                                                ⎥\n",
       "⎢                           C_nb(1, 0)                           ⎥\n",
       "⎢                                                                ⎥\n",
       "⎢                           C_nb(2, 0)                           ⎥\n",
       "⎢                                                                ⎥\n",
       "⎢                               0                                ⎥\n",
       "⎢                                                                ⎥\n",
       "⎢                               0                                ⎥\n",
       "⎢                                                                ⎥\n",
       "⎢                               0                                ⎥\n",
       "⎢                                                                ⎥\n",
       "⎢                               0                                ⎥\n",
       "⎢                                                                ⎥\n",
       "⎢                               0                                ⎥\n",
       "⎢                                                                ⎥\n",
       "⎢                               0                                ⎥\n",
       "⎢                                                                ⎥\n",
       "⎢                               0                                ⎥\n",
       "⎢                                                                ⎥\n",
       "⎢                               0                                ⎥\n",
       "⎢                                                                ⎥\n",
       "⎢                               0                                ⎥\n",
       "⎢                                                                ⎥\n",
       "⎢                          -C_nb(0, 0)                           ⎥\n",
       "⎢                                                                ⎥\n",
       "⎢                          -C_nb(1, 0)                           ⎥\n",
       "⎢                                                                ⎥\n",
       "⎣                          -C_nb(2, 0)                           ⎦"
      ]
     },
     "execution_count": 16,
     "metadata": {},
     "output_type": "execute_result"
    }
   ],
   "source": [
    "H_airspeed = y_airspeed.jacobian(xe).subs(sub_lin)\n",
    "H_airspeed.T"
   ]
  },
  {
   "cell_type": "code",
   "execution_count": 17,
   "metadata": {
    "collapsed": false
   },
   "outputs": [
    {
     "name": "stdout",
     "output_type": "stream",
     "text": [
      "Matrix<float, Y_airspeed::n, Xe::n> H;\n",
      "float x0 = C_nb(1, 0);\n",
      "float x1 = 2*vel_D - 2*wind_D;\n",
      "float x2 = C_nb(2, 0);\n",
      "float x3 = 2*vel_E - 2*wind_E;\n",
      "float x4 = C_nb(0, 0);\n",
      "float x5 = 2*vel_N - 2*wind_N;\n",
      "H(Y_airspeed::airspeed, Xe::rot_N) = x0*x1 - x2*x3;\n",
      "H(Y_airspeed::airspeed, Xe::rot_E) = -x1*x4 + x2*x5;\n",
      "H(Y_airspeed::airspeed, Xe::rot_D) = -x0*x5 + x3*x4;\n",
      "H(Y_airspeed::airspeed, Xe::vel_N) = x4;\n",
      "H(Y_airspeed::airspeed, Xe::vel_E) = x0;\n",
      "H(Y_airspeed::airspeed, Xe::vel_D) = x2;\n",
      "H(Y_airspeed::airspeed, Xe::wind_N) = -x4;\n",
      "H(Y_airspeed::airspeed, Xe::wind_E) = -x0;\n",
      "H(Y_airspeed::airspeed, Xe::wind_D) = -x2;\n"
     ]
    }
   ],
   "source": [
    "matrix_to_code('H', H_airspeed,\n",
    "               'Y_airspeed::', [sympy.Symbol('airspeed')],\n",
    "               'Xe::', xe)"
   ]
  },
  {
   "cell_type": "markdown",
   "metadata": {
    "collapsed": true
   },
   "source": [
    "## Distance"
   ]
  },
  {
   "cell_type": "code",
   "execution_count": 18,
   "metadata": {
    "collapsed": false
   },
   "outputs": [
    {
     "data": {
      "image/png": "[encoded data removed]",
      "text/latex": [
       "$$\\frac{agl}{2 C_{nb(0, 2)} rot_{D} rot_{N} - 2 C_{nb(0, 2)} rot_{E} + 2 C_{nb(1, 2)} rot_{D} rot_{E} + 2 C_{nb(1, 2)} rot_{N} + C_{nb(2, 2)} rot^{2}_{D} - C_{nb(2, 2)} rot^{2}_{E} - C_{nb(2, 2)} rot^{2}_{N} + C_{nb(2, 2)}}$$"
      ],
      "text/plain": [
       "                                                                              \n",
       "──────────────────────────────────────────────────────────────────────────────\n",
       "                                                                              \n",
       "2⋅C_nb(0, 2)⋅rot_D⋅rot_N - 2⋅C_nb(0, 2)⋅rot_E + 2⋅C_nb(1, 2)⋅rot_D⋅rot_E + 2⋅C\n",
       "\n",
       "   agl                                                                        \n",
       "──────────────────────────────────────────────────────────────────────────────\n",
       "                                  2                   2                   2   \n",
       "_nb(1, 2)⋅rot_N + C_nb(2, 2)⋅rot_D  - C_nb(2, 2)⋅rot_E  - C_nb(2, 2)⋅rot_N  + \n",
       "\n",
       "          \n",
       "──────────\n",
       "          \n",
       "C_nb(2, 2)"
      ]
     },
     "execution_count": 18,
     "metadata": {},
     "output_type": "execute_result"
    }
   ],
   "source": [
    "d_eq = sympy.solve((d*frame_b.z).dot(frame_i.z).subs(sub_C_nb) - (asl - terrain_asl), d)[0]\n",
    "d_eq.subs(sub_agl)"
   ]
  },
  {
   "cell_type": "code",
   "execution_count": 19,
   "metadata": {
    "collapsed": false
   },
   "outputs": [
    {
     "data": {
      "image/png": "[encoded data removed]",
      "text/latex": [
       "$$\\frac{agl}{C_{nb(2, 2)}}$$"
      ],
      "text/plain": [
       "   agl    \n",
       "──────────\n",
       "C_nb(2, 2)"
      ]
     },
     "execution_count": 19,
     "metadata": {},
     "output_type": "execute_result"
    }
   ],
   "source": [
    "y_dist = sympy.Matrix([d_eq]).subs(sub_C_nb)\n",
    "y_dist[0].subs(sub_lin).subs(sub_agl)"
   ]
  },
  {
   "cell_type": "code",
   "execution_count": 20,
   "metadata": {
    "collapsed": false
   },
   "outputs": [
    {
     "data": {
      "image/png": "[encoded data removed]",
      "text/latex": [
       "$$\\left[\\begin{array}{cccccccccccccccccc}rot_{N} & rot_{E} & rot_{D} & vel_{N} & vel_{E} & vel_{D} & gyro_{biasN} & gyro_{biasE} & gyro_{biasD} & accel_{scale} & pos_{N} & pos_{E} & asl & terrain_{asl} & baro_{bias} & wind_{N} & wind_{E} & wind_{D}\\end{array}\\right]$$"
      ],
      "text/plain": [
       "[rot_N  rot_E  rot_D  vel_N  vel_E  vel_D  gyro_bias_N  gyro_bias_E  gyro_bias\n",
       "_D  accel_scale  pos_N  pos_E  asl  terrainₐₛₗ  baro_bias  wind_N  wind_E  win\n",
       "d_D]"
      ]
     },
     "execution_count": 20,
     "metadata": {},
     "output_type": "execute_result"
    }
   ],
   "source": [
    "xe.T"
   ]
  },
  {
   "cell_type": "code",
   "execution_count": 21,
   "metadata": {
    "collapsed": false
   },
   "outputs": [
    {
     "name": "stdout",
     "output_type": "stream",
     "text": [
      "Matrix<float, Y_distance_down::n, Xe::n> H;\n",
      "float x0 = C_nb(2, 2);\n",
      "float x1 = 2*agl/x0**2;\n",
      "float x2 = 1/x0;\n",
      "H(Y_distance_down::d, Xe::rot_N) = -x1*C_nb(1, 2);\n",
      "H(Y_distance_down::d, Xe::rot_E) = x1*C_nb(0, 2);\n",
      "H(Y_distance_down::d, Xe::asl) = x2;\n",
      "H(Y_distance_down::d, Xe::terrain_asl) = -x2;\n"
     ]
    }
   ],
   "source": [
    "H_distance = y_dist.jacobian(xe).subs(sub_lin).subs(sub_agl)\n",
    "H_distance.T\n",
    "matrix_to_code('H', H_distance, 'Y_distance_down::',\n",
    "               [sympy.symbols('d')], 'Xe::', xe)"
   ]
  },
  {
   "cell_type": "markdown",
   "metadata": {},
   "source": [
    "## Optical Flow"
   ]
  },
  {
   "cell_type": "code",
   "execution_count": 22,
   "metadata": {
    "collapsed": false
   },
   "outputs": [],
   "source": [
    "y_flow_sym = [flowX, flowY]\n",
    "omega_b = (omega_ib_b - gyro_bias_i).express(frame_b)"
   ]
  },
  {
   "cell_type": "code",
   "execution_count": 23,
   "metadata": {
    "collapsed": false
   },
   "outputs": [],
   "source": [
    "vel_f_b = -vel_i - omega_b.cross(d_eq*frame_b.z)\n",
    "y_flow = sympy.Matrix([\n",
    "    vel_f_b.dot(frame_b.x)/d_eq,\n",
    "    vel_f_b.dot(frame_b.y)/d_eq,\n",
    "    ]).subs(sub_C_nb)"
   ]
  },
  {
   "cell_type": "code",
   "execution_count": 24,
   "metadata": {
    "collapsed": false
   },
   "outputs": [
    {
     "name": "stdout",
     "output_type": "stream",
     "text": [
      "Matrix<float, Y_flow::n, Xe::n> y_flow_lin;\n",
      "float x0 = agl;\n",
      "float x1 = 1/x0;\n",
      "float x2 = C_nb(2, 2);\n",
      "float x3 = vel_N;\n",
      "float x4 = vel_E;\n",
      "float x5 = vel_D;\n",
      "y_flow_lin(Y_flow::flowX, Xe::rot_N) = -x1*(x0*omega_by + x2*(x3*C_nb(0, 0) + x4*C_nb(1, 0) + x5*C_nb(2, 0)));\n",
      "y_flow_lin(Y_flow::flowY, Xe::rot_N) = x1*(x0*omega_bx - x2*(x3*C_nb(0, 1) + x4*C_nb(1, 1) + x5*C_nb(2, 1)));\n"
     ]
    }
   ],
   "source": [
    "y_flow_lin = y_flow.subs(sub_lin).subs(sub_agl).subs(sub_C_nb)\n",
    "y_flow_lin.simplify()\n",
    "matrix_to_code('y_flow_lin', y_flow_lin, 'Y_flow::', y_flow_sym, 'Xe::', xe)"
   ]
  },
  {
   "cell_type": "code",
   "execution_count": 25,
   "metadata": {
    "collapsed": false
   },
   "outputs": [
    {
     "data": {
      "image/png": "[encoded data removed]",
      "text/latex": [
       "$$\\left[\\begin{array}{cccccccccccccccccc}\\frac{C_{nb(2, 2)}}{agl} \\left(- 2 C_{nb(1, 0)} vel_{D} + \\frac{2 C_{nb(1, 2)} agl}{C^{2}_{nb(2, 2)}} \\omega_{by} + 2 C_{nb(2, 0)} vel_{E}\\right) + \\frac{2}{agl} \\left(- C_{nb(0, 0)} vel_{N} - C_{nb(1, 0)} vel_{E} - C_{nb(2, 0)} vel_{D} - \\frac{agl \\omega_{by}}{C_{nb(2, 2)}}\\right) C_{nb(1, 2)} & \\frac{C_{nb(2, 2)}}{agl} \\left(2 C_{nb(0, 0)} vel_{D} - \\frac{2 C_{nb(0, 2)} agl}{C^{2}_{nb(2, 2)}} \\omega_{by} - 2 C_{nb(2, 0)} vel_{N}\\right) - \\frac{2}{agl} \\left(- C_{nb(0, 0)} vel_{N} - C_{nb(1, 0)} vel_{E} - C_{nb(2, 0)} vel_{D} - \\frac{agl \\omega_{by}}{C_{nb(2, 2)}}\\right) C_{nb(0, 2)} & \\frac{C_{nb(2, 2)}}{agl} \\left(- 2 C_{nb(0, 0)} vel_{E} + 2 C_{nb(1, 0)} vel_{N}\\right) & - \\frac{C_{nb(0, 0)}}{agl} C_{nb(2, 2)} & - \\frac{C_{nb(1, 0)}}{agl} C_{nb(2, 2)} & - \\frac{C_{nb(2, 0)}}{agl} C_{nb(2, 2)} & C_{nb(0, 1)} & C_{nb(1, 1)} & C_{nb(2, 1)} & 0 & 0 & 0 & - \\frac{C_{nb(2, 2)}}{agl^{2}} \\left(- C_{nb(0, 0)} vel_{N} - C_{nb(1, 0)} vel_{E} - C_{nb(2, 0)} vel_{D} - \\frac{agl \\omega_{by}}{C_{nb(2, 2)}}\\right) - \\frac{\\omega_{by}}{agl} & \\frac{C_{nb(2, 2)}}{agl^{2}} \\left(- C_{nb(0, 0)} vel_{N} - C_{nb(1, 0)} vel_{E} - C_{nb(2, 0)} vel_{D} - \\frac{agl \\omega_{by}}{C_{nb(2, 2)}}\\right) + \\frac{\\omega_{by}}{agl} & 0 & 0 & 0 & 0\\\\\\frac{C_{nb(2, 2)}}{agl} \\left(- 2 C_{nb(1, 1)} vel_{D} - \\frac{2 C_{nb(1, 2)} agl}{C^{2}_{nb(2, 2)}} \\omega_{bx} + 2 C_{nb(2, 1)} vel_{E}\\right) + \\frac{2}{agl} \\left(- C_{nb(0, 1)} vel_{N} - C_{nb(1, 1)} vel_{E} - C_{nb(2, 1)} vel_{D} + \\frac{agl \\omega_{bx}}{C_{nb(2, 2)}}\\right) C_{nb(1, 2)} & \\frac{C_{nb(2, 2)}}{agl} \\left(2 C_{nb(0, 1)} vel_{D} + \\frac{2 C_{nb(0, 2)} agl}{C^{2}_{nb(2, 2)}} \\omega_{bx} - 2 C_{nb(2, 1)} vel_{N}\\right) - \\frac{2}{agl} \\left(- C_{nb(0, 1)} vel_{N} - C_{nb(1, 1)} vel_{E} - C_{nb(2, 1)} vel_{D} + \\frac{agl \\omega_{bx}}{C_{nb(2, 2)}}\\right) C_{nb(0, 2)} & \\frac{C_{nb(2, 2)}}{agl} \\left(- 2 C_{nb(0, 1)} vel_{E} + 2 C_{nb(1, 1)} vel_{N}\\right) & - \\frac{C_{nb(0, 1)}}{agl} C_{nb(2, 2)} & - \\frac{C_{nb(1, 1)}}{agl} C_{nb(2, 2)} & - \\frac{C_{nb(2, 1)}}{agl} C_{nb(2, 2)} & - C_{nb(0, 0)} & - C_{nb(1, 0)} & - C_{nb(2, 0)} & 0 & 0 & 0 & - \\frac{C_{nb(2, 2)}}{agl^{2}} \\left(- C_{nb(0, 1)} vel_{N} - C_{nb(1, 1)} vel_{E} - C_{nb(2, 1)} vel_{D} + \\frac{agl \\omega_{bx}}{C_{nb(2, 2)}}\\right) + \\frac{\\omega_{bx}}{agl} & \\frac{C_{nb(2, 2)}}{agl^{2}} \\left(- C_{nb(0, 1)} vel_{N} - C_{nb(1, 1)} vel_{E} - C_{nb(2, 1)} vel_{D} + \\frac{agl \\omega_{bx}}{C_{nb(2, 2)}}\\right) - \\frac{\\omega_{bx}}{agl} & 0 & 0 & 0 & 0\\end{array}\\right]$$"
      ],
      "text/plain": [
       "⎡⎛                      2⋅C_nb(1, 2)⋅agl⋅ω_by                     ⎞           \n",
       "⎢⎜-2⋅C_nb(1, 0)⋅vel_D + ───────────────────── + 2⋅C_nb(2, 0)⋅vel_E⎟⋅C_nb(2, 2)\n",
       "⎢⎜                                     2                          ⎟           \n",
       "⎢⎝                           C_nb(2, 2)                           ⎠           \n",
       "⎢─────────────────────────────────────────────────────────────────────────────\n",
       "⎢                                     agl                                     \n",
       "⎢                                                                             \n",
       "⎢                                                                             \n",
       "⎢⎛                      2⋅C_nb(1, 2)⋅agl⋅ω_bx                     ⎞           \n",
       "⎢⎜-2⋅C_nb(1, 1)⋅vel_D - ───────────────────── + 2⋅C_nb(2, 1)⋅vel_E⎟⋅C_nb(2, 2)\n",
       "⎢⎜                                     2                          ⎟           \n",
       "⎢⎝                           C_nb(2, 2)                           ⎠           \n",
       "⎢─────────────────────────────────────────────────────────────────────────────\n",
       "⎢                                     agl                                     \n",
       "⎣                                                                             \n",
       "\n",
       "                                                                              \n",
       "     ⎛                                                           agl⋅ω_by ⎞   \n",
       "   2⋅⎜-C_nb(0, 0)⋅vel_N - C_nb(1, 0)⋅vel_E - C_nb(2, 0)⋅vel_D - ──────────⎟⋅C_\n",
       "     ⎝                                                          C_nb(2, 2)⎠   \n",
       " + ───────────────────────────────────────────────────────────────────────────\n",
       "                                           agl                                \n",
       "                                                                              \n",
       "                                                                              \n",
       "                                                                              \n",
       "     ⎛                                                           agl⋅ω_bx ⎞   \n",
       "   2⋅⎜-C_nb(0, 1)⋅vel_N - C_nb(1, 1)⋅vel_E - C_nb(2, 1)⋅vel_D + ──────────⎟⋅C_\n",
       "     ⎝                                                          C_nb(2, 2)⎠   \n",
       " + ───────────────────────────────────────────────────────────────────────────\n",
       "                                           agl                                \n",
       "                                                                              \n",
       "\n",
       "          ⎛                     2⋅C_nb(0, 2)⋅agl⋅ω_by                     ⎞   \n",
       "          ⎜2⋅C_nb(0, 0)⋅vel_D - ───────────────────── - 2⋅C_nb(2, 0)⋅vel_N⎟⋅C_\n",
       "nb(1, 2)  ⎜                                    2                          ⎟   \n",
       "          ⎝                          C_nb(2, 2)                           ⎠   \n",
       "────────  ────────────────────────────────────────────────────────────────────\n",
       "                                              agl                             \n",
       "                                                                              \n",
       "                                                                              \n",
       "          ⎛                     2⋅C_nb(0, 2)⋅agl⋅ω_bx                     ⎞   \n",
       "          ⎜2⋅C_nb(0, 1)⋅vel_D + ───────────────────── - 2⋅C_nb(2, 1)⋅vel_N⎟⋅C_\n",
       "nb(1, 2)  ⎜                                    2                          ⎟   \n",
       "          ⎝                          C_nb(2, 2)                           ⎠   \n",
       "────────  ────────────────────────────────────────────────────────────────────\n",
       "                                              agl                             \n",
       "                                                                              \n",
       "\n",
       "                                                                              \n",
       "nb(2, 2)     ⎛                                                           agl⋅ω\n",
       "           2⋅⎜-C_nb(0, 0)⋅vel_N - C_nb(1, 0)⋅vel_E - C_nb(2, 0)⋅vel_D - ──────\n",
       "             ⎝                                                          C_nb(2\n",
       "──────── - ───────────────────────────────────────────────────────────────────\n",
       "                                                   agl                        \n",
       "                                                                              \n",
       "                                                                              \n",
       "                                                                              \n",
       "nb(2, 2)     ⎛                                                           agl⋅ω\n",
       "           2⋅⎜-C_nb(0, 1)⋅vel_N - C_nb(1, 1)⋅vel_E - C_nb(2, 1)⋅vel_D + ──────\n",
       "             ⎝                                                          C_nb(2\n",
       "──────── - ───────────────────────────────────────────────────────────────────\n",
       "                                                   agl                        \n",
       "                                                                              \n",
       "\n",
       "                                                                              \n",
       "_by ⎞                                                                         \n",
       "────⎟⋅C_nb(0, 2)                                                              \n",
       ", 2)⎠             (-2⋅C_nb(0, 0)⋅vel_E + 2⋅C_nb(1, 0)⋅vel_N)⋅C_nb(2, 2)  -C_nb\n",
       "────────────────  ─────────────────────────────────────────────────────  ─────\n",
       "                                           agl                                \n",
       "                                                                              \n",
       "                                                                              \n",
       "                                                                              \n",
       "_bx ⎞                                                                         \n",
       "────⎟⋅C_nb(0, 2)                                                              \n",
       ", 2)⎠             (-2⋅C_nb(0, 1)⋅vel_E + 2⋅C_nb(1, 1)⋅vel_N)⋅C_nb(2, 2)  -C_nb\n",
       "────────────────  ─────────────────────────────────────────────────────  ─────\n",
       "                                           agl                                \n",
       "                                                                              \n",
       "\n",
       "                                                                              \n",
       "                                                                              \n",
       "                                                                              \n",
       "(0, 0)⋅C_nb(2, 2)   -C_nb(1, 0)⋅C_nb(2, 2)   -C_nb(2, 0)⋅C_nb(2, 2)           \n",
       "──────────────────  ───────────────────────  ───────────────────────  C_nb(0, \n",
       "     agl                      agl                      agl                    \n",
       "                                                                              \n",
       "                                                                              \n",
       "                                                                              \n",
       "                                                                              \n",
       "                                                                              \n",
       "(0, 1)⋅C_nb(2, 2)   -C_nb(1, 1)⋅C_nb(2, 2)   -C_nb(2, 1)⋅C_nb(2, 2)           \n",
       "──────────────────  ───────────────────────  ───────────────────────  -C_nb(0,\n",
       "     agl                      agl                      agl                    \n",
       "                                                                              \n",
       "\n",
       "                                                                              \n",
       "                                          ⎛                                   \n",
       "                                          ⎜-C_nb(0, 0)⋅vel_N - C_nb(1, 0)⋅vel_\n",
       "                                          ⎝                                   \n",
       "1)   C_nb(1, 1)   C_nb(2, 1)   0  0  0  - ────────────────────────────────────\n",
       "                                                                              \n",
       "                                                                              \n",
       "                                                                              \n",
       "                                                                              \n",
       "                                          ⎛                                   \n",
       "                                          ⎜-C_nb(0, 1)⋅vel_N - C_nb(1, 1)⋅vel_\n",
       "                                          ⎝                                   \n",
       " 0)  -C_nb(1, 0)  -C_nb(2, 0)  0  0  0  - ────────────────────────────────────\n",
       "                                                                              \n",
       "                                                                              \n",
       "\n",
       "                                                                              \n",
       "                        agl⋅ω_by ⎞                    ⎛                       \n",
       "E - C_nb(2, 0)⋅vel_D - ──────────⎟⋅C_nb(2, 2)         ⎜-C_nb(0, 0)⋅vel_N - C_n\n",
       "                       C_nb(2, 2)⎠              ω_by  ⎝                       \n",
       "───────────────────────────────────────────── - ────  ────────────────────────\n",
       "      2                                         agl                           \n",
       "   agl                                                                        \n",
       "                                                                              \n",
       "                                                                              \n",
       "                        agl⋅ω_bx ⎞                    ⎛                       \n",
       "E - C_nb(2, 1)⋅vel_D + ──────────⎟⋅C_nb(2, 2)         ⎜-C_nb(0, 1)⋅vel_N - C_n\n",
       "                       C_nb(2, 2)⎠              ω_bx  ⎝                       \n",
       "───────────────────────────────────────────── + ────  ────────────────────────\n",
       "      2                                         agl                           \n",
       "   agl                                                                        \n",
       "\n",
       "                                                                            ⎤\n",
       "                                    agl⋅ω_by ⎞                              ⎥\n",
       "b(1, 0)⋅vel_E - C_nb(2, 0)⋅vel_D - ──────────⎟⋅C_nb(2, 2)                   ⎥\n",
       "                                   C_nb(2, 2)⎠              ω_by            ⎥\n",
       "───────────────────────────────────────────────────────── + ────  0  0  0  0⎥\n",
       "                  2                                         agl             ⎥\n",
       "               agl                                                          ⎥\n",
       "                                                                            ⎥\n",
       "                                                                            ⎥\n",
       "                                    agl⋅ω_bx ⎞                              ⎥\n",
       "b(1, 1)⋅vel_E - C_nb(2, 1)⋅vel_D + ──────────⎟⋅C_nb(2, 2)                   ⎥\n",
       "                                   C_nb(2, 2)⎠              ω_bx            ⎥\n",
       "───────────────────────────────────────────────────────── - ────  0  0  0  0⎥\n",
       "                  2                                         agl             ⎥\n",
       "               agl                                                          ⎦"
      ]
     },
     "execution_count": 25,
     "metadata": {},
     "output_type": "execute_result"
    }
   ],
   "source": [
    "H_flow = y_flow.jacobian(xe).subs(sub_lin).subs(sub_agl)\n",
    "H_flow"
   ]
  },
  {
   "cell_type": "code",
   "execution_count": 26,
   "metadata": {
    "collapsed": false
   },
   "outputs": [],
   "source": [
    "P = sympy.diag(*[sympy.Symbol('var_' + str(xi)) for xi in xe])\n",
    "R = sympy.diag(*[flowX, flowY])\n",
    "#P = sympy.MatrixSymbol('P', len(xe), len(xe))\n",
    "#R = sympy.MatrixSymbol('R', 2, 2)\n",
    "S = H_flow * P * H_flow.T + R\n",
    "S.simplify()"
   ]
  },
  {
   "cell_type": "code",
   "execution_count": 27,
   "metadata": {
    "collapsed": false
   },
   "outputs": [
    {
     "name": "stdout",
     "output_type": "stream",
     "text": [
      "Matrix<float, Y_flow::n, Y_flow::n> S;\n",
      "float x0 = C_nb(2, 2);\n",
      "float x1 = x0**2;\n",
      "float x2 = agl;\n",
      "float x3 = x2**4;\n",
      "float x4 = x0**4;\n",
      "float x5 = C_nb(0, 0);\n",
      "float x6 = vel_N;\n",
      "float x7 = C_nb(1, 0);\n",
      "float x8 = vel_E;\n",
      "float x9 = C_nb(2, 0);\n",
      "float x10 = vel_D;\n",
      "float x11 = x10*x9 + x5*x6 + x7*x8;\n",
      "float x12 = x2**2;\n",
      "float x13 = C_nb(0, 2);\n",
      "float x14 = x2*omega_by;\n",
      "float x15 = x0*x11 + x14;\n",
      "float x16 = C_nb(1, 2);\n",
      "S(Y_flow::flowX, Y_flow::flowX) = (x1*x3*(var_gyro_bias_D*C_nb(2, 1)**2 + var_gyro_bias_E*C_nb(1, 1)**2 + var_gyro_bias_N*C_nb(0, 1)**2 + flowX) + x11**2*x4*(var_asl + var_terrain_asl) + x12*x4*(4*var_rot_D*(x5*x8 - x6*x7)**2 + var_vel_D*x9**2 + var_vel_E*x7**2 + var_vel_N*x5**2) + 4*x12*(var_rot_E*(x1*(x10*x5 - x6*x9) - x13*x14 + x13*x15)**2 + var_rot_N*(x1*(x10*x7 - x8*x9) - x14*x16 + x15*x16)**2))/(x1*x3);\n"
     ]
    }
   ],
   "source": [
    "matrix_to_code('S', sympy.diag(S[0,0]), 'Y_flow::', y_flow_sym, 'Y_flow::', y_flow_sym,)"
   ]
  },
  {
   "cell_type": "code",
   "execution_count": 28,
   "metadata": {
    "collapsed": false
   },
   "outputs": [
    {
     "name": "stdout",
     "output_type": "stream",
     "text": [
      "Matrix<float, Y_flow::n, Xe::n> H;\n",
      "float x0 = agl;\n",
      "float x1 = 1/x0;\n",
      "float x2 = 2*C_nb(1, 2);\n",
      "float x3 = C_nb(0, 0);\n",
      "float x4 = vel_N;\n",
      "float x5 = x3*x4;\n",
      "float x6 = C_nb(1, 0);\n",
      "float x7 = vel_E;\n",
      "float x8 = x6*x7;\n",
      "float x9 = C_nb(2, 2);\n",
      "float x10 = vel_D;\n",
      "float x11 = 2*x10*x9;\n",
      "float x12 = C_nb(2, 0);\n",
      "float x13 = x10*x12;\n",
      "float x14 = 2*x7*x9;\n",
      "float x15 = 2*x1;\n",
      "float x16 = C_nb(0, 2);\n",
      "float x17 = x10*x9;\n",
      "float x18 = x4*x9;\n",
      "float x19 = 2*x1*x9;\n",
      "float x20 = x1*x9;\n",
      "float x21 = C_nb(0, 1);\n",
      "float x22 = C_nb(1, 1);\n",
      "float x23 = C_nb(2, 1);\n",
      "float x24 = x9/x0**2;\n",
      "float x25 = x24*(x13 + x5 + x8);\n",
      "float x26 = x21*x4;\n",
      "float x27 = x22*x7;\n",
      "float x28 = x10*x23;\n",
      "float x29 = x24*(x26 + x27 + x28);\n",
      "H(Y_flow::flowX, Xe::rot_N) = x1*(-x11*x6 + x12*x14 - x13*x2 - x2*x5 - x2*x8);\n",
      "H(Y_flow::flowX, Xe::rot_E) = x15*(-x12*x18 + x13*x16 + x16*x5 + x16*x8 + x17*x3);\n",
      "H(Y_flow::flowX, Xe::rot_D) = -x19*(x3*x7 - x4*x6);\n",
      "H(Y_flow::flowX, Xe::vel_N) = -x20*x3;\n",
      "H(Y_flow::flowX, Xe::vel_E) = -x20*x6;\n",
      "H(Y_flow::flowX, Xe::vel_D) = -x12*x20;\n",
      "H(Y_flow::flowX, Xe::gyro_bias_N) = x21;\n",
      "H(Y_flow::flowX, Xe::gyro_bias_E) = x22;\n",
      "H(Y_flow::flowX, Xe::gyro_bias_D) = x23;\n",
      "H(Y_flow::flowX, Xe::asl) = x25;\n",
      "H(Y_flow::flowX, Xe::terrain_asl) = -x25;\n",
      "H(Y_flow::flowY, Xe::rot_N) = x1*(-x11*x22 + x14*x23 - x2*x26 - x2*x27 - x2*x28);\n",
      "H(Y_flow::flowY, Xe::rot_E) = x15*(x16*x26 + x16*x27 + x16*x28 + x17*x21 - x18*x23);\n",
      "H(Y_flow::flowY, Xe::rot_D) = -x19*(x21*x7 - x22*x4);\n",
      "H(Y_flow::flowY, Xe::vel_N) = -x20*x21;\n",
      "H(Y_flow::flowY, Xe::vel_E) = -x20*x22;\n",
      "H(Y_flow::flowY, Xe::vel_D) = -x20*x23;\n",
      "H(Y_flow::flowY, Xe::gyro_bias_N) = -x3;\n",
      "H(Y_flow::flowY, Xe::gyro_bias_E) = -x6;\n",
      "H(Y_flow::flowY, Xe::gyro_bias_D) = -x12;\n",
      "H(Y_flow::flowY, Xe::asl) = x29;\n",
      "H(Y_flow::flowY, Xe::terrain_asl) = -x29;\n"
     ]
    }
   ],
   "source": [
    "matrix_to_code('H', H_flow, 'Y_flow::', y_flow_sym, 'Xe::', xe)"
   ]
  },
  {
   "cell_type": "markdown",
   "metadata": {},
   "source": [
    "## Attitude"
   ]
  },
  {
   "cell_type": "code",
   "execution_count": 29,
   "metadata": {
    "collapsed": false
   },
   "outputs": [
    {
     "data": {
      "image/png": "[encoded data removed]",
      "text/latex": [
       "$$\\left[\\begin{array}{cccccccccccccccccc}1 & 0 & 0 & 0 & 0 & 0 & 0 & 0 & 0 & 0 & 0 & 0 & 0 & 0 & 0 & 0 & 0 & 0\\\\0 & 1 & 0 & 0 & 0 & 0 & 0 & 0 & 0 & 0 & 0 & 0 & 0 & 0 & 0 & 0 & 0 & 0\\\\0 & 0 & 1 & 0 & 0 & 0 & 0 & 0 & 0 & 0 & 0 & 0 & 0 & 0 & 0 & 0 & 0 & 0\\end{array}\\right]$$"
      ],
      "text/plain": [
       "⎡1  0  0  0  0  0  0  0  0  0  0  0  0  0  0  0  0  0⎤\n",
       "⎢                                                    ⎥\n",
       "⎢0  1  0  0  0  0  0  0  0  0  0  0  0  0  0  0  0  0⎥\n",
       "⎢                                                    ⎥\n",
       "⎣0  0  1  0  0  0  0  0  0  0  0  0  0  0  0  0  0  0⎦"
      ]
     },
     "execution_count": 29,
     "metadata": {},
     "output_type": "execute_result"
    }
   ],
   "source": [
    "y_attitude = sympy.Matrix([\n",
    "        rot_N, rot_E, rot_D\n",
    "    ])\n",
    "H_attitude = y_attitude.jacobian(xe).subs(sub_lin).subs(sub_agl)\n",
    "H_attitude"
   ]
  }
 ],
 "metadata": {
  "anaconda-cloud": {},
  "kernelspec": {
   "display_name": "Python [conda root]",
   "language": "python",
   "name": "conda-root-py"
  },
  "language_info": {
   "codemirror_mode": {
    "name": "ipython",
    "version": 3
   },
   "file_extension": ".py",
   "mimetype": "text/x-python",
   "name": "python",
   "nbconvert_exporter": "python",
   "pygments_lexer": "ipython3",
   "version": "3.5.2"
  }
 },
 "nbformat": 4,
 "nbformat_minor": 1
}
