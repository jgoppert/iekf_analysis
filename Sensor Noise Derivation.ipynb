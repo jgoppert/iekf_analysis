{
 "cells": [
  {
   "cell_type": "code",
   "execution_count": 47,
   "metadata": {
    "collapsed": true
   },
   "outputs": [],
   "source": [
    "import sympy\n",
    "sympy.init_printing()"
   ]
  },
  {
   "cell_type": "code",
   "execution_count": 48,
   "metadata": {
    "collapsed": false
   },
   "outputs": [],
   "source": [
    "t0, t1, tau, Q, P, dt, T = sympy.symbols(\n",
    "    't0, t1, tau, Q, P, \\Delta_t, T',\n",
    "    real=True, positive=True)"
   ]
  },
  {
   "cell_type": "code",
   "execution_count": 49,
   "metadata": {
    "collapsed": false
   },
   "outputs": [],
   "source": [
    "def Phi(t, tau):\n",
    "    return sympy.exp(-(t - tau)/T)"
   ]
  },
  {
   "cell_type": "code",
   "execution_count": 61,
   "metadata": {
    "collapsed": false
   },
   "outputs": [
    {
     "data": {
      "image/png": "[encoded data removed]",
      "text/latex": [
       "$$- \\frac{Q T}{2} \\left(-1 + e^{- 2 \\Delta_t}\\right)$$"
      ],
      "text/plain": [
       "     ⎛      -2⋅\\Deltaₜ⎞ \n",
       "-Q⋅T⋅⎝-1 + ℯ          ⎠ \n",
       "────────────────────────\n",
       "           2            "
      ]
     },
     "execution_count": 61,
     "metadata": {},
     "output_type": "execute_result"
    }
   ],
   "source": [
    "Q_d = sympy.integrate(Phi(t1, tau)*Q*Phi(t1, tau),\n",
    "                    (tau, t0, t1)).simplify()\n",
    "simp_subs = {\n",
    "    2*(t1 - t0): 2*dt,\n",
    "    (2*t0 - 2*t1)/T: -2*dt\n",
    "}\n",
    "Q_d = Q_d.simplify().subs(simp_subs)\n",
    "Q_d"
   ]
  }
 ],
 "metadata": {
  "anaconda-cloud": {},
  "kernelspec": {
   "display_name": "Python [conda root]",
   "language": "python",
   "name": "conda-root-py"
  },
  "language_info": {
   "codemirror_mode": {
    "name": "ipython",
    "version": 3
   },
   "file_extension": ".py",
   "mimetype": "text/x-python",
   "name": "python",
   "nbconvert_exporter": "python",
   "pygments_lexer": "ipython3",
   "version": "3.5.2"
  }
 },
 "nbformat": 4,
 "nbformat_minor": 1
}
