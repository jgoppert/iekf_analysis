{
 "cells": [
  {
   "cell_type": "code",
   "execution_count": null,
   "metadata": {},
   "outputs": [],
   "source": [
    "%pylab inline\n",
    "import px4tools"
   ]
  },
  {
   "cell_type": "code",
   "execution_count": null,
   "metadata": {},
   "outputs": [],
   "source": [
    "d = px4tools.ulog.cached_log_processing(\n",
    "    log='/home/jgoppert/git/px4/src/px4/build_posix_sitl_default/'\n",
    "    'tmp/rootfs/fs/microsd/log/2017-01-25/07_18_50.ulg',\n",
    "    msg_filter='',\n",
    "    processing_func=lambda x: x,\n",
    "    save_path='./logs/2017-01-25-sitl-mission-uneven.pkl',\n",
    "    force_processing=False)\n",
    "dt = 0.01\n",
    "d = d.concat(dt=dt).ffill().bfill()\n",
    "d = px4tools.ulog.compute_data(d)"
   ]
  },
  {
   "cell_type": "code",
   "execution_count": null,
   "metadata": {
    "scrolled": false
   },
   "outputs": [],
   "source": [
    "px4tools.estimator_analysis(d)\n",
    "plt.gcf().autofmt_xdate()"
   ]
  },
  {
   "cell_type": "code",
   "execution_count": null,
   "metadata": {},
   "outputs": [],
   "source": [
    "d.t_vehicle_local_position_0__f_speed.plot()\n",
    "plt.gcf().autofmt_xdate()\n",
    "plt.ylabel('speed, m/s')\n",
    "plt.xlabel('time')\n",
    "plt.grid()"
   ]
  },
  {
   "cell_type": "code",
   "execution_count": null,
   "metadata": {},
   "outputs": [],
   "source": [
    "path_length = d.t_vehicle_local_position_0__f_speed.sum()*0.1\n",
    "path_length"
   ]
  },
  {
   "cell_type": "code",
   "execution_count": null,
   "metadata": {},
   "outputs": [],
   "source": [
    "d.t_vehicle_local_position_0__f_vx_error.plot(label='vx error')\n",
    "d.t_vehicle_local_position_0__f_vy_error.plot(label='vy error')\n",
    "plt.legend(ncol=2, loc='best')\n",
    "plt.grid()\n",
    "plt.gcf().autofmt_xdate()"
   ]
  }
 ],
 "metadata": {
  "anaconda-cloud": {},
  "kernelspec": {
   "display_name": "Python [conda env:px4]",
   "language": "python",
   "name": "conda-env-px4-py"
  },
  "language_info": {
   "codemirror_mode": {
    "name": "ipython",
    "version": 3
   },
   "file_extension": ".py",
   "mimetype": "text/x-python",
   "name": "python",
   "nbconvert_exporter": "python",
   "pygments_lexer": "ipython3",
   "version": "3.5.3"
  },
  "latex_envs": {
   "LaTeX_envs_menu_present": true,
   "autocomplete": true,
   "bibliofile": "biblio.bib",
   "cite_by": "apalike",
   "current_citInitial": 1,
   "eqLabelWithNumbers": true,
   "eqNumInitial": 1,
   "hotkeys": {
    "equation": "Ctrl-E",
    "itemize": "Ctrl-I"
   },
   "labels_anchors": false,
   "latex_user_defs": false,
   "report_style_numbering": false,
   "user_envs_cfg": false
  },
  "toc": {
   "colors": {
    "hover_highlight": "#DAA520",
    "running_highlight": "#FF0000",
    "selected_highlight": "#FFD700"
   },
   "moveMenuLeft": true,
   "nav_menu": {
    "height": "12px",
    "width": "252px"
   },
   "navigate_menu": true,
   "number_sections": true,
   "sideBar": true,
   "threshold": 4,
   "toc_cell": false,
   "toc_section_display": "block",
   "toc_window_display": false,
   "widenNotebook": false
  }
 },
 "nbformat": 4,
 "nbformat_minor": 1
}
