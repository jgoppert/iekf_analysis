{
 "cells": [
  {
   "cell_type": "code",
   "execution_count": 1,
   "metadata": {
    "collapsed": false
   },
   "outputs": [
    {
     "ename": "SyntaxError",
     "evalue": "invalid syntax (<ipython-input-1-4053c9373e0b>, line 1)",
     "output_type": "error",
     "traceback": [
      "\u001b[0;36m  File \u001b[0;32m\"<ipython-input-1-4053c9373e0b>\"\u001b[0;36m, line \u001b[0;32m1\u001b[0m\n\u001b[0;31m    1e+06\t210983\t-6.68285e+06\t1e+06\t26037.2\t1e+06\u001b[0m\n\u001b[0m         \t     ^\u001b[0m\n\u001b[0;31mSyntaxError\u001b[0m\u001b[0;31m:\u001b[0m invalid syntax\n"
     ]
    }
   ],
   "source": [
    "[1e+06\t210983\t-6.68285e+06\t1e+06\t26037.2\t1e+06\n",
    "[210983\t1e+06\t1e+06\t27264.7\t1e+06\t-240205\n",
    "\t-6.68285e+06\t1e+06\t230848\t-827861\t177842\t-42336.3\n",
    "\t1e+06\t27264.7\t-827861\t1e+06\t3361.8\t152544\n",
    "\t26037.2\t1e+06\t177842\t3361.8\t1e+06\t-29275.4\n",
    "\t1e+06\t-240205\t-42336.3\t152544\t-29275.4\t7766.84]\n"
   ]
  },
  {
   "cell_type": "code",
   "execution_count": null,
   "metadata": {
    "collapsed": true
   },
   "outputs": [],
   "source": []
  }
 ],
 "metadata": {
  "anaconda-cloud": {},
  "kernelspec": {
   "display_name": "Python [conda root]",
   "language": "python",
   "name": "conda-root-py"
  },
  "language_info": {
   "codemirror_mode": {
    "name": "ipython",
    "version": 3
   },
   "file_extension": ".py",
   "mimetype": "text/x-python",
   "name": "python",
   "nbconvert_exporter": "python",
   "pygments_lexer": "ipython3",
   "version": "3.5.2"
  }
 },
 "nbformat": 4,
 "nbformat_minor": 1
}
